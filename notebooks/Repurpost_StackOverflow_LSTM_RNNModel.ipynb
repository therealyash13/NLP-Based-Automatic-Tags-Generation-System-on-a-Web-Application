{
  "cells": [
    {
      "cell_type": "markdown",
      "metadata": {
        "id": "mTMDkffWSky-",
        "papermill": {
          "duration": 0.063129,
          "end_time": "2021-03-23T09:39:41.406265",
          "exception": false,
          "start_time": "2021-03-23T09:39:41.343136",
          "status": "completed"
        },
        "tags": []
      },
      "source": [
        "![alt text](https://cdn.sstatic.net/Sites/stackoverflow/company/img/logos/se/se-logo.svg?v=d29f0785ebb7)\n",
        "\n",
        "The objective of notebook is to build a model to automatically predict tags for a given a StackExchange question by using the text of the question in PyTorch using TorchText.\n",
        "\n",
        "Dataset:Over 85,000 questions and over 1300 unique tags\n",
        "\n",
        "The question-answering site StackOverflow allows users to assign tags to questions in order to make them easier for other people to find. Further experts on a certain topic can subscribe to tags to receive digests of new questions for which they might have an answer. Therefore it is both in the interest of the original poster and in the interest of people who are interested in the answer that a question gets assigned appropriate tags.\n"
      ]
    },
    {
      "cell_type": "markdown",
      "metadata": {
        "papermill": {
          "duration": 0.062256,
          "end_time": "2021-03-23T09:39:41.530552",
          "exception": false,
          "start_time": "2021-03-23T09:39:41.468296",
          "status": "completed"
        },
        "tags": [],
        "id": "iJRIS87_Yzsi"
      },
      "source": [
        "# Please upvote the notebook if you find it insightful!"
      ]
    },
    {
      "cell_type": "markdown",
      "metadata": {
        "id": "48YGFqrAy6zf",
        "papermill": {
          "duration": 0.061606,
          "end_time": "2021-03-23T09:39:41.653814",
          "exception": false,
          "start_time": "2021-03-23T09:39:41.592208",
          "status": "completed"
        },
        "tags": []
      },
      "source": [
        "# Load Data and Import Libraries"
      ]
    },
    {
      "cell_type": "code",
      "execution_count": null,
      "metadata": {
        "execution": {
          "iopub.execute_input": "2021-03-23T09:39:41.782814Z",
          "iopub.status.busy": "2021-03-23T09:39:41.782260Z",
          "iopub.status.idle": "2021-03-23T09:39:50.175743Z",
          "shell.execute_reply": "2021-03-23T09:39:50.174834Z"
        },
        "papermill": {
          "duration": 8.460453,
          "end_time": "2021-03-23T09:39:50.175971",
          "exception": false,
          "start_time": "2021-03-23T09:39:41.715518",
          "status": "completed"
        },
        "tags": [],
        "colab": {
          "base_uri": "https://localhost:8080/"
        },
        "id": "2dP2t5V0Yzsj",
        "outputId": "80a151a7-dd4e-4e66-b805-bde224acbeea"
      },
      "outputs": [
        {
          "output_type": "stream",
          "name": "stdout",
          "text": [
            "Looking in indexes: https://pypi.org/simple, https://us-python.pkg.dev/colab-wheels/public/simple/\n",
            "Requirement already satisfied: beautifulsoup4 in /usr/local/lib/python3.7/dist-packages (4.6.3)\n"
          ]
        }
      ],
      "source": [
        "!pip install beautifulsoup4"
      ]
    },
    {
      "cell_type": "code",
      "execution_count": null,
      "metadata": {
        "execution": {
          "iopub.execute_input": "2021-03-23T09:39:50.320077Z",
          "iopub.status.busy": "2021-03-23T09:39:50.319144Z",
          "iopub.status.idle": "2021-03-23T09:39:52.696177Z",
          "shell.execute_reply": "2021-03-23T09:39:52.696634Z"
        },
        "id": "fM2S4yCsR7i6",
        "papermill": {
          "duration": 2.453341,
          "end_time": "2021-03-23T09:39:52.696824",
          "exception": false,
          "start_time": "2021-03-23T09:39:50.243483",
          "status": "completed"
        },
        "tags": []
      },
      "outputs": [],
      "source": [
        "\n",
        "import re \n",
        "import pandas as pd\n",
        "pd.set_option('display.max_colwidth', 200)\n",
        "\n",
        "import numpy as np\n",
        "from bs4 import BeautifulSoup\n",
        "\n",
        "import matplotlib.pyplot as plt  \n",
        "\n",
        "from sklearn import metrics\n",
        "from sklearn.preprocessing import MultiLabelBinarizer\n",
        "\n",
        "import random\n",
        "\n",
        "import torch\n",
        "from torch import nn\n",
        "from torch.nn import Sequential, Linear,  ReLU, Sigmoid, Dropout, BCELoss, Embedding, RNN, LSTM\n",
        "from torchtext import data "
      ]
    },
    {
      "cell_type": "code",
      "execution_count": null,
      "metadata": {
        "execution": {
          "iopub.execute_input": "2021-03-23T09:39:52.835270Z",
          "iopub.status.busy": "2021-03-23T09:39:52.834747Z",
          "iopub.status.idle": "2021-03-23T09:39:55.458538Z",
          "shell.execute_reply": "2021-03-23T09:39:55.457672Z"
        },
        "id": "JD8BvEEFR_40",
        "papermill": {
          "duration": 2.696763,
          "end_time": "2021-03-23T09:39:55.458673",
          "exception": false,
          "start_time": "2021-03-23T09:39:52.761910",
          "status": "completed"
        },
        "tags": [],
        "colab": {
          "base_uri": "https://localhost:8080/",
          "height": 304
        },
        "outputId": "73011a3c-b918-4bd1-c556-1b38b99d52cc"
      },
      "outputs": [
        {
          "output_type": "error",
          "ename": "ParserError",
          "evalue": "ignored",
          "traceback": [
            "\u001b[0;31m---------------------------------------------------------------------------\u001b[0m",
            "\u001b[0;31mParserError\u001b[0m                               Traceback (most recent call last)",
            "\u001b[0;32m<ipython-input-13-d7a648690e7c>\u001b[0m in \u001b[0;36m<module>\u001b[0;34m\u001b[0m\n\u001b[1;32m      1\u001b[0m \u001b[0;31m# load the stackoverflow questions dataset\u001b[0m\u001b[0;34m\u001b[0m\u001b[0;34m\u001b[0m\u001b[0;34m\u001b[0m\u001b[0m\n\u001b[0;32m----> 2\u001b[0;31m \u001b[0mquestions_df\u001b[0m \u001b[0;34m=\u001b[0m \u001b[0mpd\u001b[0m\u001b[0;34m.\u001b[0m\u001b[0mread_csv\u001b[0m\u001b[0;34m(\u001b[0m\u001b[0;34m'/content/Questions.csv'\u001b[0m\u001b[0;34m,\u001b[0m \u001b[0mencoding\u001b[0m \u001b[0;34m=\u001b[0m \u001b[0;34m\"ISO-8859-1\"\u001b[0m\u001b[0;34m)\u001b[0m\u001b[0;34m\u001b[0m\u001b[0;34m\u001b[0m\u001b[0m\n\u001b[0m\u001b[1;32m      3\u001b[0m \u001b[0;34m\u001b[0m\u001b[0m\n\u001b[1;32m      4\u001b[0m \u001b[0;31m# load the tags dataset\u001b[0m\u001b[0;34m\u001b[0m\u001b[0;34m\u001b[0m\u001b[0;34m\u001b[0m\u001b[0m\n\u001b[1;32m      5\u001b[0m \u001b[0mtags_df\u001b[0m \u001b[0;34m=\u001b[0m \u001b[0mpd\u001b[0m\u001b[0;34m.\u001b[0m\u001b[0mread_csv\u001b[0m\u001b[0;34m(\u001b[0m\u001b[0;34m'/content/Tags.csv'\u001b[0m\u001b[0;34m)\u001b[0m\u001b[0;34m\u001b[0m\u001b[0;34m\u001b[0m\u001b[0m\n",
            "\u001b[0;32m/usr/local/lib/python3.7/dist-packages/pandas/util/_decorators.py\u001b[0m in \u001b[0;36mwrapper\u001b[0;34m(*args, **kwargs)\u001b[0m\n\u001b[1;32m    309\u001b[0m                     \u001b[0mstacklevel\u001b[0m\u001b[0;34m=\u001b[0m\u001b[0mstacklevel\u001b[0m\u001b[0;34m,\u001b[0m\u001b[0;34m\u001b[0m\u001b[0;34m\u001b[0m\u001b[0m\n\u001b[1;32m    310\u001b[0m                 )\n\u001b[0;32m--> 311\u001b[0;31m             \u001b[0;32mreturn\u001b[0m \u001b[0mfunc\u001b[0m\u001b[0;34m(\u001b[0m\u001b[0;34m*\u001b[0m\u001b[0margs\u001b[0m\u001b[0;34m,\u001b[0m \u001b[0;34m**\u001b[0m\u001b[0mkwargs\u001b[0m\u001b[0;34m)\u001b[0m\u001b[0;34m\u001b[0m\u001b[0;34m\u001b[0m\u001b[0m\n\u001b[0m\u001b[1;32m    312\u001b[0m \u001b[0;34m\u001b[0m\u001b[0m\n\u001b[1;32m    313\u001b[0m         \u001b[0;32mreturn\u001b[0m \u001b[0mwrapper\u001b[0m\u001b[0;34m\u001b[0m\u001b[0;34m\u001b[0m\u001b[0m\n",
            "\u001b[0;32m/usr/local/lib/python3.7/dist-packages/pandas/io/parsers/readers.py\u001b[0m in \u001b[0;36mread_csv\u001b[0;34m(filepath_or_buffer, sep, delimiter, header, names, index_col, usecols, squeeze, prefix, mangle_dupe_cols, dtype, engine, converters, true_values, false_values, skipinitialspace, skiprows, skipfooter, nrows, na_values, keep_default_na, na_filter, verbose, skip_blank_lines, parse_dates, infer_datetime_format, keep_date_col, date_parser, dayfirst, cache_dates, iterator, chunksize, compression, thousands, decimal, lineterminator, quotechar, quoting, doublequote, escapechar, comment, encoding, encoding_errors, dialect, error_bad_lines, warn_bad_lines, on_bad_lines, delim_whitespace, low_memory, memory_map, float_precision, storage_options)\u001b[0m\n\u001b[1;32m    584\u001b[0m     \u001b[0mkwds\u001b[0m\u001b[0;34m.\u001b[0m\u001b[0mupdate\u001b[0m\u001b[0;34m(\u001b[0m\u001b[0mkwds_defaults\u001b[0m\u001b[0;34m)\u001b[0m\u001b[0;34m\u001b[0m\u001b[0;34m\u001b[0m\u001b[0m\n\u001b[1;32m    585\u001b[0m \u001b[0;34m\u001b[0m\u001b[0m\n\u001b[0;32m--> 586\u001b[0;31m     \u001b[0;32mreturn\u001b[0m \u001b[0m_read\u001b[0m\u001b[0;34m(\u001b[0m\u001b[0mfilepath_or_buffer\u001b[0m\u001b[0;34m,\u001b[0m \u001b[0mkwds\u001b[0m\u001b[0;34m)\u001b[0m\u001b[0;34m\u001b[0m\u001b[0;34m\u001b[0m\u001b[0m\n\u001b[0m\u001b[1;32m    587\u001b[0m \u001b[0;34m\u001b[0m\u001b[0m\n\u001b[1;32m    588\u001b[0m \u001b[0;34m\u001b[0m\u001b[0m\n",
            "\u001b[0;32m/usr/local/lib/python3.7/dist-packages/pandas/io/parsers/readers.py\u001b[0m in \u001b[0;36m_read\u001b[0;34m(filepath_or_buffer, kwds)\u001b[0m\n\u001b[1;32m    486\u001b[0m \u001b[0;34m\u001b[0m\u001b[0m\n\u001b[1;32m    487\u001b[0m     \u001b[0;32mwith\u001b[0m \u001b[0mparser\u001b[0m\u001b[0;34m:\u001b[0m\u001b[0;34m\u001b[0m\u001b[0;34m\u001b[0m\u001b[0m\n\u001b[0;32m--> 488\u001b[0;31m         \u001b[0;32mreturn\u001b[0m \u001b[0mparser\u001b[0m\u001b[0;34m.\u001b[0m\u001b[0mread\u001b[0m\u001b[0;34m(\u001b[0m\u001b[0mnrows\u001b[0m\u001b[0;34m)\u001b[0m\u001b[0;34m\u001b[0m\u001b[0;34m\u001b[0m\u001b[0m\n\u001b[0m\u001b[1;32m    489\u001b[0m \u001b[0;34m\u001b[0m\u001b[0m\n\u001b[1;32m    490\u001b[0m \u001b[0;34m\u001b[0m\u001b[0m\n",
            "\u001b[0;32m/usr/local/lib/python3.7/dist-packages/pandas/io/parsers/readers.py\u001b[0m in \u001b[0;36mread\u001b[0;34m(self, nrows)\u001b[0m\n\u001b[1;32m   1045\u001b[0m     \u001b[0;32mdef\u001b[0m \u001b[0mread\u001b[0m\u001b[0;34m(\u001b[0m\u001b[0mself\u001b[0m\u001b[0;34m,\u001b[0m \u001b[0mnrows\u001b[0m\u001b[0;34m=\u001b[0m\u001b[0;32mNone\u001b[0m\u001b[0;34m)\u001b[0m\u001b[0;34m:\u001b[0m\u001b[0;34m\u001b[0m\u001b[0;34m\u001b[0m\u001b[0m\n\u001b[1;32m   1046\u001b[0m         \u001b[0mnrows\u001b[0m \u001b[0;34m=\u001b[0m \u001b[0mvalidate_integer\u001b[0m\u001b[0;34m(\u001b[0m\u001b[0;34m\"nrows\"\u001b[0m\u001b[0;34m,\u001b[0m \u001b[0mnrows\u001b[0m\u001b[0;34m)\u001b[0m\u001b[0;34m\u001b[0m\u001b[0;34m\u001b[0m\u001b[0m\n\u001b[0;32m-> 1047\u001b[0;31m         \u001b[0mindex\u001b[0m\u001b[0;34m,\u001b[0m \u001b[0mcolumns\u001b[0m\u001b[0;34m,\u001b[0m \u001b[0mcol_dict\u001b[0m \u001b[0;34m=\u001b[0m \u001b[0mself\u001b[0m\u001b[0;34m.\u001b[0m\u001b[0m_engine\u001b[0m\u001b[0;34m.\u001b[0m\u001b[0mread\u001b[0m\u001b[0;34m(\u001b[0m\u001b[0mnrows\u001b[0m\u001b[0;34m)\u001b[0m\u001b[0;34m\u001b[0m\u001b[0;34m\u001b[0m\u001b[0m\n\u001b[0m\u001b[1;32m   1048\u001b[0m \u001b[0;34m\u001b[0m\u001b[0m\n\u001b[1;32m   1049\u001b[0m         \u001b[0;32mif\u001b[0m \u001b[0mindex\u001b[0m \u001b[0;32mis\u001b[0m \u001b[0;32mNone\u001b[0m\u001b[0;34m:\u001b[0m\u001b[0;34m\u001b[0m\u001b[0;34m\u001b[0m\u001b[0m\n",
            "\u001b[0;32m/usr/local/lib/python3.7/dist-packages/pandas/io/parsers/c_parser_wrapper.py\u001b[0m in \u001b[0;36mread\u001b[0;34m(self, nrows)\u001b[0m\n\u001b[1;32m    222\u001b[0m         \u001b[0;32mtry\u001b[0m\u001b[0;34m:\u001b[0m\u001b[0;34m\u001b[0m\u001b[0;34m\u001b[0m\u001b[0m\n\u001b[1;32m    223\u001b[0m             \u001b[0;32mif\u001b[0m \u001b[0mself\u001b[0m\u001b[0;34m.\u001b[0m\u001b[0mlow_memory\u001b[0m\u001b[0;34m:\u001b[0m\u001b[0;34m\u001b[0m\u001b[0;34m\u001b[0m\u001b[0m\n\u001b[0;32m--> 224\u001b[0;31m                 \u001b[0mchunks\u001b[0m \u001b[0;34m=\u001b[0m \u001b[0mself\u001b[0m\u001b[0;34m.\u001b[0m\u001b[0m_reader\u001b[0m\u001b[0;34m.\u001b[0m\u001b[0mread_low_memory\u001b[0m\u001b[0;34m(\u001b[0m\u001b[0mnrows\u001b[0m\u001b[0;34m)\u001b[0m\u001b[0;34m\u001b[0m\u001b[0;34m\u001b[0m\u001b[0m\n\u001b[0m\u001b[1;32m    225\u001b[0m                 \u001b[0;31m# destructive to chunks\u001b[0m\u001b[0;34m\u001b[0m\u001b[0;34m\u001b[0m\u001b[0;34m\u001b[0m\u001b[0m\n\u001b[1;32m    226\u001b[0m                 \u001b[0mdata\u001b[0m \u001b[0;34m=\u001b[0m \u001b[0m_concatenate_chunks\u001b[0m\u001b[0;34m(\u001b[0m\u001b[0mchunks\u001b[0m\u001b[0;34m)\u001b[0m\u001b[0;34m\u001b[0m\u001b[0;34m\u001b[0m\u001b[0m\n",
            "\u001b[0;32m/usr/local/lib/python3.7/dist-packages/pandas/_libs/parsers.pyx\u001b[0m in \u001b[0;36mpandas._libs.parsers.TextReader.read_low_memory\u001b[0;34m()\u001b[0m\n",
            "\u001b[0;32m/usr/local/lib/python3.7/dist-packages/pandas/_libs/parsers.pyx\u001b[0m in \u001b[0;36mpandas._libs.parsers.TextReader._read_rows\u001b[0;34m()\u001b[0m\n",
            "\u001b[0;32m/usr/local/lib/python3.7/dist-packages/pandas/_libs/parsers.pyx\u001b[0m in \u001b[0;36mpandas._libs.parsers.TextReader._tokenize_rows\u001b[0;34m()\u001b[0m\n",
            "\u001b[0;32m/usr/local/lib/python3.7/dist-packages/pandas/_libs/parsers.pyx\u001b[0m in \u001b[0;36mpandas._libs.parsers.raise_parser_error\u001b[0;34m()\u001b[0m\n",
            "\u001b[0;31mParserError\u001b[0m: Error tokenizing data. C error: EOF inside string starting at row 763947"
          ]
        }
      ],
      "source": [
        "# load the stackoverflow questions dataset\n",
        "questions_df = pd.read_csv('/content/Questions.csv', encoding = \"ISO-8859-1\")\n",
        "\n",
        "# load the tags dataset\n",
        "tags_df = pd.read_csv('/content/Tags.csv')"
      ]
    },
    {
      "cell_type": "code",
      "execution_count": null,
      "metadata": {
        "execution": {
          "iopub.execute_input": "2021-03-23T09:39:55.606423Z",
          "iopub.status.busy": "2021-03-23T09:39:55.605857Z",
          "iopub.status.idle": "2021-03-23T09:39:55.615116Z",
          "shell.execute_reply": "2021-03-23T09:39:55.615505Z"
        },
        "id": "mE88kY9WR_-n",
        "papermill": {
          "duration": 0.090642,
          "end_time": "2021-03-23T09:39:55.615636",
          "exception": false,
          "start_time": "2021-03-23T09:39:55.524994",
          "status": "completed"
        },
        "tags": []
      },
      "outputs": [],
      "source": [
        "questions_df.head()"
      ]
    },
    {
      "cell_type": "code",
      "execution_count": null,
      "metadata": {
        "execution": {
          "iopub.execute_input": "2021-03-23T09:39:55.751051Z",
          "iopub.status.busy": "2021-03-23T09:39:55.750479Z",
          "iopub.status.idle": "2021-03-23T09:39:55.756093Z",
          "shell.execute_reply": "2021-03-23T09:39:55.755669Z"
        },
        "id": "qxvK_9YFG2M1",
        "papermill": {
          "duration": 0.07499,
          "end_time": "2021-03-23T09:39:55.756208",
          "exception": false,
          "start_time": "2021-03-23T09:39:55.681218",
          "status": "completed"
        },
        "tags": []
      },
      "outputs": [],
      "source": [
        "questions_df.shape"
      ]
    },
    {
      "cell_type": "code",
      "execution_count": null,
      "metadata": {
        "execution": {
          "iopub.execute_input": "2021-03-23T09:39:55.896851Z",
          "iopub.status.busy": "2021-03-23T09:39:55.896230Z",
          "iopub.status.idle": "2021-03-23T09:39:55.899536Z",
          "shell.execute_reply": "2021-03-23T09:39:55.899950Z"
        },
        "id": "o7wSglDJSGWf",
        "papermill": {
          "duration": 0.078099,
          "end_time": "2021-03-23T09:39:55.900082",
          "exception": false,
          "start_time": "2021-03-23T09:39:55.821983",
          "status": "completed"
        },
        "tags": []
      },
      "outputs": [],
      "source": [
        "tags_df.head()"
      ]
    },
    {
      "cell_type": "code",
      "execution_count": null,
      "metadata": {
        "execution": {
          "iopub.execute_input": "2021-03-23T09:39:56.050632Z",
          "iopub.status.busy": "2021-03-23T09:39:56.049900Z",
          "iopub.status.idle": "2021-03-23T09:39:56.061390Z",
          "shell.execute_reply": "2021-03-23T09:39:56.060988Z"
        },
        "id": "Xz1-htTsSGM8",
        "papermill": {
          "duration": 0.095484,
          "end_time": "2021-03-23T09:39:56.061502",
          "exception": false,
          "start_time": "2021-03-23T09:39:55.966018",
          "status": "completed"
        },
        "tags": []
      },
      "outputs": [],
      "source": [
        "# No. of unique tags\n",
        "len(tags_df['Tag'].unique())"
      ]
    },
    {
      "cell_type": "markdown",
      "metadata": {
        "id": "5nQjFYQtTNH6",
        "papermill": {
          "duration": 0.066925,
          "end_time": "2021-03-23T09:39:56.195004",
          "exception": false,
          "start_time": "2021-03-23T09:39:56.128079",
          "status": "completed"
        },
        "tags": []
      },
      "source": [
        "# Dataset Preparation"
      ]
    },
    {
      "cell_type": "code",
      "execution_count": null,
      "metadata": {
        "execution": {
          "iopub.execute_input": "2021-03-23T09:39:56.332262Z",
          "iopub.status.busy": "2021-03-23T09:39:56.331682Z",
          "iopub.status.idle": "2021-03-23T09:39:56.655129Z",
          "shell.execute_reply": "2021-03-23T09:39:56.655586Z"
        },
        "id": "UKoRHljISb83",
        "papermill": {
          "duration": 0.394256,
          "end_time": "2021-03-23T09:39:56.655737",
          "exception": false,
          "start_time": "2021-03-23T09:39:56.261481",
          "status": "completed"
        },
        "tags": []
      },
      "outputs": [],
      "source": [
        "# remove \"-\" from the tags\n",
        "tags_df['Tag'] = tags_df['Tag'].apply(lambda x:re.sub(\"-\",\" \",x))"
      ]
    },
    {
      "cell_type": "code",
      "execution_count": null,
      "metadata": {
        "execution": {
          "iopub.execute_input": "2021-03-23T09:39:56.796537Z",
          "iopub.status.busy": "2021-03-23T09:39:56.795723Z",
          "iopub.status.idle": "2021-03-23T09:39:59.803103Z",
          "shell.execute_reply": "2021-03-23T09:39:59.802207Z"
        },
        "id": "mWQyeoa4ScDz",
        "papermill": {
          "duration": 3.079735,
          "end_time": "2021-03-23T09:39:59.803233",
          "exception": false,
          "start_time": "2021-03-23T09:39:56.723498",
          "status": "completed"
        },
        "tags": []
      },
      "outputs": [],
      "source": [
        "# group tags Id wise\n",
        "tags_df = tags_df.groupby('Id').apply(lambda x:x['Tag'].values).reset_index(name='tags')\n",
        "tags_df.head()"
      ]
    },
    {
      "cell_type": "code",
      "execution_count": null,
      "metadata": {
        "execution": {
          "iopub.execute_input": "2021-03-23T09:39:59.944385Z",
          "iopub.status.busy": "2021-03-23T09:39:59.943130Z",
          "iopub.status.idle": "2021-03-23T09:39:59.984900Z",
          "shell.execute_reply": "2021-03-23T09:39:59.984405Z"
        },
        "id": "EB8sYYOrScCC",
        "papermill": {
          "duration": 0.114643,
          "end_time": "2021-03-23T09:39:59.985028",
          "exception": false,
          "start_time": "2021-03-23T09:39:59.870385",
          "status": "completed"
        },
        "tags": []
      },
      "outputs": [],
      "source": [
        "# merge tags and questions\n",
        "df = pd.merge(questions_df,tags_df,how='inner',on='Id')"
      ]
    },
    {
      "cell_type": "code",
      "execution_count": null,
      "metadata": {
        "execution": {
          "iopub.execute_input": "2021-03-23T09:40:00.124426Z",
          "iopub.status.busy": "2021-03-23T09:40:00.123908Z",
          "iopub.status.idle": "2021-03-23T09:40:00.148806Z",
          "shell.execute_reply": "2021-03-23T09:40:00.148332Z"
        },
        "id": "pD7UD9yNSmk1",
        "papermill": {
          "duration": 0.096402,
          "end_time": "2021-03-23T09:40:00.148954",
          "exception": false,
          "start_time": "2021-03-23T09:40:00.052552",
          "status": "completed"
        },
        "tags": []
      },
      "outputs": [],
      "source": [
        "# fetch required columns\n",
        "df = df[['Id','Body','tags']]"
      ]
    },
    {
      "cell_type": "code",
      "execution_count": null,
      "metadata": {
        "execution": {
          "iopub.execute_input": "2021-03-23T09:40:00.293956Z",
          "iopub.status.busy": "2021-03-23T09:40:00.293330Z",
          "iopub.status.idle": "2021-03-23T09:40:00.298527Z",
          "shell.execute_reply": "2021-03-23T09:40:00.298115Z"
        },
        "id": "zZEEr2B5eosb",
        "papermill": {
          "duration": 0.081954,
          "end_time": "2021-03-23T09:40:00.298643",
          "exception": false,
          "start_time": "2021-03-23T09:40:00.216689",
          "status": "completed"
        },
        "tags": []
      },
      "outputs": [],
      "source": [
        "#first 5 rows\n",
        "df.head()"
      ]
    },
    {
      "cell_type": "code",
      "execution_count": null,
      "metadata": {
        "execution": {
          "iopub.execute_input": "2021-03-23T09:40:00.437995Z",
          "iopub.status.busy": "2021-03-23T09:40:00.437434Z",
          "iopub.status.idle": "2021-03-23T09:40:00.443011Z",
          "shell.execute_reply": "2021-03-23T09:40:00.442561Z"
        },
        "id": "J28FYn8xSmqM",
        "papermill": {
          "duration": 0.076784,
          "end_time": "2021-03-23T09:40:00.443123",
          "exception": false,
          "start_time": "2021-03-23T09:40:00.366339",
          "status": "completed"
        },
        "tags": []
      },
      "outputs": [],
      "source": [
        "#shape of the dataset\n",
        "df.shape"
      ]
    },
    {
      "cell_type": "code",
      "execution_count": null,
      "metadata": {
        "execution": {
          "iopub.execute_input": "2021-03-23T09:40:00.589672Z",
          "iopub.status.busy": "2021-03-23T09:40:00.589147Z",
          "iopub.status.idle": "2021-03-23T09:40:00.784962Z",
          "shell.execute_reply": "2021-03-23T09:40:00.784332Z"
        },
        "id": "n9XRjQ_wSmvh",
        "papermill": {
          "duration": 0.273719,
          "end_time": "2021-03-23T09:40:00.785091",
          "exception": false,
          "start_time": "2021-03-23T09:40:00.511372",
          "status": "completed"
        },
        "tags": []
      },
      "outputs": [],
      "source": [
        "# check occurence of each tag\n",
        "freq={}\n",
        "for i in df['tags']:\n",
        "  for j in i:\n",
        "    if j in freq.keys():\n",
        "      freq[j] = freq[j] + 1\n",
        "    else:\n",
        "      freq[j] = 1"
      ]
    },
    {
      "cell_type": "code",
      "execution_count": null,
      "metadata": {
        "execution": {
          "iopub.execute_input": "2021-03-23T09:40:00.928530Z",
          "iopub.status.busy": "2021-03-23T09:40:00.928005Z",
          "iopub.status.idle": "2021-03-23T09:40:00.932036Z",
          "shell.execute_reply": "2021-03-23T09:40:00.931606Z"
        },
        "id": "DSVPSJnCSvUt",
        "papermill": {
          "duration": 0.07753,
          "end_time": "2021-03-23T09:40:00.932155",
          "exception": false,
          "start_time": "2021-03-23T09:40:00.854625",
          "status": "completed"
        },
        "tags": []
      },
      "outputs": [],
      "source": [
        "# sort the dictionary in descending order\n",
        "freq = dict(sorted(freq.items(), key=lambda x:x[1],reverse=True))"
      ]
    },
    {
      "cell_type": "code",
      "execution_count": null,
      "metadata": {
        "execution": {
          "iopub.execute_input": "2021-03-23T09:40:01.073289Z",
          "iopub.status.busy": "2021-03-23T09:40:01.072672Z",
          "iopub.status.idle": "2021-03-23T09:40:01.077235Z",
          "shell.execute_reply": "2021-03-23T09:40:01.076698Z"
        },
        "id": "PxDCpuGFSvhH",
        "papermill": {
          "duration": 0.076405,
          "end_time": "2021-03-23T09:40:01.077343",
          "exception": false,
          "start_time": "2021-03-23T09:40:01.000938",
          "status": "completed"
        },
        "tags": []
      },
      "outputs": [],
      "source": [
        "# Top 10 most frequent tags\n",
        "common_tags = list(freq.keys())[:10]\n",
        "print(common_tags)"
      ]
    },
    {
      "cell_type": "markdown",
      "metadata": {
        "id": "OPC21Z5aTkB8",
        "papermill": {
          "duration": 0.068051,
          "end_time": "2021-03-23T09:40:01.213938",
          "exception": false,
          "start_time": "2021-03-23T09:40:01.145887",
          "status": "completed"
        },
        "tags": []
      },
      "source": [
        "We will use only those questions/queries that are associated with the top 10 tags."
      ]
    },
    {
      "cell_type": "code",
      "execution_count": null,
      "metadata": {
        "execution": {
          "iopub.execute_input": "2021-03-23T09:40:01.357304Z",
          "iopub.status.busy": "2021-03-23T09:40:01.356522Z",
          "iopub.status.idle": "2021-03-23T09:40:02.337384Z",
          "shell.execute_reply": "2021-03-23T09:40:02.336918Z"
        },
        "id": "YNksVjF6SvqS",
        "papermill": {
          "duration": 1.054896,
          "end_time": "2021-03-23T09:40:02.337514",
          "exception": false,
          "start_time": "2021-03-23T09:40:01.282618",
          "status": "completed"
        },
        "tags": []
      },
      "outputs": [],
      "source": [
        "#finding queries associated with common tags\n",
        "x=[]\n",
        "y=[]\n",
        "\n",
        "for i in range(len(df['tags'])):  \n",
        "\n",
        "  temp=[]\n",
        "  for j in df['tags'][i]:\n",
        "    if j in common_tags:\n",
        "      temp.append(j)\n",
        "  \n",
        "  #if common tags are more than 1\n",
        "  if(len(temp)>1):\n",
        "    x.append(df['Body'][i])\n",
        "    y.append(temp)"
      ]
    },
    {
      "cell_type": "code",
      "execution_count": null,
      "metadata": {
        "execution": {
          "iopub.execute_input": "2021-03-23T09:40:02.481072Z",
          "iopub.status.busy": "2021-03-23T09:40:02.480261Z",
          "iopub.status.idle": "2021-03-23T09:40:02.484028Z",
          "shell.execute_reply": "2021-03-23T09:40:02.483597Z"
        },
        "id": "Ck6w3DsfS82D",
        "papermill": {
          "duration": 0.07693,
          "end_time": "2021-03-23T09:40:02.484145",
          "exception": false,
          "start_time": "2021-03-23T09:40:02.407215",
          "status": "completed"
        },
        "tags": []
      },
      "outputs": [],
      "source": [
        "# number of questions left\n",
        "len(x)"
      ]
    },
    {
      "cell_type": "code",
      "execution_count": null,
      "metadata": {
        "execution": {
          "iopub.execute_input": "2021-03-23T09:40:02.627775Z",
          "iopub.status.busy": "2021-03-23T09:40:02.627007Z",
          "iopub.status.idle": "2021-03-23T09:40:02.630337Z",
          "shell.execute_reply": "2021-03-23T09:40:02.630796Z"
        },
        "id": "2tLZqaHQ-4Bz",
        "papermill": {
          "duration": 0.076887,
          "end_time": "2021-03-23T09:40:02.630926",
          "exception": false,
          "start_time": "2021-03-23T09:40:02.554039",
          "status": "completed"
        },
        "tags": []
      },
      "outputs": [],
      "source": [
        "#first 5 tags\n",
        "y[:5]"
      ]
    },
    {
      "cell_type": "code",
      "execution_count": null,
      "metadata": {
        "execution": {
          "iopub.execute_input": "2021-03-23T09:40:02.785113Z",
          "iopub.status.busy": "2021-03-23T09:40:02.784423Z",
          "iopub.status.idle": "2021-03-23T09:40:02.787264Z",
          "shell.execute_reply": "2021-03-23T09:40:02.786861Z"
        },
        "id": "AfTeISu8A3KT",
        "papermill": {
          "duration": 0.086897,
          "end_time": "2021-03-23T09:40:02.787376",
          "exception": false,
          "start_time": "2021-03-23T09:40:02.700479",
          "status": "completed"
        },
        "tags": []
      },
      "outputs": [],
      "source": [
        "#combining the labels by space\n",
        "y = [ \",\".join([str(j) for j in i ]) for i in y]"
      ]
    },
    {
      "cell_type": "code",
      "execution_count": null,
      "metadata": {
        "execution": {
          "iopub.execute_input": "2021-03-23T09:40:02.931493Z",
          "iopub.status.busy": "2021-03-23T09:40:02.930719Z",
          "iopub.status.idle": "2021-03-23T09:40:02.933979Z",
          "shell.execute_reply": "2021-03-23T09:40:02.934390Z"
        },
        "id": "LnceeB6B_Tbd",
        "papermill": {
          "duration": 0.077356,
          "end_time": "2021-03-23T09:40:02.934520",
          "exception": false,
          "start_time": "2021-03-23T09:40:02.857164",
          "status": "completed"
        },
        "tags": []
      },
      "outputs": [],
      "source": [
        "#labels after converting to string\n",
        "y[:5]"
      ]
    },
    {
      "cell_type": "code",
      "execution_count": null,
      "metadata": {
        "execution": {
          "iopub.execute_input": "2021-03-23T09:40:03.082803Z",
          "iopub.status.busy": "2021-03-23T09:40:03.082139Z",
          "iopub.status.idle": "2021-03-23T09:40:03.084981Z",
          "shell.execute_reply": "2021-03-23T09:40:03.084525Z"
        },
        "id": "ZYblHXWVgt_S",
        "papermill": {
          "duration": 0.080537,
          "end_time": "2021-03-23T09:40:03.085092",
          "exception": false,
          "start_time": "2021-03-23T09:40:03.004555",
          "status": "completed"
        },
        "tags": []
      },
      "outputs": [],
      "source": [
        "#save to dataframe\n",
        "dframe = pd.DataFrame({'query':x,'tags':y})"
      ]
    },
    {
      "cell_type": "code",
      "execution_count": null,
      "metadata": {
        "execution": {
          "iopub.execute_input": "2021-03-23T09:40:03.233279Z",
          "iopub.status.busy": "2021-03-23T09:40:03.232473Z",
          "iopub.status.idle": "2021-03-23T09:40:03.236211Z",
          "shell.execute_reply": "2021-03-23T09:40:03.235797Z"
        },
        "id": "fGUumAqqBpDa",
        "papermill": {
          "duration": 0.081299,
          "end_time": "2021-03-23T09:40:03.236323",
          "exception": false,
          "start_time": "2021-03-23T09:40:03.155024",
          "status": "completed"
        },
        "tags": []
      },
      "outputs": [],
      "source": [
        "#first 5 rows\n",
        "dframe.head()"
      ]
    },
    {
      "cell_type": "code",
      "execution_count": null,
      "metadata": {
        "execution": {
          "iopub.execute_input": "2021-03-23T09:40:03.381813Z",
          "iopub.status.busy": "2021-03-23T09:40:03.381019Z",
          "iopub.status.idle": "2021-03-23T09:40:04.016990Z",
          "shell.execute_reply": "2021-03-23T09:40:04.016487Z"
        },
        "id": "27-gnDPi60yg",
        "papermill": {
          "duration": 0.71012,
          "end_time": "2021-03-23T09:40:04.017128",
          "exception": false,
          "start_time": "2021-03-23T09:40:03.307008",
          "status": "completed"
        },
        "tags": []
      },
      "outputs": [],
      "source": [
        "#save to csv\n",
        "dframe.to_csv('stack.csv',index=False)"
      ]
    },
    {
      "cell_type": "markdown",
      "metadata": {
        "id": "F5E3gvtJ0_eC",
        "papermill": {
          "duration": 0.070537,
          "end_time": "2021-03-23T09:40:04.159154",
          "exception": false,
          "start_time": "2021-03-23T09:40:04.088617",
          "status": "completed"
        },
        "tags": []
      },
      "source": [
        "# Text Preprocessing"
      ]
    },
    {
      "cell_type": "code",
      "execution_count": null,
      "metadata": {
        "execution": {
          "iopub.execute_input": "2021-03-23T09:40:04.306869Z",
          "iopub.status.busy": "2021-03-23T09:40:04.306141Z",
          "iopub.status.idle": "2021-03-23T09:40:04.308969Z",
          "shell.execute_reply": "2021-03-23T09:40:04.308555Z"
        },
        "id": "ruV5khtmAiDU",
        "papermill": {
          "duration": 0.078815,
          "end_time": "2021-03-23T09:40:04.309079",
          "exception": false,
          "start_time": "2021-03-23T09:40:04.230264",
          "status": "completed"
        },
        "tags": []
      },
      "outputs": [],
      "source": [
        "def cleaner(text):\n",
        "\n",
        "  text = BeautifulSoup(text).get_text()\n",
        "  \n",
        "  # fetch alphabetic characters\n",
        "  text = re.sub(\"[^a-zA-Z]\", \" \", text)\n",
        "\n",
        "  # convert text to lower case\n",
        "  text = text.lower()\n",
        "  \n",
        "  return tokens"
      ]
    },
    {
      "cell_type": "code",
      "execution_count": null,
      "metadata": {
        "execution": {
          "iopub.execute_input": "2021-03-23T09:40:04.456472Z",
          "iopub.status.busy": "2021-03-23T09:40:04.455823Z",
          "iopub.status.idle": "2021-03-23T09:40:04.461108Z",
          "shell.execute_reply": "2021-03-23T09:40:04.461730Z"
        },
        "id": "SW0eN1UnrchO",
        "papermill": {
          "duration": 0.082036,
          "end_time": "2021-03-23T09:40:04.461925",
          "exception": false,
          "start_time": "2021-03-23T09:40:04.379889",
          "status": "completed"
        },
        "tags": []
      },
      "outputs": [],
      "source": [
        "#define field object for query\n",
        "max_len = 100\n",
        "TEXT = data.Field(tokenize=cleaner, batch_first=True, fix_length=max_len)"
      ]
    },
    {
      "cell_type": "code",
      "execution_count": null,
      "metadata": {
        "execution": {
          "iopub.execute_input": "2021-03-23T09:40:04.609982Z",
          "iopub.status.busy": "2021-03-23T09:40:04.609326Z",
          "iopub.status.idle": "2021-03-23T09:40:04.613542Z",
          "shell.execute_reply": "2021-03-23T09:40:04.612969Z"
        },
        "id": "Z9PfZ04R8NkK",
        "papermill": {
          "duration": 0.07961,
          "end_time": "2021-03-23T09:40:04.613692",
          "exception": false,
          "start_time": "2021-03-23T09:40:04.534082",
          "status": "completed"
        },
        "tags": []
      },
      "outputs": [],
      "source": [
        "#define field object for label\n",
        "LABEL = data.LabelField(batch_first=True)"
      ]
    },
    {
      "cell_type": "markdown",
      "metadata": {
        "id": "zlM-zyeSEkEi",
        "papermill": {
          "duration": 0.071701,
          "end_time": "2021-03-23T09:40:04.757918",
          "exception": false,
          "start_time": "2021-03-23T09:40:04.686217",
          "status": "completed"
        },
        "tags": []
      },
      "source": [
        "Next we are going to create a list of tuples where first value in every tuple contains a column name and second value is a field object."
      ]
    },
    {
      "cell_type": "code",
      "execution_count": null,
      "metadata": {
        "execution": {
          "iopub.execute_input": "2021-03-23T09:40:04.906565Z",
          "iopub.status.busy": "2021-03-23T09:40:04.905808Z",
          "iopub.status.idle": "2021-03-23T09:40:04.908789Z",
          "shell.execute_reply": "2021-03-23T09:40:04.908371Z"
        },
        "id": "GFoE3QDb8NfI",
        "papermill": {
          "duration": 0.078697,
          "end_time": "2021-03-23T09:40:04.908912",
          "exception": false,
          "start_time": "2021-03-23T09:40:04.830215",
          "status": "completed"
        },
        "tags": []
      },
      "outputs": [],
      "source": [
        "#define a list of tuple with field objects\n",
        "fields = [('query',TEXT),('tags', LABEL)]"
      ]
    },
    {
      "cell_type": "code",
      "execution_count": null,
      "metadata": {
        "execution": {
          "iopub.execute_input": "2021-03-23T09:40:05.064992Z",
          "iopub.status.busy": "2021-03-23T09:40:05.064468Z",
          "iopub.status.idle": "2021-03-23T09:40:13.442457Z",
          "shell.execute_reply": "2021-03-23T09:40:13.441450Z"
        },
        "id": "ZpOti-uNS8z_",
        "papermill": {
          "duration": 8.459662,
          "end_time": "2021-03-23T09:40:13.442597",
          "exception": false,
          "start_time": "2021-03-23T09:40:04.982935",
          "status": "completed"
        },
        "tags": []
      },
      "outputs": [],
      "source": [
        "#reading the dataset\n",
        "training_data = data.TabularDataset(path = 'stack.csv', format = 'csv', fields = fields, skip_header = True)"
      ]
    },
    {
      "cell_type": "code",
      "execution_count": null,
      "metadata": {
        "execution": {
          "iopub.execute_input": "2021-03-23T09:40:13.594280Z",
          "iopub.status.busy": "2021-03-23T09:40:13.592922Z",
          "iopub.status.idle": "2021-03-23T09:40:13.596674Z",
          "shell.execute_reply": "2021-03-23T09:40:13.596069Z"
        },
        "id": "w_U5N4OsS_ZI",
        "papermill": {
          "duration": 0.081114,
          "end_time": "2021-03-23T09:40:13.596839",
          "exception": false,
          "start_time": "2021-03-23T09:40:13.515725",
          "status": "completed"
        },
        "tags": []
      },
      "outputs": [],
      "source": [
        "print(training_data)"
      ]
    },
    {
      "cell_type": "code",
      "execution_count": null,
      "metadata": {
        "execution": {
          "iopub.execute_input": "2021-03-23T09:40:13.748226Z",
          "iopub.status.busy": "2021-03-23T09:40:13.747668Z",
          "iopub.status.idle": "2021-03-23T09:40:13.752274Z",
          "shell.execute_reply": "2021-03-23T09:40:13.751856Z"
        },
        "id": "t_imud4VBcGP",
        "papermill": {
          "duration": 0.081797,
          "end_time": "2021-03-23T09:40:13.752391",
          "exception": false,
          "start_time": "2021-03-23T09:40:13.670594",
          "status": "completed"
        },
        "tags": []
      },
      "outputs": [],
      "source": [
        "#print preprocessed text\n",
        "print(vars(training_data.examples[0]))"
      ]
    },
    {
      "cell_type": "code",
      "execution_count": null,
      "metadata": {
        "execution": {
          "iopub.execute_input": "2021-03-23T09:40:13.916147Z",
          "iopub.status.busy": "2021-03-23T09:40:13.911220Z",
          "iopub.status.idle": "2021-03-23T09:40:13.918863Z",
          "shell.execute_reply": "2021-03-23T09:40:13.918342Z"
        },
        "id": "40EZTlPsBVVA",
        "papermill": {
          "duration": 0.093316,
          "end_time": "2021-03-23T09:40:13.918974",
          "exception": false,
          "start_time": "2021-03-23T09:40:13.825658",
          "status": "completed"
        },
        "tags": []
      },
      "outputs": [],
      "source": [
        "train_data, valid_data = training_data.split(split_ratio=0.8, random_state = random.seed(32))"
      ]
    },
    {
      "cell_type": "code",
      "execution_count": null,
      "metadata": {
        "execution": {
          "iopub.execute_input": "2021-03-23T09:40:14.121634Z",
          "iopub.status.busy": "2021-03-23T09:40:14.106183Z",
          "iopub.status.idle": "2021-03-23T09:40:14.325075Z",
          "shell.execute_reply": "2021-03-23T09:40:14.325472Z"
        },
        "id": "cB5kUf-g9fV8",
        "papermill": {
          "duration": 0.332789,
          "end_time": "2021-03-23T09:40:14.325631",
          "exception": false,
          "start_time": "2021-03-23T09:40:13.992842",
          "status": "completed"
        },
        "tags": []
      },
      "outputs": [],
      "source": [
        "#preparing the vocabulary for the text\n",
        "TEXT.build_vocab(train_data, min_freq=3)"
      ]
    },
    {
      "cell_type": "code",
      "execution_count": null,
      "metadata": {
        "execution": {
          "iopub.execute_input": "2021-03-23T09:40:14.477269Z",
          "iopub.status.busy": "2021-03-23T09:40:14.476493Z",
          "iopub.status.idle": "2021-03-23T09:40:14.480192Z",
          "shell.execute_reply": "2021-03-23T09:40:14.479776Z"
        },
        "id": "t9HPCTmUjvvd",
        "papermill": {
          "duration": 0.080928,
          "end_time": "2021-03-23T09:40:14.480306",
          "exception": false,
          "start_time": "2021-03-23T09:40:14.399378",
          "status": "completed"
        },
        "tags": []
      },
      "outputs": [],
      "source": [
        "#No. of unique words\n",
        "len(TEXT.vocab)"
      ]
    },
    {
      "cell_type": "code",
      "execution_count": null,
      "metadata": {
        "execution": {
          "iopub.execute_input": "2021-03-23T09:40:14.635439Z",
          "iopub.status.busy": "2021-03-23T09:40:14.634702Z",
          "iopub.status.idle": "2021-03-23T09:40:14.638272Z",
          "shell.execute_reply": "2021-03-23T09:40:14.637775Z"
        },
        "id": "BivXzGMDEUMv",
        "papermill": {
          "duration": 0.084899,
          "end_time": "2021-03-23T09:40:14.638379",
          "exception": false,
          "start_time": "2021-03-23T09:40:14.553480",
          "status": "completed"
        },
        "tags": []
      },
      "outputs": [],
      "source": [
        "#word index\n",
        "list(TEXT.vocab.stoi.items())[:10]"
      ]
    },
    {
      "cell_type": "code",
      "execution_count": null,
      "metadata": {
        "execution": {
          "iopub.execute_input": "2021-03-23T09:40:14.790870Z",
          "iopub.status.busy": "2021-03-23T09:40:14.790176Z",
          "iopub.status.idle": "2021-03-23T09:40:14.793212Z",
          "shell.execute_reply": "2021-03-23T09:40:14.792775Z"
        },
        "id": "KH4Hr9bsHAD-",
        "papermill": {
          "duration": 0.080998,
          "end_time": "2021-03-23T09:40:14.793326",
          "exception": false,
          "start_time": "2021-03-23T09:40:14.712328",
          "status": "completed"
        },
        "tags": []
      },
      "outputs": [],
      "source": [
        "def fetch_text(examples):\n",
        "\n",
        "  text=[]\n",
        "  for example in examples:\n",
        "    query = vars(example)['query']\n",
        "    text.append(query)\n",
        "    \n",
        "  return text"
      ]
    },
    {
      "cell_type": "code",
      "execution_count": null,
      "metadata": {
        "execution": {
          "iopub.execute_input": "2021-03-23T09:40:14.954855Z",
          "iopub.status.busy": "2021-03-23T09:40:14.954097Z",
          "iopub.status.idle": "2021-03-23T09:40:14.956808Z",
          "shell.execute_reply": "2021-03-23T09:40:14.956390Z"
        },
        "id": "fP6tbe1YXhcT",
        "papermill": {
          "duration": 0.089548,
          "end_time": "2021-03-23T09:40:14.956921",
          "exception": false,
          "start_time": "2021-03-23T09:40:14.867373",
          "status": "completed"
        },
        "tags": []
      },
      "outputs": [],
      "source": [
        "train_text = fetch_text(train_data)\n",
        "valid_text = fetch_text(valid_data)"
      ]
    },
    {
      "cell_type": "code",
      "execution_count": null,
      "metadata": {
        "execution": {
          "iopub.execute_input": "2021-03-23T09:40:15.117479Z",
          "iopub.status.busy": "2021-03-23T09:40:15.116792Z",
          "iopub.status.idle": "2021-03-23T09:40:15.119220Z",
          "shell.execute_reply": "2021-03-23T09:40:15.119598Z"
        },
        "id": "JCmD_tscB8Tc",
        "papermill": {
          "duration": 0.080801,
          "end_time": "2021-03-23T09:40:15.119733",
          "exception": false,
          "start_time": "2021-03-23T09:40:15.038932",
          "status": "completed"
        },
        "tags": []
      },
      "outputs": [],
      "source": [
        "def convert2seq(text):\n",
        "  \n",
        "  #padding\n",
        "  text = TEXT.pad(text)\n",
        "  \n",
        "  #converting to numbers\n",
        "  text = TEXT.numericalize(text)\n",
        "  \n",
        "  return text"
      ]
    },
    {
      "cell_type": "code",
      "execution_count": null,
      "metadata": {
        "execution": {
          "iopub.execute_input": "2021-03-23T09:40:15.315607Z",
          "iopub.status.busy": "2021-03-23T09:40:15.310432Z",
          "iopub.status.idle": "2021-03-23T09:40:15.727844Z",
          "shell.execute_reply": "2021-03-23T09:40:15.727343Z"
        },
        "id": "gy0jLpHk-gEy",
        "papermill": {
          "duration": 0.533589,
          "end_time": "2021-03-23T09:40:15.727985",
          "exception": false,
          "start_time": "2021-03-23T09:40:15.194396",
          "status": "completed"
        },
        "tags": []
      },
      "outputs": [],
      "source": [
        "X_train = convert2seq(train_text)\n",
        "X_valid = convert2seq(valid_text)"
      ]
    },
    {
      "cell_type": "code",
      "execution_count": null,
      "metadata": {
        "execution": {
          "iopub.execute_input": "2021-03-23T09:40:15.892267Z",
          "iopub.status.busy": "2021-03-23T09:40:15.891626Z",
          "iopub.status.idle": "2021-03-23T09:40:15.902522Z",
          "shell.execute_reply": "2021-03-23T09:40:15.902113Z"
        },
        "id": "D9-AU-oUj9Uq",
        "papermill": {
          "duration": 0.099265,
          "end_time": "2021-03-23T09:40:15.902646",
          "exception": false,
          "start_time": "2021-03-23T09:40:15.803381",
          "status": "completed"
        },
        "tags": []
      },
      "outputs": [],
      "source": [
        "X_train[0]"
      ]
    },
    {
      "cell_type": "code",
      "execution_count": null,
      "metadata": {
        "execution": {
          "iopub.execute_input": "2021-03-23T09:40:16.058099Z",
          "iopub.status.busy": "2021-03-23T09:40:16.057309Z",
          "iopub.status.idle": "2021-03-23T09:40:16.060621Z",
          "shell.execute_reply": "2021-03-23T09:40:16.061126Z"
        },
        "id": "5_kAvrkbP6KU",
        "papermill": {
          "duration": 0.083478,
          "end_time": "2021-03-23T09:40:16.061257",
          "exception": false,
          "start_time": "2021-03-23T09:40:15.977779",
          "status": "completed"
        },
        "tags": []
      },
      "outputs": [],
      "source": [
        "X_train.shape, X_valid.shape"
      ]
    },
    {
      "cell_type": "code",
      "execution_count": null,
      "metadata": {
        "execution": {
          "iopub.execute_input": "2021-03-23T09:40:16.215878Z",
          "iopub.status.busy": "2021-03-23T09:40:16.215189Z",
          "iopub.status.idle": "2021-03-23T09:40:16.218153Z",
          "shell.execute_reply": "2021-03-23T09:40:16.217703Z"
        },
        "id": "Vl_S6Ql2fwjh",
        "papermill": {
          "duration": 0.082213,
          "end_time": "2021-03-23T09:40:16.218267",
          "exception": false,
          "start_time": "2021-03-23T09:40:16.136054",
          "status": "completed"
        },
        "tags": []
      },
      "outputs": [],
      "source": [
        "def fetch_tags(data):\n",
        "  tags=[]\n",
        "  for example in data.examples:\n",
        "    tags.append(vars(example)['tags'])\n",
        "  return tags"
      ]
    },
    {
      "cell_type": "code",
      "execution_count": null,
      "metadata": {
        "execution": {
          "iopub.execute_input": "2021-03-23T09:40:16.380211Z",
          "iopub.status.busy": "2021-03-23T09:40:16.379494Z",
          "iopub.status.idle": "2021-03-23T09:40:16.382287Z",
          "shell.execute_reply": "2021-03-23T09:40:16.381884Z"
        },
        "id": "2L4V-Zdwf1FT",
        "papermill": {
          "duration": 0.08898,
          "end_time": "2021-03-23T09:40:16.382399",
          "exception": false,
          "start_time": "2021-03-23T09:40:16.293419",
          "status": "completed"
        },
        "tags": []
      },
      "outputs": [],
      "source": [
        "train_tags = fetch_tags(train_data)\n",
        "valid_tags = fetch_tags(valid_data)"
      ]
    },
    {
      "cell_type": "code",
      "execution_count": null,
      "metadata": {
        "execution": {
          "iopub.execute_input": "2021-03-23T09:40:16.543909Z",
          "iopub.status.busy": "2021-03-23T09:40:16.543094Z",
          "iopub.status.idle": "2021-03-23T09:40:16.546379Z",
          "shell.execute_reply": "2021-03-23T09:40:16.546896Z"
        },
        "id": "RwcyVXZE_1MW",
        "papermill": {
          "duration": 0.083949,
          "end_time": "2021-03-23T09:40:16.547027",
          "exception": false,
          "start_time": "2021-03-23T09:40:16.463078",
          "status": "completed"
        },
        "tags": []
      },
      "outputs": [],
      "source": [
        "train_tags[:5]"
      ]
    },
    {
      "cell_type": "code",
      "execution_count": null,
      "metadata": {
        "execution": {
          "iopub.execute_input": "2021-03-23T09:40:16.710832Z",
          "iopub.status.busy": "2021-03-23T09:40:16.710043Z",
          "iopub.status.idle": "2021-03-23T09:40:16.712529Z",
          "shell.execute_reply": "2021-03-23T09:40:16.712134Z"
        },
        "id": "WmT2dgfvOaGw",
        "papermill": {
          "duration": 0.089226,
          "end_time": "2021-03-23T09:40:16.712639",
          "exception": false,
          "start_time": "2021-03-23T09:40:16.623413",
          "status": "completed"
        },
        "tags": []
      },
      "outputs": [],
      "source": [
        "#preparing the output labels \n",
        "train_tags_list=[i.split(\",\") for i in train_tags]\n",
        "valid_tags_list=[i.split(\",\") for i in valid_tags]"
      ]
    },
    {
      "cell_type": "code",
      "execution_count": null,
      "metadata": {
        "execution": {
          "iopub.execute_input": "2021-03-23T09:40:16.873262Z",
          "iopub.status.busy": "2021-03-23T09:40:16.872626Z",
          "iopub.status.idle": "2021-03-23T09:40:16.878186Z",
          "shell.execute_reply": "2021-03-23T09:40:16.878592Z"
        },
        "id": "DWwlKMXc_R4S",
        "papermill": {
          "duration": 0.089123,
          "end_time": "2021-03-23T09:40:16.878728",
          "exception": false,
          "start_time": "2021-03-23T09:40:16.789605",
          "status": "completed"
        },
        "tags": []
      },
      "outputs": [],
      "source": [
        "mlb= MultiLabelBinarizer()\n",
        "mlb.fit(train_tags_list)"
      ]
    },
    {
      "cell_type": "code",
      "execution_count": null,
      "metadata": {
        "execution": {
          "iopub.execute_input": "2021-03-23T09:40:17.039648Z",
          "iopub.status.busy": "2021-03-23T09:40:17.038844Z",
          "iopub.status.idle": "2021-03-23T09:40:17.042035Z",
          "shell.execute_reply": "2021-03-23T09:40:17.042435Z"
        },
        "id": "yc4QfBrX_Ryl",
        "papermill": {
          "duration": 0.085654,
          "end_time": "2021-03-23T09:40:17.042570",
          "exception": false,
          "start_time": "2021-03-23T09:40:16.956916",
          "status": "completed"
        },
        "tags": []
      },
      "outputs": [],
      "source": [
        "mlb.classes_"
      ]
    },
    {
      "cell_type": "code",
      "execution_count": null,
      "metadata": {
        "execution": {
          "iopub.execute_input": "2021-03-23T09:40:17.214103Z",
          "iopub.status.busy": "2021-03-23T09:40:17.213330Z",
          "iopub.status.idle": "2021-03-23T09:40:17.220043Z",
          "shell.execute_reply": "2021-03-23T09:40:17.219541Z"
        },
        "id": "t6bHhjjsO0oA",
        "papermill": {
          "duration": 0.099447,
          "end_time": "2021-03-23T09:40:17.220176",
          "exception": false,
          "start_time": "2021-03-23T09:40:17.120729",
          "status": "completed"
        },
        "tags": []
      },
      "outputs": [],
      "source": [
        "y_train  = mlb.transform(train_tags_list)\n",
        "y_valid  = mlb.transform(valid_tags_list)"
      ]
    },
    {
      "cell_type": "code",
      "execution_count": null,
      "metadata": {
        "execution": {
          "iopub.execute_input": "2021-03-23T09:40:17.379756Z",
          "iopub.status.busy": "2021-03-23T09:40:17.378928Z",
          "iopub.status.idle": "2021-03-23T09:40:17.382695Z",
          "shell.execute_reply": "2021-03-23T09:40:17.382260Z"
        },
        "id": "RbhTziq7O0iT",
        "papermill": {
          "duration": 0.08548,
          "end_time": "2021-03-23T09:40:17.382821",
          "exception": false,
          "start_time": "2021-03-23T09:40:17.297341",
          "status": "completed"
        },
        "tags": []
      },
      "outputs": [],
      "source": [
        "y_train.shape, y_valid.shape"
      ]
    },
    {
      "cell_type": "code",
      "execution_count": null,
      "metadata": {
        "execution": {
          "iopub.execute_input": "2021-03-23T09:40:17.545603Z",
          "iopub.status.busy": "2021-03-23T09:40:17.544820Z",
          "iopub.status.idle": "2021-03-23T09:40:17.547997Z",
          "shell.execute_reply": "2021-03-23T09:40:17.548412Z"
        },
        "id": "R1QdDTe1pKcY",
        "papermill": {
          "duration": 0.087525,
          "end_time": "2021-03-23T09:40:17.548545",
          "exception": false,
          "start_time": "2021-03-23T09:40:17.461020",
          "status": "completed"
        },
        "tags": []
      },
      "outputs": [],
      "source": [
        "type(y_train)"
      ]
    },
    {
      "cell_type": "code",
      "execution_count": null,
      "metadata": {
        "execution": {
          "iopub.execute_input": "2021-03-23T09:40:17.710717Z",
          "iopub.status.busy": "2021-03-23T09:40:17.710118Z",
          "iopub.status.idle": "2021-03-23T09:40:17.720946Z",
          "shell.execute_reply": "2021-03-23T09:40:17.720506Z"
        },
        "id": "JS0y7u8MQNxf",
        "papermill": {
          "duration": 0.094024,
          "end_time": "2021-03-23T09:40:17.721061",
          "exception": false,
          "start_time": "2021-03-23T09:40:17.627037",
          "status": "completed"
        },
        "tags": []
      },
      "outputs": [],
      "source": [
        "y_train = torch.FloatTensor(y_train)\n",
        "y_valid = torch.FloatTensor(y_valid)"
      ]
    },
    {
      "cell_type": "code",
      "execution_count": null,
      "metadata": {
        "execution": {
          "iopub.execute_input": "2021-03-23T09:40:17.882533Z",
          "iopub.status.busy": "2021-03-23T09:40:17.881811Z",
          "iopub.status.idle": "2021-03-23T09:40:17.885448Z",
          "shell.execute_reply": "2021-03-23T09:40:17.885026Z"
        },
        "id": "PnpswpTgQXuK",
        "papermill": {
          "duration": 0.08595,
          "end_time": "2021-03-23T09:40:17.885554",
          "exception": false,
          "start_time": "2021-03-23T09:40:17.799604",
          "status": "completed"
        },
        "tags": []
      },
      "outputs": [],
      "source": [
        "type(y_train)"
      ]
    },
    {
      "cell_type": "markdown",
      "metadata": {
        "id": "f1QO2V5C1q0c",
        "papermill": {
          "duration": 0.078503,
          "end_time": "2021-03-23T09:40:18.043249",
          "exception": false,
          "start_time": "2021-03-23T09:40:17.964746",
          "status": "completed"
        },
        "tags": []
      },
      "source": [
        "# Model Building for RNN"
      ]
    },
    {
      "cell_type": "code",
      "execution_count": null,
      "metadata": {
        "execution": {
          "iopub.execute_input": "2021-03-23T09:40:18.206053Z",
          "iopub.status.busy": "2021-03-23T09:40:18.205493Z",
          "iopub.status.idle": "2021-03-23T09:40:18.220957Z",
          "shell.execute_reply": "2021-03-23T09:40:18.220450Z"
        },
        "id": "I-Hu3YNxhx5Z",
        "papermill": {
          "duration": 0.099064,
          "end_time": "2021-03-23T09:40:18.221124",
          "exception": false,
          "start_time": "2021-03-23T09:40:18.122060",
          "status": "completed"
        },
        "tags": []
      },
      "outputs": [],
      "source": [
        "# define embedding layer\n",
        "emb = Embedding(num_embeddings=len(TEXT.vocab), embedding_dim=50)"
      ]
    },
    {
      "cell_type": "code",
      "execution_count": null,
      "metadata": {
        "execution": {
          "iopub.execute_input": "2021-03-23T09:40:18.385440Z",
          "iopub.status.busy": "2021-03-23T09:40:18.384805Z",
          "iopub.status.idle": "2021-03-23T09:40:18.388181Z",
          "shell.execute_reply": "2021-03-23T09:40:18.387769Z"
        },
        "id": "jHL606DglJxs",
        "papermill": {
          "duration": 0.087903,
          "end_time": "2021-03-23T09:40:18.388294",
          "exception": false,
          "start_time": "2021-03-23T09:40:18.300391",
          "status": "completed"
        },
        "tags": []
      },
      "outputs": [],
      "source": [
        "X_train[:1].shape"
      ]
    },
    {
      "cell_type": "code",
      "execution_count": null,
      "metadata": {
        "execution": {
          "iopub.execute_input": "2021-03-23T09:40:18.553051Z",
          "iopub.status.busy": "2021-03-23T09:40:18.552468Z",
          "iopub.status.idle": "2021-03-23T09:40:18.559258Z",
          "shell.execute_reply": "2021-03-23T09:40:18.558676Z"
        },
        "id": "9qU_qVYah4sZ",
        "papermill": {
          "duration": 0.091784,
          "end_time": "2021-03-23T09:40:18.559395",
          "exception": false,
          "start_time": "2021-03-23T09:40:18.467611",
          "status": "completed"
        },
        "tags": []
      },
      "outputs": [],
      "source": [
        "# check sample input\n",
        "sample_embedding = emb(X_train[:1])"
      ]
    },
    {
      "cell_type": "code",
      "execution_count": null,
      "metadata": {
        "execution": {
          "iopub.execute_input": "2021-03-23T09:40:18.724650Z",
          "iopub.status.busy": "2021-03-23T09:40:18.723905Z",
          "iopub.status.idle": "2021-03-23T09:40:18.727246Z",
          "shell.execute_reply": "2021-03-23T09:40:18.727641Z"
        },
        "id": "qRqMsYe_jJzW",
        "papermill": {
          "duration": 0.087214,
          "end_time": "2021-03-23T09:40:18.727791",
          "exception": false,
          "start_time": "2021-03-23T09:40:18.640577",
          "status": "completed"
        },
        "tags": []
      },
      "outputs": [],
      "source": [
        "sample_embedding.shape"
      ]
    },
    {
      "cell_type": "code",
      "execution_count": null,
      "metadata": {
        "execution": {
          "iopub.execute_input": "2021-03-23T09:40:18.898546Z",
          "iopub.status.busy": "2021-03-23T09:40:18.897672Z",
          "iopub.status.idle": "2021-03-23T09:40:18.902799Z",
          "shell.execute_reply": "2021-03-23T09:40:18.903393Z"
        },
        "id": "7GNiEeVSzNqg",
        "papermill": {
          "duration": 0.096088,
          "end_time": "2021-03-23T09:40:18.903574",
          "exception": false,
          "start_time": "2021-03-23T09:40:18.807486",
          "status": "completed"
        },
        "tags": []
      },
      "outputs": [],
      "source": [
        "#define a rnn\n",
        "rnn = RNN(input_size=50, hidden_size=128, batch_first=True, nonlinearity='relu')"
      ]
    },
    {
      "cell_type": "code",
      "execution_count": null,
      "metadata": {
        "execution": {
          "iopub.execute_input": "2021-03-23T09:40:19.076098Z",
          "iopub.status.busy": "2021-03-23T09:40:19.075413Z",
          "iopub.status.idle": "2021-03-23T09:40:19.131930Z",
          "shell.execute_reply": "2021-03-23T09:40:19.131482Z"
        },
        "id": "BWWNM7emrESx",
        "papermill": {
          "duration": 0.140776,
          "end_time": "2021-03-23T09:40:19.132054",
          "exception": false,
          "start_time": "2021-03-23T09:40:18.991278",
          "status": "completed"
        },
        "tags": []
      },
      "outputs": [],
      "source": [
        "#pass the input to rnn\n",
        "hidden_states,last_hidden_state = rnn(sample_embedding)"
      ]
    },
    {
      "cell_type": "code",
      "execution_count": null,
      "metadata": {
        "execution": {
          "iopub.execute_input": "2021-03-23T09:40:19.297854Z",
          "iopub.status.busy": "2021-03-23T09:40:19.297110Z",
          "iopub.status.idle": "2021-03-23T09:40:19.300849Z",
          "shell.execute_reply": "2021-03-23T09:40:19.300374Z"
        },
        "id": "b2UOiZpIrEOV",
        "papermill": {
          "duration": 0.088163,
          "end_time": "2021-03-23T09:40:19.300959",
          "exception": false,
          "start_time": "2021-03-23T09:40:19.212796",
          "status": "completed"
        },
        "tags": []
      },
      "outputs": [],
      "source": [
        "#Hidden state of every timestep (Batch, seq_len, no. of hidden neurons)\n",
        "hidden_states.shape"
      ]
    },
    {
      "cell_type": "code",
      "execution_count": null,
      "metadata": {
        "execution": {
          "iopub.execute_input": "2021-03-23T09:40:19.467391Z",
          "iopub.status.busy": "2021-03-23T09:40:19.466623Z",
          "iopub.status.idle": "2021-03-23T09:40:19.470343Z",
          "shell.execute_reply": "2021-03-23T09:40:19.469943Z"
        },
        "id": "5X-Sh0Hfsndv",
        "papermill": {
          "duration": 0.088529,
          "end_time": "2021-03-23T09:40:19.470456",
          "exception": false,
          "start_time": "2021-03-23T09:40:19.381927",
          "status": "completed"
        },
        "tags": []
      },
      "outputs": [],
      "source": [
        "#output shape of last hidden timestep\n",
        "last_hidden_state.shape"
      ]
    },
    {
      "cell_type": "code",
      "execution_count": null,
      "metadata": {
        "execution": {
          "iopub.execute_input": "2021-03-23T09:40:19.638937Z",
          "iopub.status.busy": "2021-03-23T09:40:19.638235Z",
          "iopub.status.idle": "2021-03-23T09:40:19.641818Z",
          "shell.execute_reply": "2021-03-23T09:40:19.641382Z"
        },
        "id": "_CR_ZH74oMKU",
        "papermill": {
          "duration": 0.089107,
          "end_time": "2021-03-23T09:40:19.641936",
          "exception": false,
          "start_time": "2021-03-23T09:40:19.552829",
          "status": "completed"
        },
        "tags": []
      },
      "outputs": [],
      "source": [
        "#reshaping the hidden states\n",
        "reshaped = hidden_states.reshape(hidden_states.size(0),-1)\n",
        "reshaped.shape"
      ]
    },
    {
      "cell_type": "code",
      "execution_count": null,
      "metadata": {
        "execution": {
          "iopub.execute_input": "2021-03-23T09:40:19.812329Z",
          "iopub.status.busy": "2021-03-23T09:40:19.811570Z",
          "iopub.status.idle": "2021-03-23T09:40:19.814440Z",
          "shell.execute_reply": "2021-03-23T09:40:19.813939Z"
        },
        "id": "ak9rPTehSv0F",
        "papermill": {
          "duration": 0.091557,
          "end_time": "2021-03-23T09:40:19.814546",
          "exception": false,
          "start_time": "2021-03-23T09:40:19.722989",
          "status": "completed"
        },
        "tags": []
      },
      "outputs": [],
      "source": [
        "class Net(nn.Module):\n",
        "    \n",
        "    #define all the layers used in model\n",
        "    def __init__(self):\n",
        "        \n",
        "        #Constructor\n",
        "        super(Net, self).__init__()   \n",
        "        \n",
        "        self.rnn_layer = nn.Sequential(\n",
        "            \n",
        "            #embedding layer [batch_size,vocab_size]\n",
        "            Embedding(num_embeddings=len(TEXT.vocab), embedding_dim=50),\n",
        "        \n",
        "            #rnn layer [batch_size,100,128]\n",
        "            RNN(input_size=50, hidden_size=128, nonlinearity='relu',batch_first=True)\n",
        "          \n",
        "            )\n",
        "\n",
        "        self.dense_layer = nn.Sequential(\n",
        "            \n",
        "            #[batch_size,100*128]\n",
        "            Linear(12800, 128),\n",
        "\n",
        "            ReLU(),\n",
        "\n",
        "            #[batch_size,128]\n",
        "            Linear(128,10),\n",
        "            \n",
        "            #[batch_size,10]\n",
        "            Sigmoid()\n",
        "\n",
        "        )\n",
        "\n",
        "    def forward(self, x):\n",
        "        \n",
        "        #rnn layer\n",
        "        hidden_states, last_hidden_state = self.rnn_layer(x)\n",
        "\n",
        "        #reshaping\n",
        "        hidden_states = hidden_states.reshape(hidden_states.size(0),-1)\n",
        "\n",
        "        #dense layer\n",
        "        outputs=self.dense_layer(hidden_states)\n",
        "        \n",
        "        return outputs"
      ]
    },
    {
      "cell_type": "code",
      "execution_count": null,
      "metadata": {
        "execution": {
          "iopub.execute_input": "2021-03-23T09:40:19.985484Z",
          "iopub.status.busy": "2021-03-23T09:40:19.983995Z",
          "iopub.status.idle": "2021-03-23T09:40:20.020916Z",
          "shell.execute_reply": "2021-03-23T09:40:20.021654Z"
        },
        "id": "0YJHLpi4Sv5j",
        "papermill": {
          "duration": 0.125352,
          "end_time": "2021-03-23T09:40:20.021890",
          "exception": false,
          "start_time": "2021-03-23T09:40:19.896538",
          "status": "completed"
        },
        "tags": []
      },
      "outputs": [],
      "source": [
        "#define the model\n",
        "model = Net()"
      ]
    },
    {
      "cell_type": "code",
      "execution_count": null,
      "metadata": {
        "execution": {
          "iopub.execute_input": "2021-03-23T09:40:20.317145Z",
          "iopub.status.busy": "2021-03-23T09:40:20.316285Z",
          "iopub.status.idle": "2021-03-23T09:40:20.319871Z",
          "shell.execute_reply": "2021-03-23T09:40:20.317871Z"
        },
        "id": "L4U_4YfbSv_A",
        "papermill": {
          "duration": 0.147867,
          "end_time": "2021-03-23T09:40:20.320045",
          "exception": false,
          "start_time": "2021-03-23T09:40:20.172178",
          "status": "completed"
        },
        "tags": []
      },
      "outputs": [],
      "source": [
        "#model layers\n",
        "model"
      ]
    },
    {
      "cell_type": "code",
      "execution_count": null,
      "metadata": {
        "execution": {
          "iopub.execute_input": "2021-03-23T09:40:20.607519Z",
          "iopub.status.busy": "2021-03-23T09:40:20.604669Z",
          "iopub.status.idle": "2021-03-23T09:40:20.646432Z",
          "shell.execute_reply": "2021-03-23T09:40:20.647435Z"
        },
        "id": "D06A21xv6JaN",
        "papermill": {
          "duration": 0.192842,
          "end_time": "2021-03-23T09:40:20.647631",
          "exception": false,
          "start_time": "2021-03-23T09:40:20.454789",
          "status": "completed"
        },
        "tags": []
      },
      "outputs": [],
      "source": [
        "with torch.no_grad():\n",
        "  pred = model(X_train[:1])\n",
        "  print(pred)"
      ]
    },
    {
      "cell_type": "code",
      "execution_count": null,
      "metadata": {
        "execution": {
          "iopub.execute_input": "2021-03-23T09:40:20.953168Z",
          "iopub.status.busy": "2021-03-23T09:40:20.952423Z",
          "iopub.status.idle": "2021-03-23T09:40:25.442160Z",
          "shell.execute_reply": "2021-03-23T09:40:25.441634Z"
        },
        "id": "liHnnKIFjmRj",
        "papermill": {
          "duration": 4.670557,
          "end_time": "2021-03-23T09:40:25.442299",
          "exception": false,
          "start_time": "2021-03-23T09:40:20.771742",
          "status": "completed"
        },
        "tags": []
      },
      "outputs": [],
      "source": [
        "#define optimizer and loss\n",
        "optimizer = torch.optim.Adam(model.parameters())\n",
        "criterion = BCELoss()\n",
        "\n",
        "# checking if GPU is available\n",
        "if torch.cuda.is_available():\n",
        "    model = model.cuda()\n",
        "    criterion = criterion.cuda()"
      ]
    },
    {
      "cell_type": "markdown",
      "metadata": {
        "id": "LleGoa8918PF",
        "papermill": {
          "duration": 0.119144,
          "end_time": "2021-03-23T09:40:25.645467",
          "exception": false,
          "start_time": "2021-03-23T09:40:25.526323",
          "status": "completed"
        },
        "tags": []
      },
      "source": [
        "# Model Training"
      ]
    },
    {
      "cell_type": "code",
      "execution_count": null,
      "metadata": {
        "execution": {
          "iopub.execute_input": "2021-03-23T09:40:25.819639Z",
          "iopub.status.busy": "2021-03-23T09:40:25.818820Z",
          "iopub.status.idle": "2021-03-23T09:40:25.821833Z",
          "shell.execute_reply": "2021-03-23T09:40:25.821413Z"
        },
        "id": "p_v08HY6Sv84",
        "papermill": {
          "duration": 0.093751,
          "end_time": "2021-03-23T09:40:25.821948",
          "exception": false,
          "start_time": "2021-03-23T09:40:25.728197",
          "status": "completed"
        },
        "tags": []
      },
      "outputs": [],
      "source": [
        "# define training function\n",
        "def train(X,y,batch_size):\n",
        "\n",
        "  #activate training phase\n",
        "  model.train()\n",
        "  \n",
        "  #initialization\n",
        "  epoch_loss= 0\n",
        "  no_of_batches = 0\n",
        "\n",
        "  #randomly create indices\n",
        "  indices= torch.randperm(len(X))\n",
        "  \n",
        "  #loading in batches\n",
        "  for i in range(0,len(indices),batch_size):\n",
        "    \n",
        "    #indices for a batch\n",
        "    ind = indices[i:i+batch_size]\n",
        "  \n",
        "    #batch  \n",
        "    batch_x=X[ind]\n",
        "    batch_y=y[ind]\n",
        "    \n",
        "    #push to cuda\n",
        "    if torch.cuda.is_available():\n",
        "        batch_x, batch_y = batch_x.cuda(), batch_y.cuda()\n",
        "\n",
        "    #clear gradients\n",
        "    optimizer.zero_grad()\n",
        "          \n",
        "    #forward pass\n",
        "    outputs = model(batch_x)\n",
        "\n",
        "    #converting to a 1 dimensional tensor\n",
        "    outputs = outputs.squeeze()\n",
        "\n",
        "    #calculate loss and accuracy\n",
        "    loss = criterion(outputs, batch_y)\n",
        "    \n",
        "    #Backward pass\n",
        "    loss.backward()\n",
        "    \n",
        "    #Update weights\n",
        "    optimizer.step()\n",
        "\n",
        "    #Keep track of the loss and accuracy of a epoch\n",
        "    epoch_loss = epoch_loss + loss.item()\n",
        "\n",
        "    #No. of batches\n",
        "    no_of_batches = no_of_batches+1\n",
        "\n",
        "  return epoch_loss/no_of_batches"
      ]
    },
    {
      "cell_type": "code",
      "execution_count": null,
      "metadata": {
        "execution": {
          "iopub.execute_input": "2021-03-23T09:40:25.995103Z",
          "iopub.status.busy": "2021-03-23T09:40:25.994432Z",
          "iopub.status.idle": "2021-03-23T09:40:25.997265Z",
          "shell.execute_reply": "2021-03-23T09:40:25.996864Z"
        },
        "id": "FeCtfkgoSvx8",
        "papermill": {
          "duration": 0.092658,
          "end_time": "2021-03-23T09:40:25.997389",
          "exception": false,
          "start_time": "2021-03-23T09:40:25.904731",
          "status": "completed"
        },
        "tags": []
      },
      "outputs": [],
      "source": [
        "# define evaluation function\n",
        "def evaluate(X,y,batch_size):\n",
        "\n",
        "  #deactivate training phase\n",
        "  model.eval()\n",
        "\n",
        "  #initialization\n",
        "  epoch_loss = 0\n",
        "  no_of_batches = 0\n",
        "\n",
        "  #randomly create indices\n",
        "  indices= torch.randperm(len(X))\n",
        "\n",
        "  #deactivates autograd\n",
        "  with torch.no_grad():\n",
        "    \n",
        "    #loading in batches\n",
        "    for i in range(0,len(indices),batch_size):\n",
        "      \n",
        "      #indices for a batch\n",
        "      ind = indices[i:i+batch_size]\n",
        "  \n",
        "      #batch  \n",
        "      batch_x= X[ind]\n",
        "      batch_y= y[ind]\n",
        "\n",
        "      #push to cuda\n",
        "      if torch.cuda.is_available():\n",
        "          batch_x, batch_y = batch_x.cuda(), batch_y.cuda()\n",
        "        \n",
        "      #Forward pass\n",
        "      outputs = model(batch_x)\n",
        "\n",
        "      #converting the output to 1 Dimensional tensor\n",
        "      outputs = outputs.squeeze()\n",
        "\n",
        "      # Calculate loss and accuracy\n",
        "      loss = criterion(outputs, batch_y)\n",
        "      \n",
        "      #keep track of loss and accuracy of an epoch\n",
        "      epoch_loss = epoch_loss + loss.item()\n",
        "\n",
        "      #no. of batches\n",
        "      no_of_batches = no_of_batches + 1\n",
        "\n",
        "    return epoch_loss/no_of_batches"
      ]
    },
    {
      "cell_type": "code",
      "execution_count": null,
      "metadata": {
        "execution": {
          "iopub.execute_input": "2021-03-23T09:40:26.171251Z",
          "iopub.status.busy": "2021-03-23T09:40:26.170525Z",
          "iopub.status.idle": "2021-03-23T09:40:26.173276Z",
          "shell.execute_reply": "2021-03-23T09:40:26.172779Z"
        },
        "id": "73CuJpFUYvDM",
        "papermill": {
          "duration": 0.092284,
          "end_time": "2021-03-23T09:40:26.173395",
          "exception": false,
          "start_time": "2021-03-23T09:40:26.081111",
          "status": "completed"
        },
        "tags": []
      },
      "outputs": [],
      "source": [
        "# define prediction function\n",
        "def predict(X,batch_size):\n",
        "  \n",
        "  #deactivate training phase\n",
        "  model.eval()\n",
        "\n",
        "  # initialization \n",
        "  predictions = []\n",
        "\n",
        "  # create indices\n",
        "  indices = torch.arange(len(X))\n",
        "\n",
        "  #deactivates autograd\n",
        "  with torch.no_grad():\n",
        "      \n",
        "      for i in range(0, len(X), batch_size):\n",
        "        \n",
        "        #indices for a batch\n",
        "        ind = indices[i:i+batch_size]\n",
        "\n",
        "        # batch\n",
        "        batch_x = X[ind]\n",
        "\n",
        "        #push to cuda\n",
        "        if torch.cuda.is_available():\n",
        "            batch_x = batch_x.cuda()\n",
        "\n",
        "        #Forward pass\n",
        "        outputs = model(batch_x)\n",
        "\n",
        "        #converting the output to 1 Dimensional tensor\n",
        "        outputs = outputs.squeeze()\n",
        "\n",
        "        # convert to numpy array\n",
        "        prediction = outputs.data.cpu().numpy()\n",
        "        predictions.append(prediction)\n",
        "    \n",
        "  # convert to single numpy array\n",
        "  predictions = np.concatenate(predictions, axis=0)\n",
        "    \n",
        "  return predictions"
      ]
    },
    {
      "cell_type": "code",
      "execution_count": null,
      "metadata": {
        "execution": {
          "iopub.execute_input": "2021-03-23T09:40:26.345808Z",
          "iopub.status.busy": "2021-03-23T09:40:26.345018Z",
          "iopub.status.idle": "2021-03-23T09:40:44.114283Z",
          "shell.execute_reply": "2021-03-23T09:40:44.115475Z"
        },
        "id": "Z5bch29mSve6",
        "papermill": {
          "duration": 17.85935,
          "end_time": "2021-03-23T09:40:44.115799",
          "exception": false,
          "start_time": "2021-03-23T09:40:26.256449",
          "status": "completed"
        },
        "tags": []
      },
      "outputs": [],
      "source": [
        "N_EPOCHS = 10\n",
        "batch_size = 32\n",
        "\n",
        "# intialization\n",
        "best_valid_loss = float('inf')\n",
        "\n",
        "for epoch in range(N_EPOCHS):\n",
        "     \n",
        "    #train the model\n",
        "    train_loss   = train(X_train, y_train, batch_size)\n",
        "    \n",
        "    #evaluate the model\n",
        "    valid_loss   = evaluate(X_valid, y_valid, batch_size)\n",
        "\n",
        "    print('\\nEpoch :',epoch,\n",
        "          'Training loss:',round(train_loss,4),\n",
        "          '\\tValidation loss:',round(valid_loss,4))\n",
        "\n",
        "    #save the best model\n",
        "    if best_valid_loss >= valid_loss:\n",
        "        best_valid_loss = valid_loss\n",
        "        torch.save(model.state_dict(), 'saved_weights.pt') \n",
        "        print(\"\\n----------------------------------------------------Saved best model------------------------------------------------------------------\")   "
      ]
    },
    {
      "cell_type": "markdown",
      "metadata": {
        "id": "iPD3sYkO2C8k",
        "papermill": {
          "duration": 0.138667,
          "end_time": "2021-03-23T09:40:44.390404",
          "exception": false,
          "start_time": "2021-03-23T09:40:44.251737",
          "status": "completed"
        },
        "tags": []
      },
      "source": [
        "# Model Evaluation"
      ]
    },
    {
      "cell_type": "code",
      "execution_count": null,
      "metadata": {
        "execution": {
          "iopub.execute_input": "2021-03-23T09:40:44.676036Z",
          "iopub.status.busy": "2021-03-23T09:40:44.674980Z",
          "iopub.status.idle": "2021-03-23T09:40:44.688490Z",
          "shell.execute_reply": "2021-03-23T09:40:44.689444Z"
        },
        "id": "Gdj5mP2EYZVz",
        "papermill": {
          "duration": 0.160644,
          "end_time": "2021-03-23T09:40:44.689633",
          "exception": false,
          "start_time": "2021-03-23T09:40:44.528989",
          "status": "completed"
        },
        "tags": []
      },
      "outputs": [],
      "source": [
        "#load weights of best model\n",
        "path='saved_weights.pt'\n",
        "model.load_state_dict(torch.load(path))"
      ]
    },
    {
      "cell_type": "code",
      "execution_count": null,
      "metadata": {
        "execution": {
          "iopub.execute_input": "2021-03-23T09:40:44.976136Z",
          "iopub.status.busy": "2021-03-23T09:40:44.975493Z",
          "iopub.status.idle": "2021-03-23T09:40:45.119560Z",
          "shell.execute_reply": "2021-03-23T09:40:45.119050Z"
        },
        "id": "AbV0Y8dXYsv2",
        "papermill": {
          "duration": 0.290245,
          "end_time": "2021-03-23T09:40:45.119683",
          "exception": false,
          "start_time": "2021-03-23T09:40:44.829438",
          "status": "completed"
        },
        "tags": []
      },
      "outputs": [],
      "source": [
        "#predict probabilities\n",
        "y_pred_prob = predict(X_valid, batch_size)"
      ]
    },
    {
      "cell_type": "code",
      "execution_count": null,
      "metadata": {
        "execution": {
          "iopub.execute_input": "2021-03-23T09:40:45.296290Z",
          "iopub.status.busy": "2021-03-23T09:40:45.295711Z",
          "iopub.status.idle": "2021-03-23T09:40:45.301255Z",
          "shell.execute_reply": "2021-03-23T09:40:45.300742Z"
        },
        "id": "0_K7FERpSvZL",
        "papermill": {
          "duration": 0.095057,
          "end_time": "2021-03-23T09:40:45.301372",
          "exception": false,
          "start_time": "2021-03-23T09:40:45.206315",
          "status": "completed"
        },
        "tags": []
      },
      "outputs": [],
      "source": [
        "y_pred_prob[0]"
      ]
    },
    {
      "cell_type": "code",
      "execution_count": null,
      "metadata": {
        "execution": {
          "iopub.execute_input": "2021-03-23T09:40:45.478824Z",
          "iopub.status.busy": "2021-03-23T09:40:45.477149Z",
          "iopub.status.idle": "2021-03-23T09:40:45.479531Z",
          "shell.execute_reply": "2021-03-23T09:40:45.479960Z"
        },
        "id": "AdpKdmTvbEeu",
        "papermill": {
          "duration": 0.092063,
          "end_time": "2021-03-23T09:40:45.480088",
          "exception": false,
          "start_time": "2021-03-23T09:40:45.388025",
          "status": "completed"
        },
        "tags": []
      },
      "outputs": [],
      "source": [
        "#actual tags\n",
        "y_true = y_valid.cpu().numpy()"
      ]
    },
    {
      "cell_type": "code",
      "execution_count": null,
      "metadata": {
        "execution": {
          "iopub.execute_input": "2021-03-23T09:40:45.656276Z",
          "iopub.status.busy": "2021-03-23T09:40:45.655696Z",
          "iopub.status.idle": "2021-03-23T09:40:45.661534Z",
          "shell.execute_reply": "2021-03-23T09:40:45.660941Z"
        },
        "id": "eoyr5wlbSmfI",
        "papermill": {
          "duration": 0.096019,
          "end_time": "2021-03-23T09:40:45.661681",
          "exception": false,
          "start_time": "2021-03-23T09:40:45.565662",
          "status": "completed"
        },
        "tags": []
      },
      "outputs": [],
      "source": [
        "#define candidate threshold values\n",
        "threshold  = np.arange(0,0.5,0.01)\n",
        "print(threshold)"
      ]
    },
    {
      "cell_type": "code",
      "execution_count": null,
      "metadata": {
        "execution": {
          "iopub.execute_input": "2021-03-23T09:40:45.840150Z",
          "iopub.status.busy": "2021-03-23T09:40:45.839564Z",
          "iopub.status.idle": "2021-03-23T09:40:45.843460Z",
          "shell.execute_reply": "2021-03-23T09:40:45.842987Z"
        },
        "id": "bvcm8hxPSb3e",
        "papermill": {
          "duration": 0.095084,
          "end_time": "2021-03-23T09:40:45.843576",
          "exception": false,
          "start_time": "2021-03-23T09:40:45.748492",
          "status": "completed"
        },
        "tags": []
      },
      "outputs": [],
      "source": [
        "# convert probabilities into classes or tags based on a threshold value\n",
        "def classify(y_pred_prob, thresh):\n",
        "  \n",
        "  y_pred = []\n",
        "\n",
        "  for i in y_pred_prob:\n",
        "    temp=[]\n",
        "      \n",
        "    for j in i:\n",
        "      if j>=thresh:\n",
        "        temp.append(1)\n",
        "      else:\n",
        "        temp.append(0)\n",
        "    \n",
        "    y_pred.append(temp)\n",
        "\n",
        "  return np.array(y_pred)"
      ]
    },
    {
      "cell_type": "code",
      "execution_count": null,
      "metadata": {
        "execution": {
          "iopub.execute_input": "2021-03-23T09:40:46.039950Z",
          "iopub.status.busy": "2021-03-23T09:40:46.029675Z",
          "iopub.status.idle": "2021-03-23T09:40:50.065658Z",
          "shell.execute_reply": "2021-03-23T09:40:50.064614Z"
        },
        "id": "gG8OFwSuSb0m",
        "papermill": {
          "duration": 4.135948,
          "end_time": "2021-03-23T09:40:50.065817",
          "exception": false,
          "start_time": "2021-03-23T09:40:45.929869",
          "status": "completed"
        },
        "tags": []
      },
      "outputs": [],
      "source": [
        "score=[]\n",
        "\n",
        "for thresh in threshold:\n",
        "    \n",
        "    #classes for each threshold\n",
        "    y_pred = classify(y_pred_prob, thresh) \n",
        "\n",
        "    #convert to 1d array\n",
        "    y_pred_1d    =  y_pred.ravel()\n",
        "    y_true_1d    =  y_true.ravel()\n",
        " \n",
        "    score.append(metrics.f1_score(y_true_1d, y_pred_1d))"
      ]
    },
    {
      "cell_type": "code",
      "execution_count": null,
      "metadata": {
        "execution": {
          "iopub.execute_input": "2021-03-23T09:40:50.245845Z",
          "iopub.status.busy": "2021-03-23T09:40:50.244971Z",
          "iopub.status.idle": "2021-03-23T09:40:50.248115Z",
          "shell.execute_reply": "2021-03-23T09:40:50.247639Z"
        },
        "id": "XBZxqkmSR_8i",
        "papermill": {
          "duration": 0.095138,
          "end_time": "2021-03-23T09:40:50.248229",
          "exception": false,
          "start_time": "2021-03-23T09:40:50.153091",
          "status": "completed"
        },
        "tags": []
      },
      "outputs": [],
      "source": [
        "# find the optimal threshold\n",
        "opt = threshold[score.index(max(score))]\n",
        "print(opt)"
      ]
    },
    {
      "cell_type": "code",
      "execution_count": null,
      "metadata": {
        "execution": {
          "iopub.execute_input": "2021-03-23T09:40:50.470489Z",
          "iopub.status.busy": "2021-03-23T09:40:50.450122Z",
          "iopub.status.idle": "2021-03-23T09:40:50.501285Z",
          "shell.execute_reply": "2021-03-23T09:40:50.500855Z"
        },
        "id": "eD2l-uNwR7o3",
        "papermill": {
          "duration": 0.166267,
          "end_time": "2021-03-23T09:40:50.501404",
          "exception": false,
          "start_time": "2021-03-23T09:40:50.335137",
          "status": "completed"
        },
        "tags": []
      },
      "outputs": [],
      "source": [
        "#predictions for optimal threshold\n",
        "y_pred = classify(y_pred_prob, opt)"
      ]
    },
    {
      "cell_type": "code",
      "execution_count": null,
      "metadata": {
        "execution": {
          "iopub.execute_input": "2021-03-23T09:40:50.680054Z",
          "iopub.status.busy": "2021-03-23T09:40:50.679246Z",
          "iopub.status.idle": "2021-03-23T09:40:50.723959Z",
          "shell.execute_reply": "2021-03-23T09:40:50.724501Z"
        },
        "id": "MdHB_HaJR7m2",
        "papermill": {
          "duration": 0.136427,
          "end_time": "2021-03-23T09:40:50.724687",
          "exception": false,
          "start_time": "2021-03-23T09:40:50.588260",
          "status": "completed"
        },
        "tags": []
      },
      "outputs": [],
      "source": [
        "#converting to 1D\n",
        "y_pred_1d = y_pred.ravel()\n",
        "\n",
        "#Classification report\n",
        "print(metrics.classification_report(y_true_1d, y_pred_1d))"
      ]
    },
    {
      "cell_type": "code",
      "execution_count": null,
      "metadata": {
        "execution": {
          "iopub.execute_input": "2021-03-23T09:40:50.905890Z",
          "iopub.status.busy": "2021-03-23T09:40:50.905070Z",
          "iopub.status.idle": "2021-03-23T09:40:50.949664Z",
          "shell.execute_reply": "2021-03-23T09:40:50.949265Z"
        },
        "id": "YY-z8S42XTBB",
        "papermill": {
          "duration": 0.136526,
          "end_time": "2021-03-23T09:40:50.949803",
          "exception": false,
          "start_time": "2021-03-23T09:40:50.813277",
          "status": "completed"
        },
        "tags": []
      },
      "outputs": [],
      "source": [
        "#convert back to tags\n",
        "y_pred_label = mlb.inverse_transform(np.array(y_pred))\n",
        "y_true_label = mlb.inverse_transform(np.array(y_true))\n",
        "\n",
        "# get all validation text\n",
        "queries = [\" \".join(i) for i in valid_text]\n",
        "\n",
        "# create a dataframe to show the data and prediction side by side\n",
        "df = pd.DataFrame({'Questions':queries,'Actual Tags':y_true_label,'Predicted Tags':y_pred_label})\n",
        "\n",
        "# print first five rows\n",
        "df.head()"
      ]
    },
    {
      "cell_type": "markdown",
      "metadata": {
        "id": "Ib-fPuHqx2cu",
        "papermill": {
          "duration": 0.087656,
          "end_time": "2021-03-23T09:40:51.126584",
          "exception": false,
          "start_time": "2021-03-23T09:40:51.038928",
          "status": "completed"
        },
        "tags": []
      },
      "source": [
        "# Show Inference"
      ]
    },
    {
      "cell_type": "code",
      "execution_count": null,
      "metadata": {
        "execution": {
          "iopub.execute_input": "2021-03-23T09:40:51.317954Z",
          "iopub.status.busy": "2021-03-23T09:40:51.317368Z",
          "iopub.status.idle": "2021-03-23T09:40:51.321436Z",
          "shell.execute_reply": "2021-03-23T09:40:51.320990Z"
        },
        "id": "x-xFfFHVdVz5",
        "papermill": {
          "duration": 0.106456,
          "end_time": "2021-03-23T09:40:51.321566",
          "exception": false,
          "start_time": "2021-03-23T09:40:51.215110",
          "status": "completed"
        },
        "tags": []
      },
      "outputs": [],
      "source": [
        "#raw text\n",
        "text = \"For example, in the case of logistic regression, the learning function is a Sigmoid function that tries to separate the 2 classes\""
      ]
    },
    {
      "cell_type": "code",
      "execution_count": null,
      "metadata": {
        "execution": {
          "iopub.execute_input": "2021-03-23T09:40:51.520156Z",
          "iopub.status.busy": "2021-03-23T09:40:51.519028Z",
          "iopub.status.idle": "2021-03-23T09:40:51.522639Z",
          "shell.execute_reply": "2021-03-23T09:40:51.523187Z"
        },
        "id": "BzCbTh8_dWJa",
        "papermill": {
          "duration": 0.106643,
          "end_time": "2021-03-23T09:40:51.523327",
          "exception": false,
          "start_time": "2021-03-23T09:40:51.416684",
          "status": "completed"
        },
        "tags": []
      },
      "outputs": [],
      "source": [
        "#cleaning text\n",
        "tokens = cleaner(text)\n",
        "tokens[:5]"
      ]
    },
    {
      "cell_type": "code",
      "execution_count": null,
      "metadata": {
        "execution": {
          "iopub.execute_input": "2021-03-23T09:40:51.720952Z",
          "iopub.status.busy": "2021-03-23T09:40:51.720175Z",
          "iopub.status.idle": "2021-03-23T09:40:51.724049Z",
          "shell.execute_reply": "2021-03-23T09:40:51.723599Z"
        },
        "id": "gqoqyJVtfUbP",
        "papermill": {
          "duration": 0.105029,
          "end_time": "2021-03-23T09:40:51.724159",
          "exception": false,
          "start_time": "2021-03-23T09:40:51.619130",
          "status": "completed"
        },
        "tags": []
      },
      "outputs": [],
      "source": [
        "#first argument to the model is no. of samples\n",
        "tokens = np.array(tokens).reshape(-1,len(tokens))\n",
        "tokens.shape"
      ]
    },
    {
      "cell_type": "code",
      "execution_count": null,
      "metadata": {
        "execution": {
          "iopub.execute_input": "2021-03-23T09:40:51.921311Z",
          "iopub.status.busy": "2021-03-23T09:40:51.920418Z",
          "iopub.status.idle": "2021-03-23T09:40:51.925917Z",
          "shell.execute_reply": "2021-03-23T09:40:51.925420Z"
        },
        "id": "2Tb27oqsdWGH",
        "papermill": {
          "duration": 0.105994,
          "end_time": "2021-03-23T09:40:51.926057",
          "exception": false,
          "start_time": "2021-03-23T09:40:51.820063",
          "status": "completed"
        },
        "tags": []
      },
      "outputs": [],
      "source": [
        "#converting text to integer sequences\n",
        "seq = convert2seq(tokens)\n",
        "seq"
      ]
    },
    {
      "cell_type": "code",
      "execution_count": null,
      "metadata": {
        "execution": {
          "iopub.execute_input": "2021-03-23T09:40:52.127930Z",
          "iopub.status.busy": "2021-03-23T09:40:52.127328Z",
          "iopub.status.idle": "2021-03-23T09:40:52.163522Z",
          "shell.execute_reply": "2021-03-23T09:40:52.162994Z"
        },
        "id": "c49lZSl4dWDE",
        "papermill": {
          "duration": 0.137562,
          "end_time": "2021-03-23T09:40:52.163644",
          "exception": false,
          "start_time": "2021-03-23T09:40:52.026082",
          "status": "completed"
        },
        "tags": []
      },
      "outputs": [],
      "source": [
        "#predictions\n",
        "with torch.no_grad():\n",
        "  if torch.cuda.is_available():\n",
        "    seq = seq.cuda()\n",
        "  pred_prob= model(seq)\n",
        "  print(pred_prob)"
      ]
    },
    {
      "cell_type": "code",
      "execution_count": null,
      "metadata": {
        "execution": {
          "iopub.execute_input": "2021-03-23T09:40:52.346782Z",
          "iopub.status.busy": "2021-03-23T09:40:52.346249Z",
          "iopub.status.idle": "2021-03-23T09:40:52.355677Z",
          "shell.execute_reply": "2021-03-23T09:40:52.355276Z"
        },
        "id": "ZeH965i2dVud",
        "papermill": {
          "duration": 0.102307,
          "end_time": "2021-03-23T09:40:52.355819",
          "exception": false,
          "start_time": "2021-03-23T09:40:52.253512",
          "status": "completed"
        },
        "tags": []
      },
      "outputs": [],
      "source": [
        "#classify\n",
        "pred = classify(pred_prob,opt)\n",
        "pred"
      ]
    },
    {
      "cell_type": "code",
      "execution_count": null,
      "metadata": {
        "execution": {
          "iopub.execute_input": "2021-03-23T09:40:52.540632Z",
          "iopub.status.busy": "2021-03-23T09:40:52.539931Z",
          "iopub.status.idle": "2021-03-23T09:40:52.543456Z",
          "shell.execute_reply": "2021-03-23T09:40:52.543047Z"
        },
        "id": "qCf__xiIfFU9",
        "papermill": {
          "duration": 0.097887,
          "end_time": "2021-03-23T09:40:52.543569",
          "exception": false,
          "start_time": "2021-03-23T09:40:52.445682",
          "status": "completed"
        },
        "tags": []
      },
      "outputs": [],
      "source": [
        "tags  = mlb.inverse_transform(pred)[0]\n",
        "tags"
      ]
    },
    {
      "cell_type": "code",
      "execution_count": null,
      "metadata": {
        "execution": {
          "iopub.execute_input": "2021-03-23T09:40:52.729111Z",
          "iopub.status.busy": "2021-03-23T09:40:52.728429Z",
          "iopub.status.idle": "2021-03-23T09:40:52.731194Z",
          "shell.execute_reply": "2021-03-23T09:40:52.730747Z"
        },
        "id": "Nk_3cC8tfFdy",
        "papermill": {
          "duration": 0.098091,
          "end_time": "2021-03-23T09:40:52.731302",
          "exception": false,
          "start_time": "2021-03-23T09:40:52.633211",
          "status": "completed"
        },
        "tags": []
      },
      "outputs": [],
      "source": [
        "def predict_tags(text):\n",
        "  \n",
        "  tokens = cleaner(text)\n",
        "  \n",
        "  tokens = np.array(tokens).reshape(-1,len(tokens))\n",
        "  \n",
        "  seq = convert2seq(tokens)\n",
        "  \n",
        "  with torch.no_grad():\n",
        "    if torch.cuda.is_available():\n",
        "      seq = seq.cuda()\n",
        "\n",
        "  pred_prob= model(seq)\n",
        "  pred = classify(pred_prob,opt)\n",
        "  \n",
        "  tags  = mlb.inverse_transform(pred)[0]\n",
        "  \n",
        "  return tags"
      ]
    },
    {
      "cell_type": "code",
      "execution_count": null,
      "metadata": {
        "execution": {
          "iopub.execute_input": "2021-03-23T09:40:52.917329Z",
          "iopub.status.busy": "2021-03-23T09:40:52.916530Z",
          "iopub.status.idle": "2021-03-23T09:40:52.924301Z",
          "shell.execute_reply": "2021-03-23T09:40:52.923864Z"
        },
        "id": "B0Jxz5kmeyEm",
        "papermill": {
          "duration": 0.103084,
          "end_time": "2021-03-23T09:40:52.924413",
          "exception": false,
          "start_time": "2021-03-23T09:40:52.821329",
          "status": "completed"
        },
        "tags": []
      },
      "outputs": [],
      "source": [
        "text = \"For example, in the case of logistic regression, the learning function is a Sigmoid function that tries to separate the 2 classes\"\n",
        "\n",
        "tags = predict_tags(text)\n",
        "print(\"Query: \", text)\n",
        "print(\"Predicted tags:\",tags)"
      ]
    },
    {
      "cell_type": "markdown",
      "metadata": {
        "id": "8cN7_48hWIGA",
        "papermill": {
          "duration": 0.153817,
          "end_time": "2021-03-23T09:40:53.194090",
          "exception": false,
          "start_time": "2021-03-23T09:40:53.040273",
          "status": "completed"
        },
        "tags": []
      },
      "source": [
        "# Model Building for LSTM"
      ]
    },
    {
      "cell_type": "code",
      "execution_count": null,
      "metadata": {
        "execution": {
          "iopub.execute_input": "2021-03-23T09:40:53.498126Z",
          "iopub.status.busy": "2021-03-23T09:40:53.497286Z",
          "iopub.status.idle": "2021-03-23T09:40:53.500726Z",
          "shell.execute_reply": "2021-03-23T09:40:53.498828Z"
        },
        "id": "_QazqtX4Fc-c",
        "papermill": {
          "duration": 0.158832,
          "end_time": "2021-03-23T09:40:53.500894",
          "exception": false,
          "start_time": "2021-03-23T09:40:53.342062",
          "status": "completed"
        },
        "tags": []
      },
      "outputs": [],
      "source": [
        "sample_embedding.shape"
      ]
    },
    {
      "cell_type": "code",
      "execution_count": null,
      "metadata": {
        "execution": {
          "iopub.execute_input": "2021-03-23T09:40:53.727527Z",
          "iopub.status.busy": "2021-03-23T09:40:53.726703Z",
          "iopub.status.idle": "2021-03-23T09:40:53.730441Z",
          "shell.execute_reply": "2021-03-23T09:40:53.730032Z"
        },
        "id": "BQdkmPaPrfXK",
        "papermill": {
          "duration": 0.098492,
          "end_time": "2021-03-23T09:40:53.730554",
          "exception": false,
          "start_time": "2021-03-23T09:40:53.632062",
          "status": "completed"
        },
        "tags": []
      },
      "outputs": [],
      "source": [
        "#define an LSTM\n",
        "lstm_layer = LSTM(input_size=50, hidden_size=128, batch_first=True)"
      ]
    },
    {
      "cell_type": "code",
      "execution_count": null,
      "metadata": {
        "execution": {
          "iopub.execute_input": "2021-03-23T09:40:53.917284Z",
          "iopub.status.busy": "2021-03-23T09:40:53.916711Z",
          "iopub.status.idle": "2021-03-23T09:40:53.934033Z",
          "shell.execute_reply": "2021-03-23T09:40:53.933611Z"
        },
        "id": "8ZfiG6PQ-6HI",
        "papermill": {
          "duration": 0.11221,
          "end_time": "2021-03-23T09:40:53.934149",
          "exception": false,
          "start_time": "2021-03-23T09:40:53.821939",
          "status": "completed"
        },
        "tags": []
      },
      "outputs": [],
      "source": [
        "#pass the input to LSTM\n",
        "hidden_states, (last_hidden_state,last_cell_state) = lstm_layer(sample_embedding)"
      ]
    },
    {
      "cell_type": "code",
      "execution_count": null,
      "metadata": {
        "execution": {
          "iopub.execute_input": "2021-03-23T09:40:54.121978Z",
          "iopub.status.busy": "2021-03-23T09:40:54.121227Z",
          "iopub.status.idle": "2021-03-23T09:40:54.124793Z",
          "shell.execute_reply": "2021-03-23T09:40:54.124292Z"
        },
        "id": "_iipOXzw_Gss",
        "papermill": {
          "duration": 0.099474,
          "end_time": "2021-03-23T09:40:54.124902",
          "exception": false,
          "start_time": "2021-03-23T09:40:54.025428",
          "status": "completed"
        },
        "tags": []
      },
      "outputs": [],
      "source": [
        "#Hidden state of every timestep (Batch, seq_len, no. of hidden neurons)\n",
        "hidden_states.shape"
      ]
    },
    {
      "cell_type": "code",
      "execution_count": null,
      "metadata": {
        "execution": {
          "iopub.execute_input": "2021-03-23T09:40:54.311612Z",
          "iopub.status.busy": "2021-03-23T09:40:54.310873Z",
          "iopub.status.idle": "2021-03-23T09:40:54.314406Z",
          "shell.execute_reply": "2021-03-23T09:40:54.313981Z"
        },
        "id": "drJDL9gB_Iq7",
        "papermill": {
          "duration": 0.098529,
          "end_time": "2021-03-23T09:40:54.314514",
          "exception": false,
          "start_time": "2021-03-23T09:40:54.215985",
          "status": "completed"
        },
        "tags": []
      },
      "outputs": [],
      "source": [
        "#output shape of last hidden timestep\n",
        "last_hidden_state.shape"
      ]
    },
    {
      "cell_type": "code",
      "execution_count": null,
      "metadata": {
        "execution": {
          "iopub.execute_input": "2021-03-23T09:40:54.503886Z",
          "iopub.status.busy": "2021-03-23T09:40:54.503217Z",
          "iopub.status.idle": "2021-03-23T09:40:54.506503Z",
          "shell.execute_reply": "2021-03-23T09:40:54.506915Z"
        },
        "id": "0WB6t5Dl_aoI",
        "papermill": {
          "duration": 0.100855,
          "end_time": "2021-03-23T09:40:54.507045",
          "exception": false,
          "start_time": "2021-03-23T09:40:54.406190",
          "status": "completed"
        },
        "tags": []
      },
      "outputs": [],
      "source": [
        "#output shape of last cell state\n",
        "last_cell_state.shape"
      ]
    },
    {
      "cell_type": "code",
      "execution_count": null,
      "metadata": {
        "execution": {
          "iopub.execute_input": "2021-03-23T09:40:54.697416Z",
          "iopub.status.busy": "2021-03-23T09:40:54.696836Z",
          "iopub.status.idle": "2021-03-23T09:40:54.699574Z",
          "shell.execute_reply": "2021-03-23T09:40:54.700034Z"
        },
        "id": "zO_vOTns_KNW",
        "papermill": {
          "duration": 0.101082,
          "end_time": "2021-03-23T09:40:54.700166",
          "exception": false,
          "start_time": "2021-03-23T09:40:54.599084",
          "status": "completed"
        },
        "tags": []
      },
      "outputs": [],
      "source": [
        "#reshaping the hidden states\n",
        "reshaped = hidden_states.reshape(hidden_states.size(0),-1)\n",
        "reshaped.shape"
      ]
    },
    {
      "cell_type": "code",
      "execution_count": null,
      "metadata": {
        "execution": {
          "iopub.execute_input": "2021-03-23T09:40:54.892129Z",
          "iopub.status.busy": "2021-03-23T09:40:54.891451Z",
          "iopub.status.idle": "2021-03-23T09:40:54.894275Z",
          "shell.execute_reply": "2021-03-23T09:40:54.893746Z"
        },
        "id": "9pOsmRHSQYuN",
        "papermill": {
          "duration": 0.102016,
          "end_time": "2021-03-23T09:40:54.894386",
          "exception": false,
          "start_time": "2021-03-23T09:40:54.792370",
          "status": "completed"
        },
        "tags": []
      },
      "outputs": [],
      "source": [
        "class Net(nn.Module):\n",
        "    \n",
        "    #Constructor\n",
        "    def __init__(self):\n",
        "\n",
        "        #Constructor\n",
        "        super(Net, self).__init__()   \n",
        "  \n",
        "        #rnn block\n",
        "        self.lstm_layer = Sequential(\n",
        "            \n",
        "            #embedding layer\n",
        "            Embedding(num_embeddings=len(TEXT.vocab), embedding_dim=100),\n",
        "        \n",
        "            #lstm layer\n",
        "            LSTM(input_size=100, hidden_size=128, batch_first=True)\n",
        "          \n",
        "            )\n",
        "\n",
        "        #dense block\n",
        "        self.dense_layer = Sequential(\n",
        "            \n",
        "            Linear(12800,128),\n",
        "\n",
        "            ReLU(),\n",
        "\n",
        "            Linear(128,10),\n",
        "            \n",
        "            Sigmoid()\n",
        "\n",
        "        )\n",
        "    \n",
        "    #forward pass\n",
        "    def forward(self, x):\n",
        "        \n",
        "        #rnn layer\n",
        "        hidden_states, (last_hidden_state,last_cell_state) = self.lstm_layer(x)\n",
        "\n",
        "        #flattening\n",
        "        hidden_states = hidden_states.reshape(hidden_states.size(0),-1)\n",
        "        \n",
        "        #dense layer\n",
        "        outputs=self.dense_layer(hidden_states)\n",
        "        \n",
        "        return outputs"
      ]
    },
    {
      "cell_type": "code",
      "execution_count": null,
      "metadata": {
        "execution": {
          "iopub.execute_input": "2021-03-23T09:40:55.098808Z",
          "iopub.status.busy": "2021-03-23T09:40:55.098097Z",
          "iopub.status.idle": "2021-03-23T09:40:55.124077Z",
          "shell.execute_reply": "2021-03-23T09:40:55.123656Z"
        },
        "id": "HUU13yvgQY1G",
        "papermill": {
          "duration": 0.13115,
          "end_time": "2021-03-23T09:40:55.124190",
          "exception": false,
          "start_time": "2021-03-23T09:40:54.993040",
          "status": "completed"
        },
        "tags": []
      },
      "outputs": [],
      "source": [
        "#define the model\n",
        "model = Net()"
      ]
    },
    {
      "cell_type": "code",
      "execution_count": null,
      "metadata": {
        "execution": {
          "iopub.execute_input": "2021-03-23T09:40:55.317823Z",
          "iopub.status.busy": "2021-03-23T09:40:55.317031Z",
          "iopub.status.idle": "2021-03-23T09:40:55.320619Z",
          "shell.execute_reply": "2021-03-23T09:40:55.320197Z"
        },
        "id": "-RBtZlDJuu-1",
        "papermill": {
          "duration": 0.10212,
          "end_time": "2021-03-23T09:40:55.320725",
          "exception": false,
          "start_time": "2021-03-23T09:40:55.218605",
          "status": "completed"
        },
        "tags": []
      },
      "outputs": [],
      "source": [
        "#layers of the model\n",
        "model"
      ]
    },
    {
      "cell_type": "code",
      "execution_count": null,
      "metadata": {
        "execution": {
          "iopub.execute_input": "2021-03-23T09:40:55.514996Z",
          "iopub.status.busy": "2021-03-23T09:40:55.513960Z",
          "iopub.status.idle": "2021-03-23T09:40:55.525033Z",
          "shell.execute_reply": "2021-03-23T09:40:55.525712Z"
        },
        "id": "4q01g37DbW1n",
        "papermill": {
          "duration": 0.112065,
          "end_time": "2021-03-23T09:40:55.525911",
          "exception": false,
          "start_time": "2021-03-23T09:40:55.413846",
          "status": "completed"
        },
        "tags": []
      },
      "outputs": [],
      "source": [
        "with torch.no_grad():\n",
        "  pred = model(X_train[:1])\n",
        "  print(pred)"
      ]
    },
    {
      "cell_type": "code",
      "execution_count": null,
      "metadata": {
        "execution": {
          "iopub.execute_input": "2021-03-23T09:40:55.750353Z",
          "iopub.status.busy": "2021-03-23T09:40:55.749457Z",
          "iopub.status.idle": "2021-03-23T09:40:55.756229Z",
          "shell.execute_reply": "2021-03-23T09:40:55.755675Z"
        },
        "id": "UDxhclMZvUHT",
        "papermill": {
          "duration": 0.1225,
          "end_time": "2021-03-23T09:40:55.756344",
          "exception": false,
          "start_time": "2021-03-23T09:40:55.633844",
          "status": "completed"
        },
        "tags": []
      },
      "outputs": [],
      "source": [
        "#define optimizer and loss\n",
        "optimizer = torch.optim.Adam(model.parameters())\n",
        "criterion = BCELoss()\n",
        "\n",
        "# checking if GPU is available\n",
        "if torch.cuda.is_available():\n",
        "    model = model.cuda()\n",
        "    criterion = criterion.cuda()"
      ]
    },
    {
      "cell_type": "code",
      "execution_count": null,
      "metadata": {
        "execution": {
          "iopub.execute_input": "2021-03-23T09:40:55.974661Z",
          "iopub.status.busy": "2021-03-23T09:40:55.973851Z",
          "iopub.status.idle": "2021-03-23T09:41:17.500858Z",
          "shell.execute_reply": "2021-03-23T09:41:17.500251Z"
        },
        "id": "JlSsG3LQvUNl",
        "papermill": {
          "duration": 21.639105,
          "end_time": "2021-03-23T09:41:17.501028",
          "exception": false,
          "start_time": "2021-03-23T09:40:55.861923",
          "status": "completed"
        },
        "tags": []
      },
      "outputs": [],
      "source": [
        "N_EPOCHS = 10\n",
        "batch_size = 32\n",
        "\n",
        "# intialization\n",
        "best_valid_loss = float('inf')\n",
        "\n",
        "for epoch in range(N_EPOCHS):\n",
        "     \n",
        "    #train the model\n",
        "    train_loss   = train(X_train, y_train, batch_size)\n",
        "    \n",
        "    #evaluate the model\n",
        "    valid_loss   = evaluate(X_valid, y_valid, batch_size)\n",
        "\n",
        "    print('\\nEpoch :',epoch,\n",
        "          'Training loss:',round(train_loss,4),\n",
        "          '\\tValidation loss:',round(valid_loss,4))\n",
        "\n",
        "    #save the best model \n",
        "    if best_valid_loss >= valid_loss:\n",
        "        best_valid_loss = valid_loss\n",
        "        torch.save(model.state_dict(), 'saved_weights.pt') \n",
        "        print(\"\\n----------------------------------------------------Saved best model------------------------------------------------------------------\")   \n",
        "\n"
      ]
    },
    {
      "cell_type": "markdown",
      "metadata": {
        "id": "qWU2ZDir2q0j",
        "papermill": {
          "duration": 0.09611,
          "end_time": "2021-03-23T09:41:17.695077",
          "exception": false,
          "start_time": "2021-03-23T09:41:17.598967",
          "status": "completed"
        },
        "tags": []
      },
      "source": [
        "# Model Evaluation"
      ]
    },
    {
      "cell_type": "code",
      "execution_count": null,
      "metadata": {
        "execution": {
          "iopub.execute_input": "2021-03-23T09:41:17.893286Z",
          "iopub.status.busy": "2021-03-23T09:41:17.892300Z",
          "iopub.status.idle": "2021-03-23T09:41:17.903402Z",
          "shell.execute_reply": "2021-03-23T09:41:17.903847Z"
        },
        "id": "K_jPYFKzvUUq",
        "papermill": {
          "duration": 0.112167,
          "end_time": "2021-03-23T09:41:17.903993",
          "exception": false,
          "start_time": "2021-03-23T09:41:17.791826",
          "status": "completed"
        },
        "tags": []
      },
      "outputs": [],
      "source": [
        "#load weights of best model\n",
        "path='saved_weights.pt'\n",
        "model.load_state_dict(torch.load(path))"
      ]
    },
    {
      "cell_type": "code",
      "execution_count": null,
      "metadata": {
        "execution": {
          "iopub.execute_input": "2021-03-23T09:41:18.102186Z",
          "iopub.status.busy": "2021-03-23T09:41:18.101617Z",
          "iopub.status.idle": "2021-03-23T09:41:18.236138Z",
          "shell.execute_reply": "2021-03-23T09:41:18.235386Z"
        },
        "id": "tCLWSfuXQYy9",
        "papermill": {
          "duration": 0.235906,
          "end_time": "2021-03-23T09:41:18.236265",
          "exception": false,
          "start_time": "2021-03-23T09:41:18.000359",
          "status": "completed"
        },
        "tags": []
      },
      "outputs": [],
      "source": [
        "#predict probabilities\n",
        "y_pred_prob = predict(X_valid, batch_size)"
      ]
    },
    {
      "cell_type": "code",
      "execution_count": null,
      "metadata": {
        "execution": {
          "iopub.execute_input": "2021-03-23T09:41:18.435654Z",
          "iopub.status.busy": "2021-03-23T09:41:18.435136Z",
          "iopub.status.idle": "2021-03-23T09:41:18.440798Z",
          "shell.execute_reply": "2021-03-23T09:41:18.440356Z"
        },
        "id": "srL5tr77hAfP",
        "papermill": {
          "duration": 0.106535,
          "end_time": "2021-03-23T09:41:18.440911",
          "exception": false,
          "start_time": "2021-03-23T09:41:18.334376",
          "status": "completed"
        },
        "tags": []
      },
      "outputs": [],
      "source": [
        "y_pred_prob[0]"
      ]
    },
    {
      "cell_type": "code",
      "execution_count": null,
      "metadata": {
        "execution": {
          "iopub.execute_input": "2021-03-23T09:41:18.654038Z",
          "iopub.status.busy": "2021-03-23T09:41:18.643701Z",
          "iopub.status.idle": "2021-03-23T09:41:22.680302Z",
          "shell.execute_reply": "2021-03-23T09:41:22.679855Z"
        },
        "id": "p0d3ubp2hAdA",
        "papermill": {
          "duration": 4.142016,
          "end_time": "2021-03-23T09:41:22.680433",
          "exception": false,
          "start_time": "2021-03-23T09:41:18.538417",
          "status": "completed"
        },
        "tags": []
      },
      "outputs": [],
      "source": [
        "score=[]\n",
        "\n",
        "for thresh in threshold:\n",
        "    \n",
        "    #classes for each threshold\n",
        "    y_pred = classify(y_pred_prob, thresh) \n",
        "\n",
        "    #convert to 1d array\n",
        "    y_pred_1d    =  y_pred.ravel()\n",
        "    y_true_1d    =  y_true.ravel()\n",
        " \n",
        "    score.append(metrics.f1_score(y_true_1d, y_pred_1d))"
      ]
    },
    {
      "cell_type": "code",
      "execution_count": null,
      "metadata": {
        "execution": {
          "iopub.execute_input": "2021-03-23T09:41:22.893004Z",
          "iopub.status.busy": "2021-03-23T09:41:22.892326Z",
          "iopub.status.idle": "2021-03-23T09:41:22.896213Z",
          "shell.execute_reply": "2021-03-23T09:41:22.896750Z"
        },
        "id": "FxFk7Gg3hAa8",
        "papermill": {
          "duration": 0.117534,
          "end_time": "2021-03-23T09:41:22.896948",
          "exception": false,
          "start_time": "2021-03-23T09:41:22.779414",
          "status": "completed"
        },
        "tags": []
      },
      "outputs": [],
      "source": [
        "# find the optimal threshold\n",
        "opt = threshold[score.index(max(score))]\n",
        "print(opt)"
      ]
    },
    {
      "cell_type": "code",
      "execution_count": null,
      "metadata": {
        "execution": {
          "iopub.execute_input": "2021-03-23T09:41:23.128228Z",
          "iopub.status.busy": "2021-03-23T09:41:23.118070Z",
          "iopub.status.idle": "2021-03-23T09:41:23.174644Z",
          "shell.execute_reply": "2021-03-23T09:41:23.174228Z"
        },
        "id": "_E8xaA0BhAXy",
        "papermill": {
          "duration": 0.17869,
          "end_time": "2021-03-23T09:41:23.174783",
          "exception": false,
          "start_time": "2021-03-23T09:41:22.996093",
          "status": "completed"
        },
        "tags": []
      },
      "outputs": [],
      "source": [
        "#predictions for optimal threshold\n",
        "y_pred = classify(y_pred_prob, opt)"
      ]
    },
    {
      "cell_type": "code",
      "execution_count": null,
      "metadata": {
        "execution": {
          "iopub.execute_input": "2021-03-23T09:41:23.409773Z",
          "iopub.status.busy": "2021-03-23T09:41:23.408841Z",
          "iopub.status.idle": "2021-03-23T09:41:23.461447Z",
          "shell.execute_reply": "2021-03-23T09:41:23.462155Z"
        },
        "id": "tyr-2stWhAVB",
        "papermill": {
          "duration": 0.174524,
          "end_time": "2021-03-23T09:41:23.462401",
          "exception": false,
          "start_time": "2021-03-23T09:41:23.287877",
          "status": "completed"
        },
        "tags": []
      },
      "outputs": [],
      "source": [
        "#converting to 1D\n",
        "y_pred_1d = y_pred.ravel()\n",
        "\n",
        "#Classification report\n",
        "print(metrics.classification_report(y_true_1d, y_pred_1d))"
      ]
    },
    {
      "cell_type": "code",
      "execution_count": null,
      "metadata": {
        "execution": {
          "iopub.execute_input": "2021-03-23T09:41:23.692039Z",
          "iopub.status.busy": "2021-03-23T09:41:23.691224Z",
          "iopub.status.idle": "2021-03-23T09:41:23.701235Z",
          "shell.execute_reply": "2021-03-23T09:41:23.700796Z"
        },
        "id": "FHxsCTdNhAR2",
        "papermill": {
          "duration": 0.125534,
          "end_time": "2021-03-23T09:41:23.701377",
          "exception": false,
          "start_time": "2021-03-23T09:41:23.575843",
          "status": "completed"
        },
        "tags": []
      },
      "outputs": [],
      "source": [
        "y_pred_label = mlb.inverse_transform(np.array(y_pred))"
      ]
    },
    {
      "cell_type": "code",
      "execution_count": null,
      "metadata": {
        "execution": {
          "iopub.execute_input": "2021-03-23T09:41:23.919825Z",
          "iopub.status.busy": "2021-03-23T09:41:23.918988Z",
          "iopub.status.idle": "2021-03-23T09:41:23.921398Z",
          "shell.execute_reply": "2021-03-23T09:41:23.921848Z"
        },
        "id": "0hAUPQFNhAP-",
        "papermill": {
          "duration": 0.113814,
          "end_time": "2021-03-23T09:41:23.921990",
          "exception": false,
          "start_time": "2021-03-23T09:41:23.808176",
          "status": "completed"
        },
        "tags": []
      },
      "outputs": [],
      "source": [
        "df = pd.DataFrame({'comment':queries,'actual':y_true_label,'predictions':y_pred_label})"
      ]
    },
    {
      "cell_type": "code",
      "execution_count": null,
      "metadata": {
        "execution": {
          "iopub.execute_input": "2021-03-23T09:41:24.135401Z",
          "iopub.status.busy": "2021-03-23T09:41:24.134562Z",
          "iopub.status.idle": "2021-03-23T09:41:24.138463Z",
          "shell.execute_reply": "2021-03-23T09:41:24.138058Z"
        },
        "id": "Fd_7LeiDhAM6",
        "papermill": {
          "duration": 0.115275,
          "end_time": "2021-03-23T09:41:24.138575",
          "exception": false,
          "start_time": "2021-03-23T09:41:24.023300",
          "status": "completed"
        },
        "tags": []
      },
      "outputs": [],
      "source": [
        "df.head()"
      ]
    },
    {
      "cell_type": "code",
      "execution_count": null,
      "metadata": {
        "execution": {
          "iopub.execute_input": "2021-03-23T09:41:24.344231Z",
          "iopub.status.busy": "2021-03-23T09:41:24.343456Z",
          "iopub.status.idle": "2021-03-23T09:41:24.351386Z",
          "shell.execute_reply": "2021-03-23T09:41:24.352080Z"
        },
        "id": "x4kI46Z4hAJ8",
        "papermill": {
          "duration": 0.113409,
          "end_time": "2021-03-23T09:41:24.352260",
          "exception": false,
          "start_time": "2021-03-23T09:41:24.238851",
          "status": "completed"
        },
        "tags": []
      },
      "outputs": [],
      "source": [
        "text = \"For example, in the case of logistic regression, the learning function is a Sigmoid function that tries to separate the 2 classes\"\n",
        "\n",
        "tags = predict_tags(text)\n",
        "print(\"Query: \",text)\n",
        "print(\"Predicted tags:\",tags)"
      ]
    }
  ],
  "metadata": {
    "kernelspec": {
      "display_name": "Python 3",
      "language": "python",
      "name": "python3"
    },
    "language_info": {
      "codemirror_mode": {
        "name": "ipython",
        "version": 3
      },
      "file_extension": ".py",
      "mimetype": "text/x-python",
      "name": "python",
      "nbconvert_exporter": "python",
      "pygments_lexer": "ipython3",
      "version": "3.7.9"
    },
    "papermill": {
      "default_parameters": {},
      "duration": 109.599722,
      "end_time": "2021-03-23T09:41:25.765626",
      "environment_variables": {},
      "exception": null,
      "input_path": "__notebook__.ipynb",
      "output_path": "__notebook__.ipynb",
      "parameters": {},
      "start_time": "2021-03-23T09:39:36.165904",
      "version": "2.2.2"
    },
    "colab": {
      "provenance": []
    }
  },
  "nbformat": 4,
  "nbformat_minor": 0
}
