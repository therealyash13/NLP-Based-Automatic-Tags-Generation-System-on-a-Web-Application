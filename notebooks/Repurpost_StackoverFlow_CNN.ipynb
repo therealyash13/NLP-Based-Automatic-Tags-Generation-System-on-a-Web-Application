{
 "cells": [
  {
   "cell_type": "code",
   "execution_count": 6,
   "metadata": {
    "id": "CNULP16f6V3v"
   },
   "outputs": [],
   "source": [
    "# Importing all the required Libraries \n",
    "import unidecode \n",
    "import pandas as pd \n",
    "import re\n",
    "import time \n",
    "import nltk\n",
    "from nltk.corpus import stopwords \n",
    "from nltk.tokenize import word_tokenize \n",
    "from nltk.stem import WordNetLemmatizer \n",
    "from autocorrect import Speller \n",
    "from bs4 import BeautifulSoup \n",
    "from nltk.corpus import stopwords \n",
    "from nltk import word_tokenize \n",
    "import string \n",
    "import pandas as pd\n",
    "import numpy as np\n",
    "from sklearn.model_selection import train_test_split\n",
    "from bs4 import BeautifulSoup\n",
    "from nltk.stem import PorterStemmer\n",
    "import spacy\n",
    "from keras.preprocessing.text import Tokenizer\n",
    "from sklearn.preprocessing import MultiLabelBinarizer\n",
    "from sklearn.feature_extraction.text import TfidfVectorizer"
   ]
  },
  {
   "cell_type": "code",
   "execution_count": 7,
   "metadata": {
    "colab": {
     "base_uri": "https://localhost:8080/",
     "height": 241
    },
    "id": "qrdbsA6YJUQj",
    "outputId": "c04dd504-b3e1-404d-df0f-35ccaed0bb7b"
   },
   "outputs": [
    {
     "data": {
      "text/html": [
       "<div>\n",
       "<style scoped>\n",
       "    .dataframe tbody tr th:only-of-type {\n",
       "        vertical-align: middle;\n",
       "    }\n",
       "\n",
       "    .dataframe tbody tr th {\n",
       "        vertical-align: top;\n",
       "    }\n",
       "\n",
       "    .dataframe thead th {\n",
       "        text-align: right;\n",
       "    }\n",
       "</style>\n",
       "<table border=\"1\" class=\"dataframe\">\n",
       "  <thead>\n",
       "    <tr style=\"text-align: right;\">\n",
       "      <th></th>\n",
       "      <th>Id</th>\n",
       "      <th>OwnerUserId</th>\n",
       "      <th>CreationDate</th>\n",
       "      <th>ClosedDate</th>\n",
       "      <th>Score</th>\n",
       "      <th>Title</th>\n",
       "      <th>Body</th>\n",
       "    </tr>\n",
       "  </thead>\n",
       "  <tbody>\n",
       "    <tr>\n",
       "      <th>0</th>\n",
       "      <td>80</td>\n",
       "      <td>26.0</td>\n",
       "      <td>2008-08-01T13:57:07Z</td>\n",
       "      <td>NaN</td>\n",
       "      <td>26</td>\n",
       "      <td>SQLStatement.execute() - multiple queries in o...</td>\n",
       "      <td>&lt;p&gt;I've written a database generation script i...</td>\n",
       "    </tr>\n",
       "    <tr>\n",
       "      <th>1</th>\n",
       "      <td>90</td>\n",
       "      <td>58.0</td>\n",
       "      <td>2008-08-01T14:41:24Z</td>\n",
       "      <td>2012-12-26T03:45:49Z</td>\n",
       "      <td>144</td>\n",
       "      <td>Good branching and merging tutorials for Torto...</td>\n",
       "      <td>&lt;p&gt;Are there any really good tutorials explain...</td>\n",
       "    </tr>\n",
       "    <tr>\n",
       "      <th>2</th>\n",
       "      <td>120</td>\n",
       "      <td>83.0</td>\n",
       "      <td>2008-08-01T15:50:08Z</td>\n",
       "      <td>NaN</td>\n",
       "      <td>21</td>\n",
       "      <td>ASP.NET Site Maps</td>\n",
       "      <td>&lt;p&gt;Has anyone got experience creating &lt;strong&gt;...</td>\n",
       "    </tr>\n",
       "    <tr>\n",
       "      <th>3</th>\n",
       "      <td>180</td>\n",
       "      <td>2089740.0</td>\n",
       "      <td>2008-08-01T18:42:19Z</td>\n",
       "      <td>NaN</td>\n",
       "      <td>53</td>\n",
       "      <td>Function for creating color wheels</td>\n",
       "      <td>&lt;p&gt;This is something I've pseudo-solved many t...</td>\n",
       "    </tr>\n",
       "    <tr>\n",
       "      <th>4</th>\n",
       "      <td>260</td>\n",
       "      <td>91.0</td>\n",
       "      <td>2008-08-01T23:22:08Z</td>\n",
       "      <td>NaN</td>\n",
       "      <td>49</td>\n",
       "      <td>Adding scripting functionality to .NET applica...</td>\n",
       "      <td>&lt;p&gt;I have a little game written in C#. It uses...</td>\n",
       "    </tr>\n",
       "  </tbody>\n",
       "</table>\n",
       "</div>"
      ],
      "text/plain": [
       "    Id  OwnerUserId          CreationDate            ClosedDate  Score  \\\n",
       "0   80         26.0  2008-08-01T13:57:07Z                   NaN     26   \n",
       "1   90         58.0  2008-08-01T14:41:24Z  2012-12-26T03:45:49Z    144   \n",
       "2  120         83.0  2008-08-01T15:50:08Z                   NaN     21   \n",
       "3  180    2089740.0  2008-08-01T18:42:19Z                   NaN     53   \n",
       "4  260         91.0  2008-08-01T23:22:08Z                   NaN     49   \n",
       "\n",
       "                                               Title  \\\n",
       "0  SQLStatement.execute() - multiple queries in o...   \n",
       "1  Good branching and merging tutorials for Torto...   \n",
       "2                                  ASP.NET Site Maps   \n",
       "3                 Function for creating color wheels   \n",
       "4  Adding scripting functionality to .NET applica...   \n",
       "\n",
       "                                                Body  \n",
       "0  <p>I've written a database generation script i...  \n",
       "1  <p>Are there any really good tutorials explain...  \n",
       "2  <p>Has anyone got experience creating <strong>...  \n",
       "3  <p>This is something I've pseudo-solved many t...  \n",
       "4  <p>I have a little game written in C#. It uses...  "
      ]
     },
     "execution_count": 7,
     "metadata": {},
     "output_type": "execute_result"
    }
   ],
   "source": [
    "df_questions = pd.read_csv(r\"D:\\Yash-USA\\Northeastern University\\Applied Artificial Intelligence\\Quarter-4 Fall'22\\Fall Term - AB\\INT 6940 Experiential Learning Projects for Professionals\\Repurpost\\Dataset\\Questions.csv\", encoding=\"ISO-8859-1\")\n",
    "df_questions.head()"
   ]
  },
  {
   "cell_type": "code",
   "execution_count": 8,
   "metadata": {
    "colab": {
     "base_uri": "https://localhost:8080/"
    },
    "id": "T9TSHB9lMILk",
    "outputId": "d5cb5d4e-a61d-442d-d7aa-f0ff428d6f5b"
   },
   "outputs": [
    {
     "name": "stdout",
     "output_type": "stream",
     "text": [
      "<class 'pandas.core.frame.DataFrame'>\n",
      "RangeIndex: 1264216 entries, 0 to 1264215\n",
      "Data columns (total 7 columns):\n",
      " #   Column        Non-Null Count    Dtype  \n",
      "---  ------        --------------    -----  \n",
      " 0   Id            1264216 non-null  int64  \n",
      " 1   OwnerUserId   1249762 non-null  float64\n",
      " 2   CreationDate  1264216 non-null  object \n",
      " 3   ClosedDate    55959 non-null    object \n",
      " 4   Score         1264216 non-null  int64  \n",
      " 5   Title         1264216 non-null  object \n",
      " 6   Body          1264216 non-null  object \n",
      "dtypes: float64(1), int64(2), object(4)\n",
      "memory usage: 67.5+ MB\n"
     ]
    }
   ],
   "source": [
    "df_questions.info()"
   ]
  },
  {
   "cell_type": "code",
   "execution_count": 9,
   "metadata": {
    "colab": {
     "base_uri": "https://localhost:8080/",
     "height": 206
    },
    "id": "Rw_RUSe0OgUc",
    "outputId": "98290a21-0428-406e-ece6-7cf81030b248"
   },
   "outputs": [
    {
     "data": {
      "text/html": [
       "<div>\n",
       "<style scoped>\n",
       "    .dataframe tbody tr th:only-of-type {\n",
       "        vertical-align: middle;\n",
       "    }\n",
       "\n",
       "    .dataframe tbody tr th {\n",
       "        vertical-align: top;\n",
       "    }\n",
       "\n",
       "    .dataframe thead th {\n",
       "        text-align: right;\n",
       "    }\n",
       "</style>\n",
       "<table border=\"1\" class=\"dataframe\">\n",
       "  <thead>\n",
       "    <tr style=\"text-align: right;\">\n",
       "      <th></th>\n",
       "      <th>Id</th>\n",
       "      <th>Score</th>\n",
       "      <th>Title</th>\n",
       "      <th>Body</th>\n",
       "    </tr>\n",
       "  </thead>\n",
       "  <tbody>\n",
       "    <tr>\n",
       "      <th>0</th>\n",
       "      <td>80</td>\n",
       "      <td>26</td>\n",
       "      <td>SQLStatement.execute() - multiple queries in o...</td>\n",
       "      <td>&lt;p&gt;I've written a database generation script i...</td>\n",
       "    </tr>\n",
       "    <tr>\n",
       "      <th>1</th>\n",
       "      <td>90</td>\n",
       "      <td>144</td>\n",
       "      <td>Good branching and merging tutorials for Torto...</td>\n",
       "      <td>&lt;p&gt;Are there any really good tutorials explain...</td>\n",
       "    </tr>\n",
       "    <tr>\n",
       "      <th>2</th>\n",
       "      <td>120</td>\n",
       "      <td>21</td>\n",
       "      <td>ASP.NET Site Maps</td>\n",
       "      <td>&lt;p&gt;Has anyone got experience creating &lt;strong&gt;...</td>\n",
       "    </tr>\n",
       "    <tr>\n",
       "      <th>3</th>\n",
       "      <td>180</td>\n",
       "      <td>53</td>\n",
       "      <td>Function for creating color wheels</td>\n",
       "      <td>&lt;p&gt;This is something I've pseudo-solved many t...</td>\n",
       "    </tr>\n",
       "    <tr>\n",
       "      <th>4</th>\n",
       "      <td>260</td>\n",
       "      <td>49</td>\n",
       "      <td>Adding scripting functionality to .NET applica...</td>\n",
       "      <td>&lt;p&gt;I have a little game written in C#. It uses...</td>\n",
       "    </tr>\n",
       "  </tbody>\n",
       "</table>\n",
       "</div>"
      ],
      "text/plain": [
       "    Id  Score                                              Title  \\\n",
       "0   80     26  SQLStatement.execute() - multiple queries in o...   \n",
       "1   90    144  Good branching and merging tutorials for Torto...   \n",
       "2  120     21                                  ASP.NET Site Maps   \n",
       "3  180     53                 Function for creating color wheels   \n",
       "4  260     49  Adding scripting functionality to .NET applica...   \n",
       "\n",
       "                                                Body  \n",
       "0  <p>I've written a database generation script i...  \n",
       "1  <p>Are there any really good tutorials explain...  \n",
       "2  <p>Has anyone got experience creating <strong>...  \n",
       "3  <p>This is something I've pseudo-solved many t...  \n",
       "4  <p>I have a little game written in C#. It uses...  "
      ]
     },
     "execution_count": 9,
     "metadata": {},
     "output_type": "execute_result"
    }
   ],
   "source": [
    "# Dropping columns that are not necessary for repurpost project\n",
    "df_questions.drop(columns=['OwnerUserId', 'CreationDate', 'ClosedDate'], inplace=True)\n",
    "df_questions.head()"
   ]
  },
  {
   "cell_type": "code",
   "execution_count": 10,
   "metadata": {
    "colab": {
     "base_uri": "https://localhost:8080/",
     "height": 206
    },
    "id": "cA6z5-4wO3tt",
    "outputId": "2e8ac559-1fa1-49e7-a8bc-95eb5a85c2d7"
   },
   "outputs": [
    {
     "data": {
      "text/html": [
       "<div>\n",
       "<style scoped>\n",
       "    .dataframe tbody tr th:only-of-type {\n",
       "        vertical-align: middle;\n",
       "    }\n",
       "\n",
       "    .dataframe tbody tr th {\n",
       "        vertical-align: top;\n",
       "    }\n",
       "\n",
       "    .dataframe thead th {\n",
       "        text-align: right;\n",
       "    }\n",
       "</style>\n",
       "<table border=\"1\" class=\"dataframe\">\n",
       "  <thead>\n",
       "    <tr style=\"text-align: right;\">\n",
       "      <th></th>\n",
       "      <th>Id</th>\n",
       "      <th>Tag</th>\n",
       "    </tr>\n",
       "  </thead>\n",
       "  <tbody>\n",
       "    <tr>\n",
       "      <th>0</th>\n",
       "      <td>80</td>\n",
       "      <td>flex</td>\n",
       "    </tr>\n",
       "    <tr>\n",
       "      <th>1</th>\n",
       "      <td>80</td>\n",
       "      <td>actionscript-3</td>\n",
       "    </tr>\n",
       "    <tr>\n",
       "      <th>2</th>\n",
       "      <td>80</td>\n",
       "      <td>air</td>\n",
       "    </tr>\n",
       "    <tr>\n",
       "      <th>3</th>\n",
       "      <td>90</td>\n",
       "      <td>svn</td>\n",
       "    </tr>\n",
       "    <tr>\n",
       "      <th>4</th>\n",
       "      <td>90</td>\n",
       "      <td>tortoisesvn</td>\n",
       "    </tr>\n",
       "  </tbody>\n",
       "</table>\n",
       "</div>"
      ],
      "text/plain": [
       "   Id             Tag\n",
       "0  80            flex\n",
       "1  80  actionscript-3\n",
       "2  80             air\n",
       "3  90             svn\n",
       "4  90     tortoisesvn"
      ]
     },
     "execution_count": 10,
     "metadata": {},
     "output_type": "execute_result"
    }
   ],
   "source": [
    "df_tags = pd.read_csv(r\"D:\\Yash-USA\\Northeastern University\\Applied Artificial Intelligence\\Quarter-4 Fall'22\\Fall Term - AB\\INT 6940 Experiential Learning Projects for Professionals\\Repurpost\\Dataset\\Tags.csv\", encoding=\"ISO-8859-1\")\n",
    "df_tags.head()"
   ]
  },
  {
   "cell_type": "code",
   "execution_count": 11,
   "metadata": {
    "colab": {
     "base_uri": "https://localhost:8080/"
    },
    "id": "bAmbNsVJTM5v",
    "outputId": "9236af1a-5aff-4a5e-8ceb-2c57d503aaf8",
    "scrolled": true
   },
   "outputs": [
    {
     "name": "stdout",
     "output_type": "stream",
     "text": [
      "<class 'pandas.core.frame.DataFrame'>\n",
      "RangeIndex: 3750994 entries, 0 to 3750993\n",
      "Data columns (total 2 columns):\n",
      " #   Column  Dtype \n",
      "---  ------  ----- \n",
      " 0   Id      int64 \n",
      " 1   Tag     object\n",
      "dtypes: int64(1), object(1)\n",
      "memory usage: 57.2+ MB\n"
     ]
    }
   ],
   "source": [
    "df_tags.info()"
   ]
  },
  {
   "cell_type": "code",
   "execution_count": 12,
   "metadata": {
    "colab": {
     "base_uri": "https://localhost:8080/",
     "height": 206
    },
    "id": "VWfz3cK9SEMq",
    "outputId": "2a6a7d1e-1cdb-48dd-ae70-1ba06ebe80ca"
   },
   "outputs": [
    {
     "data": {
      "text/html": [
       "<div>\n",
       "<style scoped>\n",
       "    .dataframe tbody tr th:only-of-type {\n",
       "        vertical-align: middle;\n",
       "    }\n",
       "\n",
       "    .dataframe tbody tr th {\n",
       "        vertical-align: top;\n",
       "    }\n",
       "\n",
       "    .dataframe thead th {\n",
       "        text-align: right;\n",
       "    }\n",
       "</style>\n",
       "<table border=\"1\" class=\"dataframe\">\n",
       "  <thead>\n",
       "    <tr style=\"text-align: right;\">\n",
       "      <th></th>\n",
       "      <th>Id</th>\n",
       "      <th>Tag</th>\n",
       "    </tr>\n",
       "  </thead>\n",
       "  <tbody>\n",
       "    <tr>\n",
       "      <th>0</th>\n",
       "      <td>80</td>\n",
       "      <td>flex|actionscript-3|air</td>\n",
       "    </tr>\n",
       "    <tr>\n",
       "      <th>1</th>\n",
       "      <td>90</td>\n",
       "      <td>svn|tortoisesvn|branch|branching-and-merging</td>\n",
       "    </tr>\n",
       "    <tr>\n",
       "      <th>2</th>\n",
       "      <td>120</td>\n",
       "      <td>sql|asp.net|sitemap</td>\n",
       "    </tr>\n",
       "    <tr>\n",
       "      <th>3</th>\n",
       "      <td>180</td>\n",
       "      <td>algorithm|language-agnostic|colors|color-space</td>\n",
       "    </tr>\n",
       "    <tr>\n",
       "      <th>4</th>\n",
       "      <td>260</td>\n",
       "      <td>c#|.net|scripting|compiler-construction</td>\n",
       "    </tr>\n",
       "  </tbody>\n",
       "</table>\n",
       "</div>"
      ],
      "text/plain": [
       "    Id                                             Tag\n",
       "0   80                         flex|actionscript-3|air\n",
       "1   90    svn|tortoisesvn|branch|branching-and-merging\n",
       "2  120                             sql|asp.net|sitemap\n",
       "3  180  algorithm|language-agnostic|colors|color-space\n",
       "4  260         c#|.net|scripting|compiler-construction"
      ]
     },
     "execution_count": 12,
     "metadata": {},
     "output_type": "execute_result"
    }
   ],
   "source": [
    "# The same id is having more than one tag\n",
    "# to combine this data with the questions, we need to combine the all the tags belonging to an id\n",
    "# and then join with questions dataframe to avoid cartesion product of the join\n",
    "\n",
    "# Convert Tag column datatype to string for grouping\n",
    "df_tags['Tag'] = df_tags['Tag'].astype(str)\n",
    "\n",
    "# Combining the tags for a particular Id separated by pipe '|' delimiter\n",
    "df_tags_grouped = pd.DataFrame(df_tags.groupby('Id')['Tag'].apply(lambda tag: '|'.join(tag))).reset_index()\n",
    "df_tags_grouped.head()"
   ]
  },
  {
   "cell_type": "code",
   "execution_count": 13,
   "metadata": {
    "colab": {
     "base_uri": "https://localhost:8080/"
    },
    "id": "XftYE7LnZCS3",
    "outputId": "9a62edd8-7d28-4231-e275-a28662783285"
   },
   "outputs": [
    {
     "data": {
      "text/plain": [
       "(1264216, 2)"
      ]
     },
     "execution_count": 13,
     "metadata": {},
     "output_type": "execute_result"
    }
   ],
   "source": [
    "# Check the rows and columns of df_tags_grouped dataframe\n",
    "df_tags_grouped.shape"
   ]
  },
  {
   "cell_type": "code",
   "execution_count": 14,
   "metadata": {
    "colab": {
     "base_uri": "https://localhost:8080/"
    },
    "id": "5ILaJXvufrk6",
    "outputId": "4b3dc0fb-ed7d-483d-d569-e351fe34396e"
   },
   "outputs": [
    {
     "data": {
      "text/plain": [
       "(1264216, 4)"
      ]
     },
     "execution_count": 14,
     "metadata": {},
     "output_type": "execute_result"
    }
   ],
   "source": [
    "# Check the rows and columns of df_question dataframe\n",
    "df_questions.shape"
   ]
  },
  {
   "cell_type": "code",
   "execution_count": 15,
   "metadata": {
    "colab": {
     "base_uri": "https://localhost:8080/",
     "height": 206
    },
    "id": "-YO5dioMfvDA",
    "outputId": "70e78788-a981-4e81-f10c-1ccd68f1d25d"
   },
   "outputs": [
    {
     "data": {
      "text/html": [
       "<div>\n",
       "<style scoped>\n",
       "    .dataframe tbody tr th:only-of-type {\n",
       "        vertical-align: middle;\n",
       "    }\n",
       "\n",
       "    .dataframe tbody tr th {\n",
       "        vertical-align: top;\n",
       "    }\n",
       "\n",
       "    .dataframe thead th {\n",
       "        text-align: right;\n",
       "    }\n",
       "</style>\n",
       "<table border=\"1\" class=\"dataframe\">\n",
       "  <thead>\n",
       "    <tr style=\"text-align: right;\">\n",
       "      <th></th>\n",
       "      <th>Id</th>\n",
       "      <th>Score</th>\n",
       "      <th>Title</th>\n",
       "      <th>Body</th>\n",
       "      <th>Tag</th>\n",
       "    </tr>\n",
       "  </thead>\n",
       "  <tbody>\n",
       "    <tr>\n",
       "      <th>0</th>\n",
       "      <td>80</td>\n",
       "      <td>26</td>\n",
       "      <td>SQLStatement.execute() - multiple queries in o...</td>\n",
       "      <td>&lt;p&gt;I've written a database generation script i...</td>\n",
       "      <td>flex|actionscript-3|air</td>\n",
       "    </tr>\n",
       "    <tr>\n",
       "      <th>1</th>\n",
       "      <td>90</td>\n",
       "      <td>144</td>\n",
       "      <td>Good branching and merging tutorials for Torto...</td>\n",
       "      <td>&lt;p&gt;Are there any really good tutorials explain...</td>\n",
       "      <td>svn|tortoisesvn|branch|branching-and-merging</td>\n",
       "    </tr>\n",
       "    <tr>\n",
       "      <th>2</th>\n",
       "      <td>120</td>\n",
       "      <td>21</td>\n",
       "      <td>ASP.NET Site Maps</td>\n",
       "      <td>&lt;p&gt;Has anyone got experience creating &lt;strong&gt;...</td>\n",
       "      <td>sql|asp.net|sitemap</td>\n",
       "    </tr>\n",
       "    <tr>\n",
       "      <th>3</th>\n",
       "      <td>180</td>\n",
       "      <td>53</td>\n",
       "      <td>Function for creating color wheels</td>\n",
       "      <td>&lt;p&gt;This is something I've pseudo-solved many t...</td>\n",
       "      <td>algorithm|language-agnostic|colors|color-space</td>\n",
       "    </tr>\n",
       "    <tr>\n",
       "      <th>4</th>\n",
       "      <td>260</td>\n",
       "      <td>49</td>\n",
       "      <td>Adding scripting functionality to .NET applica...</td>\n",
       "      <td>&lt;p&gt;I have a little game written in C#. It uses...</td>\n",
       "      <td>c#|.net|scripting|compiler-construction</td>\n",
       "    </tr>\n",
       "  </tbody>\n",
       "</table>\n",
       "</div>"
      ],
      "text/plain": [
       "    Id  Score                                              Title  \\\n",
       "0   80     26  SQLStatement.execute() - multiple queries in o...   \n",
       "1   90    144  Good branching and merging tutorials for Torto...   \n",
       "2  120     21                                  ASP.NET Site Maps   \n",
       "3  180     53                 Function for creating color wheels   \n",
       "4  260     49  Adding scripting functionality to .NET applica...   \n",
       "\n",
       "                                                Body  \\\n",
       "0  <p>I've written a database generation script i...   \n",
       "1  <p>Are there any really good tutorials explain...   \n",
       "2  <p>Has anyone got experience creating <strong>...   \n",
       "3  <p>This is something I've pseudo-solved many t...   \n",
       "4  <p>I have a little game written in C#. It uses...   \n",
       "\n",
       "                                              Tag  \n",
       "0                         flex|actionscript-3|air  \n",
       "1    svn|tortoisesvn|branch|branching-and-merging  \n",
       "2                             sql|asp.net|sitemap  \n",
       "3  algorithm|language-agnostic|colors|color-space  \n",
       "4         c#|.net|scripting|compiler-construction  "
      ]
     },
     "execution_count": 15,
     "metadata": {},
     "output_type": "execute_result"
    }
   ],
   "source": [
    "# Combine the questions and tags for next steps\n",
    "df_stackoverflow = df_questions.merge(df_tags_grouped, on='Id')\n",
    "df_stackoverflow.head()"
   ]
  },
  {
   "cell_type": "code",
   "execution_count": 16,
   "metadata": {
    "id": "mnEk5cob8w9e"
   },
   "outputs": [],
   "source": [
    "del df_questions\n",
    "del df_tags\n",
    "del df_tags_grouped"
   ]
  },
  {
   "cell_type": "code",
   "execution_count": 17,
   "metadata": {
    "colab": {
     "base_uri": "https://localhost:8080/",
     "height": 337
    },
    "id": "ExkR1lXyixQl",
    "outputId": "94ab9d6d-0ee7-4d06-f262-2328f28bf12c"
   },
   "outputs": [
    {
     "data": {
      "text/html": [
       "<div>\n",
       "<style scoped>\n",
       "    .dataframe tbody tr th:only-of-type {\n",
       "        vertical-align: middle;\n",
       "    }\n",
       "\n",
       "    .dataframe tbody tr th {\n",
       "        vertical-align: top;\n",
       "    }\n",
       "\n",
       "    .dataframe thead th {\n",
       "        text-align: right;\n",
       "    }\n",
       "</style>\n",
       "<table border=\"1\" class=\"dataframe\">\n",
       "  <thead>\n",
       "    <tr style=\"text-align: right;\">\n",
       "      <th></th>\n",
       "      <th>Id</th>\n",
       "      <th>Score</th>\n",
       "      <th>Title</th>\n",
       "      <th>Body</th>\n",
       "      <th>Tag</th>\n",
       "      <th>Tags</th>\n",
       "    </tr>\n",
       "  </thead>\n",
       "  <tbody>\n",
       "    <tr>\n",
       "      <th>0</th>\n",
       "      <td>80</td>\n",
       "      <td>26</td>\n",
       "      <td>SQLStatement.execute() - multiple queries in o...</td>\n",
       "      <td>&lt;p&gt;I've written a database generation script i...</td>\n",
       "      <td>flex|actionscript-3|air</td>\n",
       "      <td>[flex, actionscript-3, air]</td>\n",
       "    </tr>\n",
       "    <tr>\n",
       "      <th>1</th>\n",
       "      <td>90</td>\n",
       "      <td>144</td>\n",
       "      <td>Good branching and merging tutorials for Torto...</td>\n",
       "      <td>&lt;p&gt;Are there any really good tutorials explain...</td>\n",
       "      <td>svn|tortoisesvn|branch|branching-and-merging</td>\n",
       "      <td>[svn, tortoisesvn, branch, branching-and-merging]</td>\n",
       "    </tr>\n",
       "    <tr>\n",
       "      <th>2</th>\n",
       "      <td>120</td>\n",
       "      <td>21</td>\n",
       "      <td>ASP.NET Site Maps</td>\n",
       "      <td>&lt;p&gt;Has anyone got experience creating &lt;strong&gt;...</td>\n",
       "      <td>sql|asp.net|sitemap</td>\n",
       "      <td>[sql, asp.net, sitemap]</td>\n",
       "    </tr>\n",
       "    <tr>\n",
       "      <th>3</th>\n",
       "      <td>180</td>\n",
       "      <td>53</td>\n",
       "      <td>Function for creating color wheels</td>\n",
       "      <td>&lt;p&gt;This is something I've pseudo-solved many t...</td>\n",
       "      <td>algorithm|language-agnostic|colors|color-space</td>\n",
       "      <td>[algorithm, language-agnostic, colors, color-s...</td>\n",
       "    </tr>\n",
       "    <tr>\n",
       "      <th>4</th>\n",
       "      <td>260</td>\n",
       "      <td>49</td>\n",
       "      <td>Adding scripting functionality to .NET applica...</td>\n",
       "      <td>&lt;p&gt;I have a little game written in C#. It uses...</td>\n",
       "      <td>c#|.net|scripting|compiler-construction</td>\n",
       "      <td>[c#, .net, scripting, compiler-construction]</td>\n",
       "    </tr>\n",
       "  </tbody>\n",
       "</table>\n",
       "</div>"
      ],
      "text/plain": [
       "    Id  Score                                              Title  \\\n",
       "0   80     26  SQLStatement.execute() - multiple queries in o...   \n",
       "1   90    144  Good branching and merging tutorials for Torto...   \n",
       "2  120     21                                  ASP.NET Site Maps   \n",
       "3  180     53                 Function for creating color wheels   \n",
       "4  260     49  Adding scripting functionality to .NET applica...   \n",
       "\n",
       "                                                Body  \\\n",
       "0  <p>I've written a database generation script i...   \n",
       "1  <p>Are there any really good tutorials explain...   \n",
       "2  <p>Has anyone got experience creating <strong>...   \n",
       "3  <p>This is something I've pseudo-solved many t...   \n",
       "4  <p>I have a little game written in C#. It uses...   \n",
       "\n",
       "                                              Tag  \\\n",
       "0                         flex|actionscript-3|air   \n",
       "1    svn|tortoisesvn|branch|branching-and-merging   \n",
       "2                             sql|asp.net|sitemap   \n",
       "3  algorithm|language-agnostic|colors|color-space   \n",
       "4         c#|.net|scripting|compiler-construction   \n",
       "\n",
       "                                                Tags  \n",
       "0                        [flex, actionscript-3, air]  \n",
       "1  [svn, tortoisesvn, branch, branching-and-merging]  \n",
       "2                            [sql, asp.net, sitemap]  \n",
       "3  [algorithm, language-agnostic, colors, color-s...  \n",
       "4       [c#, .net, scripting, compiler-construction]  "
      ]
     },
     "execution_count": 17,
     "metadata": {},
     "output_type": "execute_result"
    }
   ],
   "source": [
    "df_stackoverflow['Tags'] = df_stackoverflow['Tag'].apply(lambda x: x.split('|'))\n",
    "df_stackoverflow.head()"
   ]
  },
  {
   "cell_type": "code",
   "execution_count": 18,
   "metadata": {
    "id": "YOojIWlrp4rD"
   },
   "outputs": [],
   "source": [
    "tags_list = [tag for tags in df_stackoverflow[df_stackoverflow['Score'] > 5]['Tags'].values for tag in tags]"
   ]
  },
  {
   "cell_type": "code",
   "execution_count": 19,
   "metadata": {},
   "outputs": [
    {
     "data": {
      "text/plain": [
       "['c#',\n",
       " 'java',\n",
       " 'javascript',\n",
       " 'android',\n",
       " 'python',\n",
       " 'c++',\n",
       " 'php',\n",
       " 'jquery',\n",
       " '.net',\n",
       " 'ios',\n",
       " 'html',\n",
       " 'css',\n",
       " 'c',\n",
       " 'iphone',\n",
       " 'objective-c',\n",
       " 'ruby-on-rails',\n",
       " 'sql',\n",
       " 'asp.net',\n",
       " 'mysql',\n",
       " 'ruby']"
      ]
     },
     "execution_count": 19,
     "metadata": {},
     "output_type": "execute_result"
    }
   ],
   "source": [
    "tag_counts = nltk.FreqDist(tags_list)\n",
    "top_100_tags = [tag[0] for tag in tag_counts.most_common(100)]\n",
    "top_100_tags[0:20]"
   ]
  },
  {
   "cell_type": "code",
   "execution_count": null,
   "metadata": {},
   "outputs": [],
   "source": []
  },
  {
   "cell_type": "markdown",
   "metadata": {
    "colab": {
     "base_uri": "https://localhost:8080/"
    },
    "id": "FXTUhKdvqChN",
    "outputId": "96e2fd52-51cd-4a64-cbc5-44dd4b802577"
   },
   "source": [
    "tag_counts = nltk.FreqDist(tags_list)\n",
    "top_1000_tags = [tag[0] for tag in tag_counts.most_common(1000)]\n",
    "top_1000_tags[0:20]"
   ]
  },
  {
   "cell_type": "code",
   "execution_count": 20,
   "metadata": {
    "id": "mKtaw5lI8gHe"
   },
   "outputs": [],
   "source": [
    "# Define function to take list of tags as input and create a new list only based\n",
    "# on tags that are part of the top 1000 tags list\n",
    "def keep_top_tags(tags):\n",
    "  tags_list = []\n",
    "  for tag in tags:\n",
    "    if tag in top_100_tags:\n",
    "      tags_list.append(tag)\n",
    "\n",
    "  if (len(tags_list) > 0):\n",
    "    return tags_list\n",
    "  else:\n",
    "    return None"
   ]
  },
  {
   "cell_type": "code",
   "execution_count": 21,
   "metadata": {
    "id": "OQUIcbpnGcCR"
   },
   "outputs": [],
   "source": [
    "df_stackoverflow['Tags'] = df_stackoverflow['Tags'].apply(lambda tags: keep_top_tags(tags))"
   ]
  },
  {
   "cell_type": "code",
   "execution_count": 22,
   "metadata": {
    "colab": {
     "base_uri": "https://localhost:8080/",
     "height": 337
    },
    "id": "55-u_rxyHMbi",
    "outputId": "c4bc74b8-1409-4624-96bc-13e402ac94c0"
   },
   "outputs": [
    {
     "data": {
      "text/html": [
       "<div>\n",
       "<style scoped>\n",
       "    .dataframe tbody tr th:only-of-type {\n",
       "        vertical-align: middle;\n",
       "    }\n",
       "\n",
       "    .dataframe tbody tr th {\n",
       "        vertical-align: top;\n",
       "    }\n",
       "\n",
       "    .dataframe thead th {\n",
       "        text-align: right;\n",
       "    }\n",
       "</style>\n",
       "<table border=\"1\" class=\"dataframe\">\n",
       "  <thead>\n",
       "    <tr style=\"text-align: right;\">\n",
       "      <th></th>\n",
       "      <th>Id</th>\n",
       "      <th>Score</th>\n",
       "      <th>Title</th>\n",
       "      <th>Body</th>\n",
       "      <th>Tag</th>\n",
       "      <th>Tags</th>\n",
       "    </tr>\n",
       "  </thead>\n",
       "  <tbody>\n",
       "    <tr>\n",
       "      <th>0</th>\n",
       "      <td>80</td>\n",
       "      <td>26</td>\n",
       "      <td>SQLStatement.execute() - multiple queries in o...</td>\n",
       "      <td>&lt;p&gt;I've written a database generation script i...</td>\n",
       "      <td>flex|actionscript-3|air</td>\n",
       "      <td>None</td>\n",
       "    </tr>\n",
       "    <tr>\n",
       "      <th>1</th>\n",
       "      <td>90</td>\n",
       "      <td>144</td>\n",
       "      <td>Good branching and merging tutorials for Torto...</td>\n",
       "      <td>&lt;p&gt;Are there any really good tutorials explain...</td>\n",
       "      <td>svn|tortoisesvn|branch|branching-and-merging</td>\n",
       "      <td>[svn]</td>\n",
       "    </tr>\n",
       "    <tr>\n",
       "      <th>2</th>\n",
       "      <td>120</td>\n",
       "      <td>21</td>\n",
       "      <td>ASP.NET Site Maps</td>\n",
       "      <td>&lt;p&gt;Has anyone got experience creating &lt;strong&gt;...</td>\n",
       "      <td>sql|asp.net|sitemap</td>\n",
       "      <td>[sql, asp.net]</td>\n",
       "    </tr>\n",
       "    <tr>\n",
       "      <th>3</th>\n",
       "      <td>180</td>\n",
       "      <td>53</td>\n",
       "      <td>Function for creating color wheels</td>\n",
       "      <td>&lt;p&gt;This is something I've pseudo-solved many t...</td>\n",
       "      <td>algorithm|language-agnostic|colors|color-space</td>\n",
       "      <td>[algorithm]</td>\n",
       "    </tr>\n",
       "    <tr>\n",
       "      <th>4</th>\n",
       "      <td>260</td>\n",
       "      <td>49</td>\n",
       "      <td>Adding scripting functionality to .NET applica...</td>\n",
       "      <td>&lt;p&gt;I have a little game written in C#. It uses...</td>\n",
       "      <td>c#|.net|scripting|compiler-construction</td>\n",
       "      <td>[c#, .net]</td>\n",
       "    </tr>\n",
       "  </tbody>\n",
       "</table>\n",
       "</div>"
      ],
      "text/plain": [
       "    Id  Score                                              Title  \\\n",
       "0   80     26  SQLStatement.execute() - multiple queries in o...   \n",
       "1   90    144  Good branching and merging tutorials for Torto...   \n",
       "2  120     21                                  ASP.NET Site Maps   \n",
       "3  180     53                 Function for creating color wheels   \n",
       "4  260     49  Adding scripting functionality to .NET applica...   \n",
       "\n",
       "                                                Body  \\\n",
       "0  <p>I've written a database generation script i...   \n",
       "1  <p>Are there any really good tutorials explain...   \n",
       "2  <p>Has anyone got experience creating <strong>...   \n",
       "3  <p>This is something I've pseudo-solved many t...   \n",
       "4  <p>I have a little game written in C#. It uses...   \n",
       "\n",
       "                                              Tag            Tags  \n",
       "0                         flex|actionscript-3|air            None  \n",
       "1    svn|tortoisesvn|branch|branching-and-merging           [svn]  \n",
       "2                             sql|asp.net|sitemap  [sql, asp.net]  \n",
       "3  algorithm|language-agnostic|colors|color-space     [algorithm]  \n",
       "4         c#|.net|scripting|compiler-construction      [c#, .net]  "
      ]
     },
     "execution_count": 22,
     "metadata": {},
     "output_type": "execute_result"
    }
   ],
   "source": [
    "df_stackoverflow.head()"
   ]
  },
  {
   "cell_type": "code",
   "execution_count": 23,
   "metadata": {
    "id": "f2e-uYVgJxem"
   },
   "outputs": [],
   "source": [
    "df_stackoverflow = df_stackoverflow[df_stackoverflow['Score'] > 5].dropna()"
   ]
  },
  {
   "cell_type": "code",
   "execution_count": 24,
   "metadata": {
    "colab": {
     "base_uri": "https://localhost:8080/",
     "height": 206
    },
    "id": "iYSJXoZJRqK-",
    "outputId": "a284bae2-c517-464f-99a8-d3276509a190"
   },
   "outputs": [
    {
     "data": {
      "text/html": [
       "<div>\n",
       "<style scoped>\n",
       "    .dataframe tbody tr th:only-of-type {\n",
       "        vertical-align: middle;\n",
       "    }\n",
       "\n",
       "    .dataframe tbody tr th {\n",
       "        vertical-align: top;\n",
       "    }\n",
       "\n",
       "    .dataframe thead th {\n",
       "        text-align: right;\n",
       "    }\n",
       "</style>\n",
       "<table border=\"1\" class=\"dataframe\">\n",
       "  <thead>\n",
       "    <tr style=\"text-align: right;\">\n",
       "      <th></th>\n",
       "      <th>Id</th>\n",
       "      <th>Score</th>\n",
       "      <th>Title</th>\n",
       "      <th>Body</th>\n",
       "      <th>Tags</th>\n",
       "    </tr>\n",
       "  </thead>\n",
       "  <tbody>\n",
       "    <tr>\n",
       "      <th>1</th>\n",
       "      <td>90</td>\n",
       "      <td>144</td>\n",
       "      <td>Good branching and merging tutorials for Torto...</td>\n",
       "      <td>&lt;p&gt;Are there any really good tutorials explain...</td>\n",
       "      <td>[svn]</td>\n",
       "    </tr>\n",
       "    <tr>\n",
       "      <th>2</th>\n",
       "      <td>120</td>\n",
       "      <td>21</td>\n",
       "      <td>ASP.NET Site Maps</td>\n",
       "      <td>&lt;p&gt;Has anyone got experience creating &lt;strong&gt;...</td>\n",
       "      <td>[sql, asp.net]</td>\n",
       "    </tr>\n",
       "    <tr>\n",
       "      <th>3</th>\n",
       "      <td>180</td>\n",
       "      <td>53</td>\n",
       "      <td>Function for creating color wheels</td>\n",
       "      <td>&lt;p&gt;This is something I've pseudo-solved many t...</td>\n",
       "      <td>[algorithm]</td>\n",
       "    </tr>\n",
       "    <tr>\n",
       "      <th>4</th>\n",
       "      <td>260</td>\n",
       "      <td>49</td>\n",
       "      <td>Adding scripting functionality to .NET applica...</td>\n",
       "      <td>&lt;p&gt;I have a little game written in C#. It uses...</td>\n",
       "      <td>[c#, .net]</td>\n",
       "    </tr>\n",
       "    <tr>\n",
       "      <th>5</th>\n",
       "      <td>330</td>\n",
       "      <td>29</td>\n",
       "      <td>Should I use nested classes in this case?</td>\n",
       "      <td>&lt;p&gt;I am working on a collection of classes use...</td>\n",
       "      <td>[c++, oop, class]</td>\n",
       "    </tr>\n",
       "  </tbody>\n",
       "</table>\n",
       "</div>"
      ],
      "text/plain": [
       "    Id  Score                                              Title  \\\n",
       "1   90    144  Good branching and merging tutorials for Torto...   \n",
       "2  120     21                                  ASP.NET Site Maps   \n",
       "3  180     53                 Function for creating color wheels   \n",
       "4  260     49  Adding scripting functionality to .NET applica...   \n",
       "5  330     29          Should I use nested classes in this case?   \n",
       "\n",
       "                                                Body               Tags  \n",
       "1  <p>Are there any really good tutorials explain...              [svn]  \n",
       "2  <p>Has anyone got experience creating <strong>...     [sql, asp.net]  \n",
       "3  <p>This is something I've pseudo-solved many t...        [algorithm]  \n",
       "4  <p>I have a little game written in C#. It uses...         [c#, .net]  \n",
       "5  <p>I am working on a collection of classes use...  [c++, oop, class]  "
      ]
     },
     "execution_count": 24,
     "metadata": {},
     "output_type": "execute_result"
    }
   ],
   "source": [
    "# Drop extra columns.\n",
    "df_stackoverflow.drop(columns=['Tag'], inplace=True)\n",
    "df_stackoverflow.head()"
   ]
  },
  {
   "cell_type": "code",
   "execution_count": 25,
   "metadata": {
    "colab": {
     "base_uri": "https://localhost:8080/"
    },
    "id": "LaXZgkkvYtqx",
    "outputId": "9d16bb16-cee0-49cd-d1d6-bdb9b358c02c"
   },
   "outputs": [
    {
     "data": {
      "text/plain": [
       "(63167, 5)"
      ]
     },
     "execution_count": 25,
     "metadata": {},
     "output_type": "execute_result"
    }
   ],
   "source": [
    "df_stackoverflow.shape"
   ]
  },
  {
   "cell_type": "code",
   "execution_count": 26,
   "metadata": {},
   "outputs": [
    {
     "data": {
      "text/plain": [
       "Id       0\n",
       "Score    0\n",
       "Title    0\n",
       "Body     0\n",
       "Tags     0\n",
       "dtype: int64"
      ]
     },
     "execution_count": 26,
     "metadata": {},
     "output_type": "execute_result"
    }
   ],
   "source": [
    "df_stackoverflow.isna().sum()"
   ]
  },
  {
   "cell_type": "markdown",
   "metadata": {
    "id": "sDPjSN_6Rl5L"
   },
   "source": [
    "### Data Cleaning and pre-processing:"
   ]
  },
  {
   "cell_type": "code",
   "execution_count": 27,
   "metadata": {},
   "outputs": [
    {
     "data": {
      "text/html": [
       "<div>\n",
       "<style scoped>\n",
       "    .dataframe tbody tr th:only-of-type {\n",
       "        vertical-align: middle;\n",
       "    }\n",
       "\n",
       "    .dataframe tbody tr th {\n",
       "        vertical-align: top;\n",
       "    }\n",
       "\n",
       "    .dataframe thead th {\n",
       "        text-align: right;\n",
       "    }\n",
       "</style>\n",
       "<table border=\"1\" class=\"dataframe\">\n",
       "  <thead>\n",
       "    <tr style=\"text-align: right;\">\n",
       "      <th></th>\n",
       "      <th>Id</th>\n",
       "      <th>Score</th>\n",
       "      <th>Title</th>\n",
       "      <th>Body</th>\n",
       "      <th>Tags</th>\n",
       "    </tr>\n",
       "  </thead>\n",
       "  <tbody>\n",
       "    <tr>\n",
       "      <th>1</th>\n",
       "      <td>90</td>\n",
       "      <td>144</td>\n",
       "      <td>Good branching and merging tutorials for Torto...</td>\n",
       "      <td>&lt;p&gt;Are there any really good tutorials explain...</td>\n",
       "      <td>[svn]</td>\n",
       "    </tr>\n",
       "    <tr>\n",
       "      <th>2</th>\n",
       "      <td>120</td>\n",
       "      <td>21</td>\n",
       "      <td>ASP.NET Site Maps</td>\n",
       "      <td>&lt;p&gt;Has anyone got experience creating &lt;strong&gt;...</td>\n",
       "      <td>[sql, asp.net]</td>\n",
       "    </tr>\n",
       "    <tr>\n",
       "      <th>3</th>\n",
       "      <td>180</td>\n",
       "      <td>53</td>\n",
       "      <td>Function for creating color wheels</td>\n",
       "      <td>&lt;p&gt;This is something I've pseudo-solved many t...</td>\n",
       "      <td>[algorithm]</td>\n",
       "    </tr>\n",
       "    <tr>\n",
       "      <th>4</th>\n",
       "      <td>260</td>\n",
       "      <td>49</td>\n",
       "      <td>Adding scripting functionality to .NET applica...</td>\n",
       "      <td>&lt;p&gt;I have a little game written in C#. It uses...</td>\n",
       "      <td>[c#, .net]</td>\n",
       "    </tr>\n",
       "    <tr>\n",
       "      <th>5</th>\n",
       "      <td>330</td>\n",
       "      <td>29</td>\n",
       "      <td>Should I use nested classes in this case?</td>\n",
       "      <td>&lt;p&gt;I am working on a collection of classes use...</td>\n",
       "      <td>[c++, oop, class]</td>\n",
       "    </tr>\n",
       "  </tbody>\n",
       "</table>\n",
       "</div>"
      ],
      "text/plain": [
       "    Id  Score                                              Title  \\\n",
       "1   90    144  Good branching and merging tutorials for Torto...   \n",
       "2  120     21                                  ASP.NET Site Maps   \n",
       "3  180     53                 Function for creating color wheels   \n",
       "4  260     49  Adding scripting functionality to .NET applica...   \n",
       "5  330     29          Should I use nested classes in this case?   \n",
       "\n",
       "                                                Body               Tags  \n",
       "1  <p>Are there any really good tutorials explain...              [svn]  \n",
       "2  <p>Has anyone got experience creating <strong>...     [sql, asp.net]  \n",
       "3  <p>This is something I've pseudo-solved many t...        [algorithm]  \n",
       "4  <p>I have a little game written in C#. It uses...         [c#, .net]  \n",
       "5  <p>I am working on a collection of classes use...  [c++, oop, class]  "
      ]
     },
     "execution_count": 27,
     "metadata": {},
     "output_type": "execute_result"
    }
   ],
   "source": [
    "df_stackoverflow.head()"
   ]
  },
  {
   "cell_type": "code",
   "execution_count": 28,
   "metadata": {},
   "outputs": [
    {
     "data": {
      "text/plain": [
       "(63167, 5)"
      ]
     },
     "execution_count": 28,
     "metadata": {},
     "output_type": "execute_result"
    }
   ],
   "source": [
    "df_stackoverflow.shape"
   ]
  },
  {
   "cell_type": "code",
   "execution_count": 29,
   "metadata": {},
   "outputs": [],
   "source": [
    "#Cleaning HTML tags from the title and body text\n",
    "def clean_html(html):\n",
    "\n",
    "    # parse html content\n",
    "    soup = BeautifulSoup(html, \"html.parser\")\n",
    "\n",
    "    for data in soup(['style', 'script', 'code', 'a']):\n",
    "        # Remove tags\n",
    "        data.decompose()\n",
    "\n",
    "    # return data by retrieving the tag content\n",
    "    return ' '.join(soup.stripped_strings)"
   ]
  },
  {
   "cell_type": "code",
   "execution_count": 30,
   "metadata": {},
   "outputs": [],
   "source": [
    "# To remove HTML first and apply it directly to the source text column.\n",
    "df_stackoverflow['Body'] = df_stackoverflow['Body'].apply(lambda x: clean_html(x))"
   ]
  },
  {
   "cell_type": "markdown",
   "metadata": {},
   "source": [
    "In the below code chunk, the data has been passed through a function which cleans the data by making the text into lower case and by removing the line breaks, punctuations, stop words and numbers. And also, stemming and lemmatization is performed. "
   ]
  },
  {
   "cell_type": "code",
   "execution_count": 31,
   "metadata": {},
   "outputs": [],
   "source": [
    "# Load spacy\n",
    "nlp = spacy.load('en_core_web_sm')\n",
    "\n",
    "def clean_string(text, stem=\"None\"):\n",
    "\n",
    "    final_string = \"\"\n",
    "\n",
    "    # Make lower\n",
    "    text = text.lower()\n",
    "\n",
    "    # Remove line breaks\n",
    "    text = re.sub(r'\\n', '', text)\n",
    "\n",
    "    # Remove puncuation\n",
    "    translator = str.maketrans('', '', string.punctuation)\n",
    "    text = text.translate(translator)\n",
    "\n",
    "    # Remove stop words\n",
    "    text = text.split()\n",
    "    useless_words = nltk.corpus.stopwords.words(\"english\")\n",
    "    useless_words = useless_words + ['hi', 'im']\n",
    "\n",
    "    text_filtered = [word for word in text if not word in useless_words]\n",
    "\n",
    "    # Remove numbers\n",
    "    text_filtered = [re.sub(r'\\w*\\d\\w*', '', w) for w in text_filtered]\n",
    "\n",
    "    # Stem or Lemmatize\n",
    "    if stem == 'Stem':\n",
    "        stemmer = PorterStemmer() \n",
    "        text_stemmed = [stemmer.stem(y) for y in text_filtered]\n",
    "    elif stem == 'Lem':\n",
    "        lem = WordNetLemmatizer()\n",
    "        text_stemmed = [lem.lemmatize(y) for y in text_filtered]\n",
    "    elif stem == 'Spacy':\n",
    "        text_filtered = nlp(' '.join(text_filtered))\n",
    "        text_stemmed = [y.lemma_ for y in text_filtered]\n",
    "    else:\n",
    "        text_stemmed = text_filtered\n",
    "\n",
    "    final_string = ' '.join(text_stemmed)\n",
    "\n",
    "    return final_string"
   ]
  },
  {
   "cell_type": "code",
   "execution_count": 32,
   "metadata": {},
   "outputs": [],
   "source": [
    "# Next apply the clean_string function to the title text\n",
    "df_stackoverflow['title_clean'] = df_stackoverflow['Title'].apply(lambda x: clean_string(x, stem='Stem'))"
   ]
  },
  {
   "cell_type": "code",
   "execution_count": 33,
   "metadata": {},
   "outputs": [
    {
     "data": {
      "text/html": [
       "<div>\n",
       "<style scoped>\n",
       "    .dataframe tbody tr th:only-of-type {\n",
       "        vertical-align: middle;\n",
       "    }\n",
       "\n",
       "    .dataframe tbody tr th {\n",
       "        vertical-align: top;\n",
       "    }\n",
       "\n",
       "    .dataframe thead th {\n",
       "        text-align: right;\n",
       "    }\n",
       "</style>\n",
       "<table border=\"1\" class=\"dataframe\">\n",
       "  <thead>\n",
       "    <tr style=\"text-align: right;\">\n",
       "      <th></th>\n",
       "      <th>Id</th>\n",
       "      <th>Score</th>\n",
       "      <th>Title</th>\n",
       "      <th>Body</th>\n",
       "      <th>Tags</th>\n",
       "      <th>title_clean</th>\n",
       "    </tr>\n",
       "  </thead>\n",
       "  <tbody>\n",
       "    <tr>\n",
       "      <th>1</th>\n",
       "      <td>90</td>\n",
       "      <td>144</td>\n",
       "      <td>Good branching and merging tutorials for Torto...</td>\n",
       "      <td>Are there any really good tutorials explaining...</td>\n",
       "      <td>[svn]</td>\n",
       "      <td>good branch merg tutori tortoisesvn</td>\n",
       "    </tr>\n",
       "    <tr>\n",
       "      <th>2</th>\n",
       "      <td>120</td>\n",
       "      <td>21</td>\n",
       "      <td>ASP.NET Site Maps</td>\n",
       "      <td>Has anyone got experience creating SQL-based A...</td>\n",
       "      <td>[sql, asp.net]</td>\n",
       "      <td>aspnet site map</td>\n",
       "    </tr>\n",
       "    <tr>\n",
       "      <th>3</th>\n",
       "      <td>180</td>\n",
       "      <td>53</td>\n",
       "      <td>Function for creating color wheels</td>\n",
       "      <td>This is something I've pseudo-solved many time...</td>\n",
       "      <td>[algorithm]</td>\n",
       "      <td>function creat color wheel</td>\n",
       "    </tr>\n",
       "    <tr>\n",
       "      <th>4</th>\n",
       "      <td>260</td>\n",
       "      <td>49</td>\n",
       "      <td>Adding scripting functionality to .NET applica...</td>\n",
       "      <td>I have a little game written in C#. It uses a ...</td>\n",
       "      <td>[c#, .net]</td>\n",
       "      <td>ad script function net applic</td>\n",
       "    </tr>\n",
       "    <tr>\n",
       "      <th>5</th>\n",
       "      <td>330</td>\n",
       "      <td>29</td>\n",
       "      <td>Should I use nested classes in this case?</td>\n",
       "      <td>I am working on a collection of classes used f...</td>\n",
       "      <td>[c++, oop, class]</td>\n",
       "      <td>use nest class case</td>\n",
       "    </tr>\n",
       "  </tbody>\n",
       "</table>\n",
       "</div>"
      ],
      "text/plain": [
       "    Id  Score                                              Title  \\\n",
       "1   90    144  Good branching and merging tutorials for Torto...   \n",
       "2  120     21                                  ASP.NET Site Maps   \n",
       "3  180     53                 Function for creating color wheels   \n",
       "4  260     49  Adding scripting functionality to .NET applica...   \n",
       "5  330     29          Should I use nested classes in this case?   \n",
       "\n",
       "                                                Body               Tags  \\\n",
       "1  Are there any really good tutorials explaining...              [svn]   \n",
       "2  Has anyone got experience creating SQL-based A...     [sql, asp.net]   \n",
       "3  This is something I've pseudo-solved many time...        [algorithm]   \n",
       "4  I have a little game written in C#. It uses a ...         [c#, .net]   \n",
       "5  I am working on a collection of classes used f...  [c++, oop, class]   \n",
       "\n",
       "                           title_clean  \n",
       "1  good branch merg tutori tortoisesvn  \n",
       "2                      aspnet site map  \n",
       "3           function creat color wheel  \n",
       "4        ad script function net applic  \n",
       "5                  use nest class case  "
      ]
     },
     "execution_count": 33,
     "metadata": {},
     "output_type": "execute_result"
    }
   ],
   "source": [
    "df_stackoverflow.head()"
   ]
  },
  {
   "cell_type": "markdown",
   "metadata": {},
   "source": [
    "The body text contains punctuations which should not be removed because this attribute helps the models to understand and makes sense with the tags attribute to run the model efficicnetly. So, the following data clean code is rpeated but without punctuiation removal in the 'Body' column"
   ]
  },
  {
   "cell_type": "code",
   "execution_count": 34,
   "metadata": {},
   "outputs": [],
   "source": [
    "# Load spacy\n",
    "nlp = spacy.load('en_core_web_sm')\n",
    "\n",
    "def clean_string_body(text, stem=\"None\"):\n",
    "\n",
    "    final_string = \"\"\n",
    "\n",
    "    # Make lower\n",
    "    text = text.lower()\n",
    "\n",
    "    # Remove line breaks\n",
    "    text = re.sub(r'\\n', '', text)\n",
    "\n",
    "    # Remove puncuation\n",
    "    #translator = str.maketrans('', '', string.punctuation)\n",
    "    #text = text.translate(translator)\n",
    "\n",
    "    # Remove stop words\n",
    "    text = text.split()\n",
    "    useless_words = nltk.corpus.stopwords.words(\"english\")\n",
    "    useless_words = useless_words + ['hi', 'im']\n",
    "\n",
    "    text_filtered = [word for word in text if not word in useless_words]\n",
    "\n",
    "    # Remove numbers\n",
    "    text_filtered = [re.sub(r'\\w*\\d\\w*', '', w) for w in text_filtered]\n",
    "\n",
    "    # Stem or Lemmatize\n",
    "    if stem == 'Stem':\n",
    "        stemmer = PorterStemmer() \n",
    "        text_stemmed = [stemmer.stem(y) for y in text_filtered]\n",
    "    elif stem == 'Lem':\n",
    "        lem = WordNetLemmatizer()\n",
    "        text_stemmed = [lem.lemmatize(y) for y in text_filtered]\n",
    "    elif stem == 'Spacy':\n",
    "        text_filtered = nlp(' '.join(text_filtered))\n",
    "        text_stemmed = [y.lemma_ for y in text_filtered]\n",
    "    else:\n",
    "        text_stemmed = text_filtered\n",
    "\n",
    "    final_string = ' '.join(text_stemmed)\n",
    "\n",
    "    return final_string"
   ]
  },
  {
   "cell_type": "code",
   "execution_count": 35,
   "metadata": {},
   "outputs": [],
   "source": [
    "# Next apply the clean_string function to the body text\n",
    "df_stackoverflow['body_clean'] = df_stackoverflow['Body'].apply(lambda x: clean_string_body(x, stem='Stem'))"
   ]
  },
  {
   "cell_type": "code",
   "execution_count": 36,
   "metadata": {},
   "outputs": [
    {
     "data": {
      "text/html": [
       "<div>\n",
       "<style scoped>\n",
       "    .dataframe tbody tr th:only-of-type {\n",
       "        vertical-align: middle;\n",
       "    }\n",
       "\n",
       "    .dataframe tbody tr th {\n",
       "        vertical-align: top;\n",
       "    }\n",
       "\n",
       "    .dataframe thead th {\n",
       "        text-align: right;\n",
       "    }\n",
       "</style>\n",
       "<table border=\"1\" class=\"dataframe\">\n",
       "  <thead>\n",
       "    <tr style=\"text-align: right;\">\n",
       "      <th></th>\n",
       "      <th>Id</th>\n",
       "      <th>Score</th>\n",
       "      <th>Title</th>\n",
       "      <th>Body</th>\n",
       "      <th>Tags</th>\n",
       "      <th>title_clean</th>\n",
       "      <th>body_clean</th>\n",
       "    </tr>\n",
       "  </thead>\n",
       "  <tbody>\n",
       "    <tr>\n",
       "      <th>1</th>\n",
       "      <td>90</td>\n",
       "      <td>144</td>\n",
       "      <td>Good branching and merging tutorials for Torto...</td>\n",
       "      <td>Are there any really good tutorials explaining...</td>\n",
       "      <td>[svn]</td>\n",
       "      <td>good branch merg tutori tortoisesvn</td>\n",
       "      <td>realli good tutori explain apach subversion? b...</td>\n",
       "    </tr>\n",
       "    <tr>\n",
       "      <th>2</th>\n",
       "      <td>120</td>\n",
       "      <td>21</td>\n",
       "      <td>ASP.NET Site Maps</td>\n",
       "      <td>Has anyone got experience creating SQL-based A...</td>\n",
       "      <td>[sql, asp.net]</td>\n",
       "      <td>aspnet site map</td>\n",
       "      <td>anyon got experi creat sql-base asp.net site-m...</td>\n",
       "    </tr>\n",
       "    <tr>\n",
       "      <th>3</th>\n",
       "      <td>180</td>\n",
       "      <td>53</td>\n",
       "      <td>Function for creating color wheels</td>\n",
       "      <td>This is something I've pseudo-solved many time...</td>\n",
       "      <td>[algorithm]</td>\n",
       "      <td>function creat color wheel</td>\n",
       "      <td>someth i'v pseudo-solv mani time never quit fo...</td>\n",
       "    </tr>\n",
       "    <tr>\n",
       "      <th>4</th>\n",
       "      <td>260</td>\n",
       "      <td>49</td>\n",
       "      <td>Adding scripting functionality to .NET applica...</td>\n",
       "      <td>I have a little game written in C#. It uses a ...</td>\n",
       "      <td>[c#, .net]</td>\n",
       "      <td>ad script function net applic</td>\n",
       "      <td>littl game written c#. use databas back-end. ,...</td>\n",
       "    </tr>\n",
       "    <tr>\n",
       "      <th>5</th>\n",
       "      <td>330</td>\n",
       "      <td>29</td>\n",
       "      <td>Should I use nested classes in this case?</td>\n",
       "      <td>I am working on a collection of classes used f...</td>\n",
       "      <td>[c++, oop, class]</td>\n",
       "      <td>use nest class case</td>\n",
       "      <td>work collect class use video playback recordin...</td>\n",
       "    </tr>\n",
       "  </tbody>\n",
       "</table>\n",
       "</div>"
      ],
      "text/plain": [
       "    Id  Score                                              Title  \\\n",
       "1   90    144  Good branching and merging tutorials for Torto...   \n",
       "2  120     21                                  ASP.NET Site Maps   \n",
       "3  180     53                 Function for creating color wheels   \n",
       "4  260     49  Adding scripting functionality to .NET applica...   \n",
       "5  330     29          Should I use nested classes in this case?   \n",
       "\n",
       "                                                Body               Tags  \\\n",
       "1  Are there any really good tutorials explaining...              [svn]   \n",
       "2  Has anyone got experience creating SQL-based A...     [sql, asp.net]   \n",
       "3  This is something I've pseudo-solved many time...        [algorithm]   \n",
       "4  I have a little game written in C#. It uses a ...         [c#, .net]   \n",
       "5  I am working on a collection of classes used f...  [c++, oop, class]   \n",
       "\n",
       "                           title_clean  \\\n",
       "1  good branch merg tutori tortoisesvn   \n",
       "2                      aspnet site map   \n",
       "3           function creat color wheel   \n",
       "4        ad script function net applic   \n",
       "5                  use nest class case   \n",
       "\n",
       "                                          body_clean  \n",
       "1  realli good tutori explain apach subversion? b...  \n",
       "2  anyon got experi creat sql-base asp.net site-m...  \n",
       "3  someth i'v pseudo-solv mani time never quit fo...  \n",
       "4  littl game written c#. use databas back-end. ,...  \n",
       "5  work collect class use video playback recordin...  "
      ]
     },
     "execution_count": 36,
     "metadata": {},
     "output_type": "execute_result"
    }
   ],
   "source": [
    "df_stackoverflow.head()"
   ]
  },
  {
   "cell_type": "code",
   "execution_count": 37,
   "metadata": {},
   "outputs": [],
   "source": [
    "# Saving the cleaned dataset"
   ]
  },
  {
   "cell_type": "code",
   "execution_count": 38,
   "metadata": {},
   "outputs": [],
   "source": [
    "df_stackoverflow.to_csv(\"StackoverFlow_Final\",index = False)"
   ]
  },
  {
   "cell_type": "code",
   "execution_count": 39,
   "metadata": {},
   "outputs": [],
   "source": [
    "import pandas as pd\n",
    "import os.path\n",
    "df_stackoverflow.to_csv(os.path.join(r\"C:\\Users\\User\\OneDrive\\Desktop\",'StackoverFlow_Final.csv'))"
   ]
  },
  {
   "cell_type": "code",
   "execution_count": null,
   "metadata": {},
   "outputs": [],
   "source": []
  },
  {
   "cell_type": "markdown",
   "metadata": {},
   "source": [
    "#### Tokenization"
   ]
  },
  {
   "cell_type": "code",
   "execution_count": 40,
   "metadata": {},
   "outputs": [
    {
     "data": {
      "text/html": [
       "<div>\n",
       "<style scoped>\n",
       "    .dataframe tbody tr th:only-of-type {\n",
       "        vertical-align: middle;\n",
       "    }\n",
       "\n",
       "    .dataframe tbody tr th {\n",
       "        vertical-align: top;\n",
       "    }\n",
       "\n",
       "    .dataframe thead th {\n",
       "        text-align: right;\n",
       "    }\n",
       "</style>\n",
       "<table border=\"1\" class=\"dataframe\">\n",
       "  <thead>\n",
       "    <tr style=\"text-align: right;\">\n",
       "      <th></th>\n",
       "      <th>Id</th>\n",
       "      <th>Score</th>\n",
       "      <th>Title</th>\n",
       "      <th>Body</th>\n",
       "      <th>Tags</th>\n",
       "      <th>title_clean</th>\n",
       "      <th>body_clean</th>\n",
       "    </tr>\n",
       "  </thead>\n",
       "  <tbody>\n",
       "    <tr>\n",
       "      <th>1</th>\n",
       "      <td>90</td>\n",
       "      <td>144</td>\n",
       "      <td>Good branching and merging tutorials for Torto...</td>\n",
       "      <td>Are there any really good tutorials explaining...</td>\n",
       "      <td>[svn]</td>\n",
       "      <td>good branch merg tutori tortoisesvn</td>\n",
       "      <td>realli good tutori explain apach subversion? b...</td>\n",
       "    </tr>\n",
       "    <tr>\n",
       "      <th>2</th>\n",
       "      <td>120</td>\n",
       "      <td>21</td>\n",
       "      <td>ASP.NET Site Maps</td>\n",
       "      <td>Has anyone got experience creating SQL-based A...</td>\n",
       "      <td>[sql, asp.net]</td>\n",
       "      <td>aspnet site map</td>\n",
       "      <td>anyon got experi creat sql-base asp.net site-m...</td>\n",
       "    </tr>\n",
       "    <tr>\n",
       "      <th>3</th>\n",
       "      <td>180</td>\n",
       "      <td>53</td>\n",
       "      <td>Function for creating color wheels</td>\n",
       "      <td>This is something I've pseudo-solved many time...</td>\n",
       "      <td>[algorithm]</td>\n",
       "      <td>function creat color wheel</td>\n",
       "      <td>someth i'v pseudo-solv mani time never quit fo...</td>\n",
       "    </tr>\n",
       "    <tr>\n",
       "      <th>4</th>\n",
       "      <td>260</td>\n",
       "      <td>49</td>\n",
       "      <td>Adding scripting functionality to .NET applica...</td>\n",
       "      <td>I have a little game written in C#. It uses a ...</td>\n",
       "      <td>[c#, .net]</td>\n",
       "      <td>ad script function net applic</td>\n",
       "      <td>littl game written c#. use databas back-end. ,...</td>\n",
       "    </tr>\n",
       "    <tr>\n",
       "      <th>5</th>\n",
       "      <td>330</td>\n",
       "      <td>29</td>\n",
       "      <td>Should I use nested classes in this case?</td>\n",
       "      <td>I am working on a collection of classes used f...</td>\n",
       "      <td>[c++, oop, class]</td>\n",
       "      <td>use nest class case</td>\n",
       "      <td>work collect class use video playback recordin...</td>\n",
       "    </tr>\n",
       "  </tbody>\n",
       "</table>\n",
       "</div>"
      ],
      "text/plain": [
       "    Id  Score                                              Title  \\\n",
       "1   90    144  Good branching and merging tutorials for Torto...   \n",
       "2  120     21                                  ASP.NET Site Maps   \n",
       "3  180     53                 Function for creating color wheels   \n",
       "4  260     49  Adding scripting functionality to .NET applica...   \n",
       "5  330     29          Should I use nested classes in this case?   \n",
       "\n",
       "                                                Body               Tags  \\\n",
       "1  Are there any really good tutorials explaining...              [svn]   \n",
       "2  Has anyone got experience creating SQL-based A...     [sql, asp.net]   \n",
       "3  This is something I've pseudo-solved many time...        [algorithm]   \n",
       "4  I have a little game written in C#. It uses a ...         [c#, .net]   \n",
       "5  I am working on a collection of classes used f...  [c++, oop, class]   \n",
       "\n",
       "                           title_clean  \\\n",
       "1  good branch merg tutori tortoisesvn   \n",
       "2                      aspnet site map   \n",
       "3           function creat color wheel   \n",
       "4        ad script function net applic   \n",
       "5                  use nest class case   \n",
       "\n",
       "                                          body_clean  \n",
       "1  realli good tutori explain apach subversion? b...  \n",
       "2  anyon got experi creat sql-base asp.net site-m...  \n",
       "3  someth i'v pseudo-solv mani time never quit fo...  \n",
       "4  littl game written c#. use databas back-end. ,...  \n",
       "5  work collect class use video playback recordin...  "
      ]
     },
     "execution_count": 40,
     "metadata": {},
     "output_type": "execute_result"
    }
   ],
   "source": [
    "df_stackoverflow.head()"
   ]
  },
  {
   "cell_type": "code",
   "execution_count": 41,
   "metadata": {},
   "outputs": [],
   "source": [
    "tokenizer = Tokenizer()\n",
    "tokenizer.fit_on_texts(df_stackoverflow['body_clean'])"
   ]
  },
  {
   "cell_type": "code",
   "execution_count": 42,
   "metadata": {},
   "outputs": [
    {
     "data": {
      "text/plain": [
       "69412"
      ]
     },
     "execution_count": 42,
     "metadata": {},
     "output_type": "execute_result"
    }
   ],
   "source": [
    "# check unique words count\n",
    "len(tokenizer.word_index)"
   ]
  },
  {
   "cell_type": "code",
   "execution_count": 43,
   "metadata": {},
   "outputs": [
    {
     "data": {
      "text/plain": [
       "69413"
      ]
     },
     "execution_count": 43,
     "metadata": {},
     "output_type": "execute_result"
    }
   ],
   "source": [
    "# check unique words count\n",
    "vocab_size = len(tokenizer.word_index) + 1\n",
    "vocab_size"
   ]
  },
  {
   "cell_type": "code",
   "execution_count": 44,
   "metadata": {},
   "outputs": [],
   "source": [
    "sequences = tokenizer.texts_to_sequences(df_stackoverflow['body_clean'])"
   ]
  },
  {
   "cell_type": "code",
   "execution_count": null,
   "metadata": {
    "scrolled": false
   },
   "outputs": [],
   "source": [
    "for i in range(20):\n",
    "    print(df_stackoverflow['body_clean'][i], '\\n'), print(sequences[i])"
   ]
  },
  {
   "cell_type": "code",
   "execution_count": 46,
   "metadata": {},
   "outputs": [],
   "source": [
    "seq_lengths = []\n",
    "\n",
    "for i in sequences:\n",
    "    seq_lengths.append(len(i))"
   ]
  },
  {
   "cell_type": "code",
   "execution_count": 47,
   "metadata": {},
   "outputs": [
    {
     "name": "stdout",
     "output_type": "stream",
     "text": [
      "30th percentile:  26.0\n",
      "40th percentile:  32.0\n",
      "50th percentile:  39.0\n",
      "60th percentile:  47.0\n",
      "70th percentile:  58.0\n",
      "80th percentile:  74.0\n",
      "90th percentile:  103.0\n",
      "95th percentile:  136.0\n",
      "99th percentile:  237.3399999999965\n"
     ]
    }
   ],
   "source": [
    "print(\"30th percentile: \", pd.Series(seq_lengths).quantile(0.3))\n",
    "print(\"40th percentile: \", pd.Series(seq_lengths).quantile(0.4))\n",
    "print(\"50th percentile: \", pd.Series(seq_lengths).quantile(0.5))\n",
    "print(\"60th percentile: \", pd.Series(seq_lengths).quantile(0.6))\n",
    "print(\"70th percentile: \", pd.Series(seq_lengths).quantile(0.7))\n",
    "print(\"80th percentile: \", pd.Series(seq_lengths).quantile(0.8))\n",
    "print(\"90th percentile: \", pd.Series(seq_lengths).quantile(0.9))\n",
    "print(\"95th percentile: \", pd.Series(seq_lengths).quantile(0.95))\n",
    "print(\"99th percentile: \", pd.Series(seq_lengths).quantile(0.99))"
   ]
  },
  {
   "cell_type": "code",
   "execution_count": 48,
   "metadata": {},
   "outputs": [],
   "source": [
    "from sklearn.model_selection import GridSearchCV\n",
    "from keras_preprocessing.sequence import pad_sequences\n",
    "\n",
    "from keras.wrappers.scikit_learn import KerasClassifier\n",
    "max_length = 125\n",
    "\n",
    "# padding\n",
    "padded_seq = pad_sequences(sequences, maxlen=max_length)"
   ]
  },
  {
   "cell_type": "code",
   "execution_count": null,
   "metadata": {},
   "outputs": [],
   "source": []
  },
  {
   "cell_type": "markdown",
   "metadata": {},
   "source": [
    "#### MultiLabel Binarization"
   ]
  },
  {
   "cell_type": "code",
   "execution_count": 49,
   "metadata": {},
   "outputs": [],
   "source": [
    "#separating and storing tags into a variable\n",
    "tags = df_stackoverflow['Tags']"
   ]
  },
  {
   "cell_type": "code",
   "execution_count": 50,
   "metadata": {},
   "outputs": [
    {
     "data": {
      "text/plain": [
       "1                      [svn]\n",
       "2             [sql, asp.net]\n",
       "3                [algorithm]\n",
       "4                 [c#, .net]\n",
       "5          [c++, oop, class]\n",
       "                 ...        \n",
       "1262834          [c++, list]\n",
       "1262915             [python]\n",
       "1263065             [python]\n",
       "1263454                [c++]\n",
       "1264205            [haskell]\n",
       "Name: Tags, Length: 63167, dtype: object"
      ]
     },
     "execution_count": 50,
     "metadata": {},
     "output_type": "execute_result"
    }
   ],
   "source": [
    "tags"
   ]
  },
  {
   "cell_type": "code",
   "execution_count": 51,
   "metadata": {},
   "outputs": [],
   "source": [
    "from sklearn.preprocessing import MultiLabelBinarizer\n",
    "\n",
    "multilabel_binarizer = MultiLabelBinarizer()\n",
    "multilabel_binarizer.fit(df_stackoverflow['Tags'])\n",
    "y = multilabel_binarizer.transform(df_stackoverflow['Tags'])"
   ]
  },
  {
   "cell_type": "code",
   "execution_count": 52,
   "metadata": {},
   "outputs": [
    {
     "data": {
      "text/plain": [
       "array([[0, 0, 0, ..., 0, 0, 0],\n",
       "       [0, 0, 0, ..., 0, 0, 0],\n",
       "       [0, 0, 1, ..., 0, 0, 0],\n",
       "       ...,\n",
       "       [0, 0, 0, ..., 0, 0, 0],\n",
       "       [0, 0, 0, ..., 0, 0, 0],\n",
       "       [0, 0, 0, ..., 0, 0, 0]])"
      ]
     },
     "execution_count": 52,
     "metadata": {},
     "output_type": "execute_result"
    }
   ],
   "source": [
    "#tags after binarization are stored as an array\n",
    "y"
   ]
  },
  {
   "cell_type": "code",
   "execution_count": 53,
   "metadata": {
    "scrolled": false
   },
   "outputs": [
    {
     "data": {
      "text/plain": [
       "array(['.net', 'ajax', 'algorithm', 'android', 'angularjs', 'api',\n",
       "       'arrays', 'asp.net', 'asp.net-mvc', 'asp.net-mvc-3', 'bash', 'c',\n",
       "       'c#', 'c++', 'c++11', 'class', 'cocoa', 'cocoa-touch', 'css',\n",
       "       'css3', 'database', 'datetime', 'debugging', 'delphi',\n",
       "       'design-patterns', 'django', 'eclipse', 'emacs',\n",
       "       'entity-framework', 'exception', 'facebook', 'function', 'gcc',\n",
       "       'generics', 'git', 'github', 'google-chrome', 'haskell',\n",
       "       'hibernate', 'html', 'html5', 'http', 'image', 'ios', 'ipad',\n",
       "       'iphone', 'java', 'javascript', 'jquery', 'json', 'linq', 'linux',\n",
       "       'list', 'math', 'maven', 'mongodb', 'multithreading', 'mysql',\n",
       "       'node.js', 'numpy', 'objective-c', 'oop', 'optimization', 'oracle',\n",
       "       'osx', 'performance', 'perl', 'php', 'postgresql', 'python', 'qt',\n",
       "       'r', 'regex', 'rest', 'ruby', 'ruby-on-rails', 'ruby-on-rails-3',\n",
       "       'scala', 'security', 'shell', 'spring', 'sql', 'sql-server',\n",
       "       'string', 'svn', 'swift', 'swing', 'templates', 'tsql',\n",
       "       'twitter-bootstrap', 'unit-testing', 'vim', 'visual-studio',\n",
       "       'visual-studio-2010', 'wcf', 'windows', 'winforms', 'wpf', 'xcode',\n",
       "       'xml'], dtype=object)"
      ]
     },
     "execution_count": 53,
     "metadata": {},
     "output_type": "execute_result"
    }
   ],
   "source": [
    "multilabel_binarizer.classes_"
   ]
  },
  {
   "cell_type": "code",
   "execution_count": 85,
   "metadata": {},
   "outputs": [
    {
     "data": {
      "text/plain": [
       "(63167, 100)"
      ]
     },
     "execution_count": 85,
     "metadata": {},
     "output_type": "execute_result"
    }
   ],
   "source": [
    "#binarized tags as a dataframe\n",
    "y = pd.DataFrame(y, columns=multilabel_binarizer.classes_)\n",
    "y.shape"
   ]
  },
  {
   "cell_type": "code",
   "execution_count": 86,
   "metadata": {},
   "outputs": [
    {
     "data": {
      "text/plain": [
       "((63167, 125), (63167, 100))"
      ]
     },
     "execution_count": 86,
     "metadata": {},
     "output_type": "execute_result"
    }
   ],
   "source": [
    "padded_seq.shape, y.shape"
   ]
  },
  {
   "cell_type": "code",
   "execution_count": 87,
   "metadata": {},
   "outputs": [],
   "source": [
    "#TFIDF\n",
    "#from sklearn.feature_extraction.text import TfidfVectorizer\n"
   ]
  },
  {
   "cell_type": "code",
   "execution_count": 88,
   "metadata": {},
   "outputs": [],
   "source": [
    "#tf idf\n",
    "#tf_idf = TfidfVectorizer()\n",
    "#applying tf idf to body text\n",
    "#body_tf = tf_idf.fit_transform(df_stackoverflow['body_clean'])"
   ]
  },
  {
   "cell_type": "code",
   "execution_count": 58,
   "metadata": {},
   "outputs": [],
   "source": [
    "#print(body_tf)"
   ]
  },
  {
   "cell_type": "code",
   "execution_count": 59,
   "metadata": {},
   "outputs": [],
   "source": [
    "#applying tf idf to title text\n",
    "#title_tf = tf_idf.fit_transform(df_stackoverflow['title_clean'])"
   ]
  },
  {
   "cell_type": "code",
   "execution_count": 60,
   "metadata": {},
   "outputs": [],
   "source": [
    "#print(title_tf)"
   ]
  },
  {
   "cell_type": "code",
   "execution_count": 61,
   "metadata": {},
   "outputs": [],
   "source": [
    "#df_stackoverflow.head()"
   ]
  },
  {
   "cell_type": "markdown",
   "metadata": {},
   "source": [
    "##### Tf-IDF Vectorization"
   ]
  },
  {
   "cell_type": "code",
   "execution_count": 62,
   "metadata": {},
   "outputs": [],
   "source": [
    "#TfIDF"
   ]
  },
  {
   "cell_type": "code",
   "execution_count": 89,
   "metadata": {},
   "outputs": [],
   "source": [
    "from sklearn.feature_extraction.text import TfidfVectorizer\n",
    "tfidf_vectorizer = TfidfVectorizer(max_df=0.8, max_features=5000)\n",
    "\n",
    "vectorizer = TfidfVectorizer()"
   ]
  },
  {
   "cell_type": "code",
   "execution_count": 90,
   "metadata": {},
   "outputs": [],
   "source": [
    "tfidf = TfidfVectorizer(analyzer='word', max_features=10000, ngram_range=(1,3), stop_words='english')\n",
    "X = tfidf.fit_transform(df_stackoverflow['body_clean'])"
   ]
  },
  {
   "cell_type": "code",
   "execution_count": 91,
   "metadata": {},
   "outputs": [
    {
     "name": "stdout",
     "output_type": "stream",
     "text": [
      "  (0, 3498)\t0.38235957664001674\n",
      "  (0, 6698)\t0.37912224898036917\n",
      "  (0, 1281)\t0.2181781422361352\n",
      "  (0, 8465)\t0.4004734843229102\n",
      "  (0, 7757)\t0.19695433710765312\n",
      "  (0, 788)\t0.19011577145165773\n",
      "  (0, 8028)\t0.39471563454309383\n",
      "  (0, 388)\t0.2947858881593386\n",
      "  (0, 2845)\t0.21761736485741462\n",
      "  (0, 8652)\t0.2639591108971749\n",
      "  (0, 3486)\t0.18863205112588743\n",
      "  (0, 6691)\t0.17843433298694983\n",
      "  (1, 5865)\t0.22752941681836625\n",
      "  (1, 9617)\t0.224258088618587\n",
      "  (1, 5441)\t0.18650931731620124\n",
      "  (1, 4772)\t0.21409672167629673\n",
      "  (1, 9829)\t0.20226635243037958\n",
      "  (1, 3085)\t0.18744455301359064\n",
      "  (1, 9957)\t0.16480854353307808\n",
      "  (1, 588)\t0.13583026430324222\n",
      "  (1, 357)\t0.2172379817727759\n",
      "  (1, 5088)\t0.21409672167629673\n",
      "  (1, 7832)\t0.12365461399260559\n",
      "  (1, 5995)\t0.16314017328753988\n",
      "  (1, 9351)\t0.10760222608494309\n",
      "  :\t:\n",
      "  (63166, 7622)\t0.09999219855650156\n",
      "  (63166, 2151)\t0.18546953926341334\n",
      "  (63166, 8666)\t0.3542172419803746\n",
      "  (63166, 7531)\t0.07663745938129565\n",
      "  (63166, 4487)\t0.10061470110625537\n",
      "  (63166, 6284)\t0.09989303444484839\n",
      "  (63166, 1780)\t0.08397250968829993\n",
      "  (63166, 3825)\t0.15747622662412328\n",
      "  (63166, 3818)\t0.07683670629001037\n",
      "  (63166, 7458)\t0.18489513599688487\n",
      "  (63166, 1774)\t0.22754418016885877\n",
      "  (63166, 6554)\t0.06229830680921988\n",
      "  (63166, 2746)\t0.09689530828789995\n",
      "  (63166, 8510)\t0.04683343630103488\n",
      "  (63166, 2238)\t0.06623303451040097\n",
      "  (63166, 8311)\t0.07272221075842421\n",
      "  (63166, 4434)\t0.10321878846373388\n",
      "  (63166, 4546)\t0.042682845908631424\n",
      "  (63166, 8299)\t0.07438349955264473\n",
      "  (63166, 4946)\t0.17950254028667612\n",
      "  (63166, 3894)\t0.0736592406854802\n",
      "  (63166, 6166)\t0.1374088130283719\n",
      "  (63166, 3412)\t0.07476035336560016\n",
      "  (63166, 6286)\t0.11699151433812487\n",
      "  (63166, 7684)\t0.06232913092633929\n"
     ]
    }
   ],
   "source": [
    "print(X)"
   ]
  },
  {
   "cell_type": "code",
   "execution_count": 92,
   "metadata": {},
   "outputs": [],
   "source": [
    "#TFIDF"
   ]
  },
  {
   "cell_type": "code",
   "execution_count": null,
   "metadata": {},
   "outputs": [],
   "source": []
  },
  {
   "cell_type": "code",
   "execution_count": null,
   "metadata": {},
   "outputs": [],
   "source": []
  },
  {
   "cell_type": "code",
   "execution_count": null,
   "metadata": {},
   "outputs": [],
   "source": []
  },
  {
   "cell_type": "markdown",
   "metadata": {},
   "source": [
    "#### Train and Test Split for Model Building"
   ]
  },
  {
   "cell_type": "code",
   "execution_count": 199,
   "metadata": {},
   "outputs": [],
   "source": [
    "from sklearn.model_selection import train_test_split\n",
    "\n",
    "x_train, x_val, y_train, y_val = train_test_split(padded_seq, y, \n",
    "                                                    test_size=0.3, \n",
    "                                                    random_state=101)"
   ]
  },
  {
   "cell_type": "code",
   "execution_count": 200,
   "metadata": {},
   "outputs": [],
   "source": [
    "import keras"
   ]
  },
  {
   "cell_type": "code",
   "execution_count": 201,
   "metadata": {},
   "outputs": [],
   "source": [
    "from keras.models import Sequential, load_model\n",
    "from keras.layers import Dense, Embedding, GlobalMaxPool1D, Dropout, Conv1D, Flatten,GlobalAveragePooling1D\n",
    "from keras.callbacks import EarlyStopping, ModelCheckpoint"
   ]
  },
  {
   "cell_type": "code",
   "execution_count": 202,
   "metadata": {},
   "outputs": [],
   "source": [
    "from sklearn.model_selection import GridSearchCV\n",
    "from keras.wrappers.scikit_learn import KerasClassifier"
   ]
  },
  {
   "cell_type": "code",
   "execution_count": 203,
   "metadata": {},
   "outputs": [],
   "source": [
    "from sklearn import datasets\n",
    "from sklearn.metrics import accuracy_score, f1_score"
   ]
  },
  {
   "cell_type": "code",
   "execution_count": 204,
   "metadata": {},
   "outputs": [],
   "source": [
    "model = Sequential()\n",
    "model.add(Embedding(vocab_size +1, 128, input_length = max_length))\n",
    "model.add(Dropout(0.15))\n",
    "model.add(Conv1D(300, 5, padding = 'valid', activation = \"relu\", strides = 1))\n",
    "model.add(GlobalMaxPool1D())\n",
    "model.add(Dense(100, activation = \"sigmoid\"))\n",
    "model.compile(loss = 'binary_crossentropy ', optimizer = 'adam', metrics = ['accuracy'])\n",
    "#model.add(Activation('sigmoid'))"
   ]
  },
  {
   "cell_type": "code",
   "execution_count": 205,
   "metadata": {},
   "outputs": [
    {
     "name": "stdout",
     "output_type": "stream",
     "text": [
      "Model: \"sequential_5\"\n",
      "_________________________________________________________________\n",
      " Layer (type)                Output Shape              Param #   \n",
      "=================================================================\n",
      " embedding_5 (Embedding)     (None, 125, 128)          8884992   \n",
      "                                                                 \n",
      " dropout_5 (Dropout)         (None, 125, 128)          0         \n",
      "                                                                 \n",
      " conv1d_5 (Conv1D)           (None, 121, 300)          192300    \n",
      "                                                                 \n",
      " global_max_pooling1d_3 (Glo  (None, 300)              0         \n",
      " balMaxPooling1D)                                                \n",
      "                                                                 \n",
      " dense_4 (Dense)             (None, 100)               30100     \n",
      "                                                                 \n",
      "=================================================================\n",
      "Total params: 9,107,392\n",
      "Trainable params: 9,107,392\n",
      "Non-trainable params: 0\n",
      "_________________________________________________________________\n"
     ]
    }
   ],
   "source": [
    "model.compile(optimizer='adam', \n",
    "              loss='binary_crossentropy', \n",
    "              metrics=['accuracy'])\n",
    "\n",
    "model.summary()"
   ]
  },
  {
   "cell_type": "code",
   "execution_count": 206,
   "metadata": {},
   "outputs": [],
   "source": [
    "callbacks = [\n",
    "             EarlyStopping(patience=3),\n",
    "             ModelCheckpoint(filepath='model-conv1d_v1.h5', save_best_only=True)\n",
    "            ]"
   ]
  },
  {
   "cell_type": "code",
   "execution_count": 207,
   "metadata": {},
   "outputs": [
    {
     "data": {
      "text/plain": [
       "((44216, 125), (44216, 100))"
      ]
     },
     "execution_count": 207,
     "metadata": {},
     "output_type": "execute_result"
    }
   ],
   "source": [
    "x_train.shape,y_train.shape"
   ]
  },
  {
   "cell_type": "code",
   "execution_count": 208,
   "metadata": {},
   "outputs": [
    {
     "name": "stdout",
     "output_type": "stream",
     "text": [
      "Epoch 1/100\n",
      "277/277 [==============================] - 106s 368ms/step - loss: 0.1040 - accuracy: 0.1100 - val_loss: 0.0660 - val_accuracy: 0.2298\n",
      "Epoch 2/100\n",
      "277/277 [==============================] - 91s 329ms/step - loss: 0.0574 - accuracy: 0.3172 - val_loss: 0.0514 - val_accuracy: 0.3719\n",
      "Epoch 3/100\n",
      "277/277 [==============================] - 99s 358ms/step - loss: 0.0454 - accuracy: 0.4353 - val_loss: 0.0437 - val_accuracy: 0.4452\n",
      "Epoch 4/100\n",
      "277/277 [==============================] - 98s 353ms/step - loss: 0.0383 - accuracy: 0.5053 - val_loss: 0.0406 - val_accuracy: 0.4740\n",
      "Epoch 5/100\n",
      "277/277 [==============================] - 82s 296ms/step - loss: 0.0337 - accuracy: 0.5465 - val_loss: 0.0394 - val_accuracy: 0.4833\n",
      "Epoch 6/100\n",
      "277/277 [==============================] - 82s 298ms/step - loss: 0.0298 - accuracy: 0.5806 - val_loss: 0.0389 - val_accuracy: 0.4880\n",
      "Epoch 7/100\n",
      "277/277 [==============================] - 78s 283ms/step - loss: 0.0263 - accuracy: 0.6139 - val_loss: 0.0392 - val_accuracy: 0.4862\n",
      "Epoch 8/100\n",
      "277/277 [==============================] - 78s 281ms/step - loss: 0.0231 - accuracy: 0.6398 - val_loss: 0.0398 - val_accuracy: 0.4855\n",
      "Epoch 9/100\n",
      "277/277 [==============================] - 79s 285ms/step - loss: 0.0200 - accuracy: 0.6686 - val_loss: 0.0408 - val_accuracy: 0.4802\n"
     ]
    }
   ],
   "source": [
    "# train model\n",
    "history = model.fit(x_train, y_train,\n",
    "                    epochs=100,\n",
    "                    batch_size=128,\n",
    "                    validation_split=0.2,\n",
    "                    callbacks=callbacks)"
   ]
  },
  {
   "cell_type": "code",
   "execution_count": 209,
   "metadata": {},
   "outputs": [
    {
     "name": "stdout",
     "output_type": "stream",
     "text": [
      "593/593 [==============================] - 15s 25ms/step\n"
     ]
    },
    {
     "data": {
      "text/plain": [
       "array([[6.36235699e-02, 9.84066210e-05, 1.84868637e-04, ...,\n",
       "        2.75477214e-05, 6.50058675e-04, 2.50081043e-03],\n",
       "       [2.91070789e-01, 9.12093237e-05, 7.37332357e-06, ...,\n",
       "        1.02035627e-02, 2.74409689e-02, 3.48909089e-05],\n",
       "       [1.44421996e-04, 3.28104496e-01, 6.00373896e-04, ...,\n",
       "        2.93276444e-05, 3.69136683e-06, 3.25575680e-03],\n",
       "       ...,\n",
       "       [1.54418359e-03, 3.71306160e-05, 2.57999054e-05, ...,\n",
       "        1.01699356e-04, 7.29465783e-01, 1.53918591e-05],\n",
       "       [5.95430902e-04, 3.27085072e-05, 9.22711659e-03, ...,\n",
       "        8.87731003e-05, 4.66072379e-04, 6.08436239e-04],\n",
       "       [3.62475344e-04, 1.07452851e-02, 1.36406961e-05, ...,\n",
       "        6.10871211e-07, 9.05809156e-06, 3.96120129e-04]], dtype=float32)"
      ]
     },
     "execution_count": 209,
     "metadata": {},
     "output_type": "execute_result"
    }
   ],
   "source": [
    "preds = model.predict(x_val)\n",
    "preds.shape\n",
    "preds"
   ]
  },
  {
   "cell_type": "code",
   "execution_count": 210,
   "metadata": {},
   "outputs": [
    {
     "data": {
      "text/plain": [
       "array([[0, 0, 0, ..., 0, 0, 0],\n",
       "       [0, 0, 0, ..., 0, 0, 0],\n",
       "       [0, 0, 0, ..., 0, 0, 0],\n",
       "       ...,\n",
       "       [0, 0, 0, ..., 0, 1, 0],\n",
       "       [0, 0, 0, ..., 0, 0, 0],\n",
       "       [0, 0, 0, ..., 0, 0, 0]])"
      ]
     },
     "execution_count": 210,
     "metadata": {},
     "output_type": "execute_result"
    }
   ],
   "source": [
    "# set threshold to 0.45\n",
    "preds_int = (preds >= 0.5).astype(int)\n",
    "preds_int"
   ]
  },
  {
   "cell_type": "code",
   "execution_count": 211,
   "metadata": {},
   "outputs": [
    {
     "data": {
      "text/plain": [
       "0.5584099881371425"
      ]
     },
     "execution_count": 211,
     "metadata": {},
     "output_type": "execute_result"
    }
   ],
   "source": [
    "from sklearn.metrics import f1_score\n",
    "\n",
    "# calculate F1 score\n",
    "f1_score(y_val, preds_int, average=\"micro\")"
   ]
  },
  {
   "cell_type": "code",
   "execution_count": 212,
   "metadata": {},
   "outputs": [
    {
     "name": "stdout",
     "output_type": "stream",
     "text": [
      "RSS per sample = .net         1.196152\n",
      "ajax         0.857859\n",
      "algorithm    0.773990\n",
      "android      0.360529\n",
      "angularjs    0.375106\n",
      "               ...   \n",
      "windows      0.984489\n",
      "winforms     0.979577\n",
      "wpf          0.510513\n",
      "xcode        0.822046\n",
      "xml          0.885110\n",
      "Length: 100, dtype: float64\n",
      "R^2 =            .net        -0.196152\n",
      "ajax         0.142141\n",
      "algorithm    0.226010\n",
      "android      0.639471\n",
      "angularjs    0.624894\n",
      "               ...   \n",
      "windows      0.015511\n",
      "winforms     0.020423\n",
      "wpf          0.489487\n",
      "xcode        0.177954\n",
      "xml          0.114890\n",
      "Length: 100, dtype: float64\n"
     ]
    }
   ],
   "source": [
    "#print(clf.intercept_)\n",
    "#print(clf.coef_)\n",
    "\n",
    "RSS = np.mean((preds_int-y_val)**2)/(np.std(y_val)**2)\n",
    "Rsq = 1-RSS\n",
    "\n",
    "print(\"RSS per sample = {}\".format(RSS))\n",
    "print(\"R^2 =            {}\".format(Rsq))"
   ]
  },
  {
   "cell_type": "code",
   "execution_count": 213,
   "metadata": {},
   "outputs": [],
   "source": [
    "def infer_tags(q):\n",
    "    q = clean_string_body(q)\n",
    "    q = q.lower()\n",
    "    q_seq = tokenizer.texts_to_sequences([q])\n",
    "    q_pred = model.predict(q_seq)\n",
    "    q_pred = (q_pred >= 0.3).astype(int)\n",
    "    \n",
    "    return multilabel_binarizer.inverse_transform(q_pred)"
   ]
  },
  {
   "cell_type": "code",
   "execution_count": 214,
   "metadata": {},
   "outputs": [
    {
     "name": "stdout",
     "output_type": "stream",
     "text": [
      "1/1 [==============================] - 0s 258ms/step\n"
     ]
    },
    {
     "data": {
      "text/plain": [
       "[('javascript', 'php')]"
      ]
     },
     "execution_count": 214,
     "metadata": {},
     "output_type": "execute_result"
    }
   ],
   "source": [
    "# give new question\n",
    "new_q = \"Tf-Idf stands for term frequency inverse document frequency. Term Frequency summarizes how often a given word appears within a document and Inverse Document Frequency downscales words that appear a lot across documents. Tfidf scores are the product of these two terms.\" \n",
    "infer_tags(new_q)"
   ]
  },
  {
   "cell_type": "code",
   "execution_count": 215,
   "metadata": {},
   "outputs": [
    {
     "name": "stdout",
     "output_type": "stream",
     "text": [
      "enter no. of texts you wanted to predict?\n",
      "1\n",
      "Enter your Text:1\n",
      "are there any available implementations of density or conditional density tree learning greetings i am working on joint and conditional density trees for approximating clique potentials in bayesian\n"
     ]
    },
    {
     "data": {
      "text/html": [
       "<div>\n",
       "<style scoped>\n",
       "    .dataframe tbody tr th:only-of-type {\n",
       "        vertical-align: middle;\n",
       "    }\n",
       "\n",
       "    .dataframe tbody tr th {\n",
       "        vertical-align: top;\n",
       "    }\n",
       "\n",
       "    .dataframe thead th {\n",
       "        text-align: right;\n",
       "    }\n",
       "</style>\n",
       "<table border=\"1\" class=\"dataframe\">\n",
       "  <thead>\n",
       "    <tr style=\"text-align: right;\">\n",
       "      <th></th>\n",
       "      <th>Text Title</th>\n",
       "    </tr>\n",
       "  </thead>\n",
       "  <tbody>\n",
       "    <tr>\n",
       "      <th>0</th>\n",
       "      <td>are there any available implementations of den...</td>\n",
       "    </tr>\n",
       "  </tbody>\n",
       "</table>\n",
       "</div>"
      ],
      "text/plain": [
       "                                          Text Title\n",
       "0  are there any available implementations of den..."
      ]
     },
     "execution_count": 215,
     "metadata": {},
     "output_type": "execute_result"
    }
   ],
   "source": [
    "array=[]\n",
    "print(\"enter no. of texts you wanted to predict?\")\n",
    "n=int(input())\n",
    "for i in range(n):\n",
    "  print(\"Enter your Text:\"+str(i+1))\n",
    "  array.append(str(input()))\n",
    "\n",
    "#array=[\"Using neural-networks, deep learning and machine learning makes my life easier\",\"python is easier than javascript while doing machine learning\"]\n",
    "dataframe=pd.DataFrame(array, columns=[\"Text Title\"])\n",
    "dataframe"
   ]
  },
  {
   "cell_type": "code",
   "execution_count": 216,
   "metadata": {},
   "outputs": [
    {
     "name": "stdout",
     "output_type": "stream",
     "text": [
      "1/1 [==============================] - 0s 38ms/step\n",
      "Tags:  are there any available implementations of density or conditional density tree learning greetings i am working on joint and conditional density trees for approximating clique potentials in bayesian \n",
      "Predicted tags:  [('.net', 'performance', 'r')]\n"
     ]
    }
   ],
   "source": [
    "for i in range(n):\n",
    "    print(\"Tags: \", dataframe['Text Title'][i], \"\\nPredicted tags: \", infer_tags(dataframe['Text Title'][i]))"
   ]
  },
  {
   "cell_type": "code",
   "execution_count": null,
   "metadata": {},
   "outputs": [],
   "source": []
  },
  {
   "cell_type": "code",
   "execution_count": null,
   "metadata": {},
   "outputs": [],
   "source": []
  },
  {
   "cell_type": "code",
   "execution_count": null,
   "metadata": {},
   "outputs": [],
   "source": []
  },
  {
   "cell_type": "code",
   "execution_count": null,
   "metadata": {},
   "outputs": [],
   "source": []
  },
  {
   "cell_type": "code",
   "execution_count": null,
   "metadata": {},
   "outputs": [],
   "source": []
  }
 ],
 "metadata": {
  "colab": {
   "collapsed_sections": [],
   "provenance": []
  },
  "kernelspec": {
   "display_name": "Python 3 (ipykernel)",
   "language": "python",
   "name": "python3"
  },
  "language_info": {
   "codemirror_mode": {
    "name": "ipython",
    "version": 3
   },
   "file_extension": ".py",
   "mimetype": "text/x-python",
   "name": "python",
   "nbconvert_exporter": "python",
   "pygments_lexer": "ipython3",
   "version": "3.9.12"
  }
 },
 "nbformat": 4,
 "nbformat_minor": 1
}
