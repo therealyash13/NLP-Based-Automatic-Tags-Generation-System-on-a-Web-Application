{
  "nbformat": 4,
  "nbformat_minor": 0,
  "metadata": {
    "colab": {
      "provenance": []
    },
    "kernelspec": {
      "name": "python3",
      "display_name": "Python 3"
    },
    "language_info": {
      "name": "python"
    }
  },
  "cells": [
    {
      "cell_type": "code",
      "execution_count": 1,
      "metadata": {
        "id": "A2OUBjqkB7Oz"
      },
      "outputs": [],
      "source": [
        "import pandas as pd\n",
        "import numpy as np\n",
        "from sklearn.feature_extraction.text import TfidfVectorizer\n",
        "from sklearn.preprocessing import MultiLabelBinarizer\n",
        "from sklearn.model_selection import train_test_split\n",
        "\n",
        "from sklearn.linear_model import SGDClassifier\n",
        "from sklearn.linear_model import LogisticRegression\n",
        "from sklearn.svm import LinearSVC\n",
        "\n",
        "from sklearn.multiclass import OneVsRestClassifier"
      ]
    },
    {
      "cell_type": "code",
      "source": [
        "from google.colab import drive \n",
        "drive.mount('colab', force_remount=True)"
      ],
      "metadata": {
        "colab": {
          "base_uri": "https://localhost:8080/"
        },
        "id": "YMz-9A07_E6L",
        "outputId": "ef9e8c44-b223-41ef-9f1e-014c8d6d39f9"
      },
      "execution_count": 2,
      "outputs": [
        {
          "output_type": "stream",
          "name": "stdout",
          "text": [
            "Mounted at colab\n"
          ]
        }
      ]
    },
    {
      "cell_type": "code",
      "source": [
        "%cd \"colab/MyDrive/NE-INT6940\"\n",
        "!pwd"
      ],
      "metadata": {
        "colab": {
          "base_uri": "https://localhost:8080/"
        },
        "id": "_ovCuD5o_QNf",
        "outputId": "087c91a1-3782-4cc8-c9e0-88836d48c432"
      },
      "execution_count": 3,
      "outputs": [
        {
          "output_type": "stream",
          "name": "stdout",
          "text": [
            "/content/colab/MyDrive/NE-INT6940\n",
            "/content/colab/MyDrive/NE-INT6940\n"
          ]
        }
      ]
    },
    {
      "cell_type": "code",
      "source": [
        "df_stackoverflow = pd.read_csv('./repurpost/datasets/stackoverflow.csv', encoding=\"ISO-8859-1\", engine = 'python', index_col=0)\n",
        "df_stackoverflow.head()"
      ],
      "metadata": {
        "id": "RCF_8HnDJr7m",
        "colab": {
          "base_uri": "https://localhost:8080/",
          "height": 206
        },
        "outputId": "2c93ea47-9350-46f0-f00d-b6ba906dddeb"
      },
      "execution_count": 4,
      "outputs": [
        {
          "output_type": "execute_result",
          "data": {
            "text/plain": [
              "                                                Text                Tags\n",
              "2  aspnet site maps has anyone got experience cre...  ['sql', 'asp.net']\n",
              "4  adding scripting functionality to net applicat...      ['c#', '.net']\n",
              "5  should i use nested classes in this case i am ...             ['c++']\n",
              "6  homegrown consumption of web services i have b...            ['.net']\n",
              "8  automatically update version number i would li...              ['c#']"
            ],
            "text/html": [
              "\n",
              "  <div id=\"df-dc8fe809-486d-4c4a-b45b-115f0451ab9b\">\n",
              "    <div class=\"colab-df-container\">\n",
              "      <div>\n",
              "<style scoped>\n",
              "    .dataframe tbody tr th:only-of-type {\n",
              "        vertical-align: middle;\n",
              "    }\n",
              "\n",
              "    .dataframe tbody tr th {\n",
              "        vertical-align: top;\n",
              "    }\n",
              "\n",
              "    .dataframe thead th {\n",
              "        text-align: right;\n",
              "    }\n",
              "</style>\n",
              "<table border=\"1\" class=\"dataframe\">\n",
              "  <thead>\n",
              "    <tr style=\"text-align: right;\">\n",
              "      <th></th>\n",
              "      <th>Text</th>\n",
              "      <th>Tags</th>\n",
              "    </tr>\n",
              "  </thead>\n",
              "  <tbody>\n",
              "    <tr>\n",
              "      <th>2</th>\n",
              "      <td>aspnet site maps has anyone got experience cre...</td>\n",
              "      <td>['sql', 'asp.net']</td>\n",
              "    </tr>\n",
              "    <tr>\n",
              "      <th>4</th>\n",
              "      <td>adding scripting functionality to net applicat...</td>\n",
              "      <td>['c#', '.net']</td>\n",
              "    </tr>\n",
              "    <tr>\n",
              "      <th>5</th>\n",
              "      <td>should i use nested classes in this case i am ...</td>\n",
              "      <td>['c++']</td>\n",
              "    </tr>\n",
              "    <tr>\n",
              "      <th>6</th>\n",
              "      <td>homegrown consumption of web services i have b...</td>\n",
              "      <td>['.net']</td>\n",
              "    </tr>\n",
              "    <tr>\n",
              "      <th>8</th>\n",
              "      <td>automatically update version number i would li...</td>\n",
              "      <td>['c#']</td>\n",
              "    </tr>\n",
              "  </tbody>\n",
              "</table>\n",
              "</div>\n",
              "      <button class=\"colab-df-convert\" onclick=\"convertToInteractive('df-dc8fe809-486d-4c4a-b45b-115f0451ab9b')\"\n",
              "              title=\"Convert this dataframe to an interactive table.\"\n",
              "              style=\"display:none;\">\n",
              "        \n",
              "  <svg xmlns=\"http://www.w3.org/2000/svg\" height=\"24px\"viewBox=\"0 0 24 24\"\n",
              "       width=\"24px\">\n",
              "    <path d=\"M0 0h24v24H0V0z\" fill=\"none\"/>\n",
              "    <path d=\"M18.56 5.44l.94 2.06.94-2.06 2.06-.94-2.06-.94-.94-2.06-.94 2.06-2.06.94zm-11 1L8.5 8.5l.94-2.06 2.06-.94-2.06-.94L8.5 2.5l-.94 2.06-2.06.94zm10 10l.94 2.06.94-2.06 2.06-.94-2.06-.94-.94-2.06-.94 2.06-2.06.94z\"/><path d=\"M17.41 7.96l-1.37-1.37c-.4-.4-.92-.59-1.43-.59-.52 0-1.04.2-1.43.59L10.3 9.45l-7.72 7.72c-.78.78-.78 2.05 0 2.83L4 21.41c.39.39.9.59 1.41.59.51 0 1.02-.2 1.41-.59l7.78-7.78 2.81-2.81c.8-.78.8-2.07 0-2.86zM5.41 20L4 18.59l7.72-7.72 1.47 1.35L5.41 20z\"/>\n",
              "  </svg>\n",
              "      </button>\n",
              "      \n",
              "  <style>\n",
              "    .colab-df-container {\n",
              "      display:flex;\n",
              "      flex-wrap:wrap;\n",
              "      gap: 12px;\n",
              "    }\n",
              "\n",
              "    .colab-df-convert {\n",
              "      background-color: #E8F0FE;\n",
              "      border: none;\n",
              "      border-radius: 50%;\n",
              "      cursor: pointer;\n",
              "      display: none;\n",
              "      fill: #1967D2;\n",
              "      height: 32px;\n",
              "      padding: 0 0 0 0;\n",
              "      width: 32px;\n",
              "    }\n",
              "\n",
              "    .colab-df-convert:hover {\n",
              "      background-color: #E2EBFA;\n",
              "      box-shadow: 0px 1px 2px rgba(60, 64, 67, 0.3), 0px 1px 3px 1px rgba(60, 64, 67, 0.15);\n",
              "      fill: #174EA6;\n",
              "    }\n",
              "\n",
              "    [theme=dark] .colab-df-convert {\n",
              "      background-color: #3B4455;\n",
              "      fill: #D2E3FC;\n",
              "    }\n",
              "\n",
              "    [theme=dark] .colab-df-convert:hover {\n",
              "      background-color: #434B5C;\n",
              "      box-shadow: 0px 1px 3px 1px rgba(0, 0, 0, 0.15);\n",
              "      filter: drop-shadow(0px 1px 2px rgba(0, 0, 0, 0.3));\n",
              "      fill: #FFFFFF;\n",
              "    }\n",
              "  </style>\n",
              "\n",
              "      <script>\n",
              "        const buttonEl =\n",
              "          document.querySelector('#df-dc8fe809-486d-4c4a-b45b-115f0451ab9b button.colab-df-convert');\n",
              "        buttonEl.style.display =\n",
              "          google.colab.kernel.accessAllowed ? 'block' : 'none';\n",
              "\n",
              "        async function convertToInteractive(key) {\n",
              "          const element = document.querySelector('#df-dc8fe809-486d-4c4a-b45b-115f0451ab9b');\n",
              "          const dataTable =\n",
              "            await google.colab.kernel.invokeFunction('convertToInteractive',\n",
              "                                                     [key], {});\n",
              "          if (!dataTable) return;\n",
              "\n",
              "          const docLinkHtml = 'Like what you see? Visit the ' +\n",
              "            '<a target=\"_blank\" href=https://colab.research.google.com/notebooks/data_table.ipynb>data table notebook</a>'\n",
              "            + ' to learn more about interactive tables.';\n",
              "          element.innerHTML = '';\n",
              "          dataTable['output_type'] = 'display_data';\n",
              "          await google.colab.output.renderOutput(dataTable, element);\n",
              "          const docLink = document.createElement('div');\n",
              "          docLink.innerHTML = docLinkHtml;\n",
              "          element.appendChild(docLink);\n",
              "        }\n",
              "      </script>\n",
              "    </div>\n",
              "  </div>\n",
              "  "
            ]
          },
          "metadata": {},
          "execution_count": 4
        }
      ]
    },
    {
      "cell_type": "code",
      "source": [
        "print('Type of Tags value', type(df_stackoverflow['Tags'].iloc[0]))\n",
        "df_stackoverflow['Tags'].iloc[0]"
      ],
      "metadata": {
        "colab": {
          "base_uri": "https://localhost:8080/",
          "height": 53
        },
        "id": "xQ51QnP09X2h",
        "outputId": "0f7ec31c-b8ed-48af-c03c-5ba30f324c02"
      },
      "execution_count": 5,
      "outputs": [
        {
          "output_type": "stream",
          "name": "stdout",
          "text": [
            "Type of Tags value <class 'str'>\n"
          ]
        },
        {
          "output_type": "execute_result",
          "data": {
            "text/plain": [
              "\"['sql', 'asp.net']\""
            ],
            "application/vnd.google.colaboratory.intrinsic+json": {
              "type": "string"
            }
          },
          "metadata": {},
          "execution_count": 5
        }
      ]
    },
    {
      "cell_type": "markdown",
      "source": [
        "## Tags column transformation\n",
        "Even though the 'Tags' column show as a list of Tags, the column is treated as a string.  We need to process the tags column to create a list of string literals. \n",
        "\n",
        "### Abstract Syntax Trees\n",
        "The ast python module allows us to evaluate the string and extract string literals that are individual tags."
      ],
      "metadata": {
        "id": "0A6xmFb8-Xnl"
      }
    },
    {
      "cell_type": "code",
      "source": [
        "import ast\n",
        "ast.literal_eval(df_stackoverflow['Tags'].iloc[0])"
      ],
      "metadata": {
        "colab": {
          "base_uri": "https://localhost:8080/"
        },
        "id": "Gw6Olmf79krv",
        "outputId": "1fca8a1b-a9ef-4b66-b2ed-d5c7e9432f35"
      },
      "execution_count": 6,
      "outputs": [
        {
          "output_type": "execute_result",
          "data": {
            "text/plain": [
              "['sql', 'asp.net']"
            ]
          },
          "metadata": {},
          "execution_count": 6
        }
      ]
    },
    {
      "cell_type": "code",
      "source": [
        "df_stackoverflow['Tags'] = df_stackoverflow['Tags'].apply(lambda x: ast.literal_eval(x))\n",
        "df_stackoverflow.head()"
      ],
      "metadata": {
        "colab": {
          "base_uri": "https://localhost:8080/",
          "height": 206
        },
        "id": "154ERAge-Mz8",
        "outputId": "08dd8f1b-ca91-4681-e742-7c4e30d85db1"
      },
      "execution_count": 7,
      "outputs": [
        {
          "output_type": "execute_result",
          "data": {
            "text/plain": [
              "                                                Text            Tags\n",
              "2  aspnet site maps has anyone got experience cre...  [sql, asp.net]\n",
              "4  adding scripting functionality to net applicat...      [c#, .net]\n",
              "5  should i use nested classes in this case i am ...           [c++]\n",
              "6  homegrown consumption of web services i have b...          [.net]\n",
              "8  automatically update version number i would li...            [c#]"
            ],
            "text/html": [
              "\n",
              "  <div id=\"df-20b36cc4-52f4-4c2a-9b8a-0ce6b34fcba0\">\n",
              "    <div class=\"colab-df-container\">\n",
              "      <div>\n",
              "<style scoped>\n",
              "    .dataframe tbody tr th:only-of-type {\n",
              "        vertical-align: middle;\n",
              "    }\n",
              "\n",
              "    .dataframe tbody tr th {\n",
              "        vertical-align: top;\n",
              "    }\n",
              "\n",
              "    .dataframe thead th {\n",
              "        text-align: right;\n",
              "    }\n",
              "</style>\n",
              "<table border=\"1\" class=\"dataframe\">\n",
              "  <thead>\n",
              "    <tr style=\"text-align: right;\">\n",
              "      <th></th>\n",
              "      <th>Text</th>\n",
              "      <th>Tags</th>\n",
              "    </tr>\n",
              "  </thead>\n",
              "  <tbody>\n",
              "    <tr>\n",
              "      <th>2</th>\n",
              "      <td>aspnet site maps has anyone got experience cre...</td>\n",
              "      <td>[sql, asp.net]</td>\n",
              "    </tr>\n",
              "    <tr>\n",
              "      <th>4</th>\n",
              "      <td>adding scripting functionality to net applicat...</td>\n",
              "      <td>[c#, .net]</td>\n",
              "    </tr>\n",
              "    <tr>\n",
              "      <th>5</th>\n",
              "      <td>should i use nested classes in this case i am ...</td>\n",
              "      <td>[c++]</td>\n",
              "    </tr>\n",
              "    <tr>\n",
              "      <th>6</th>\n",
              "      <td>homegrown consumption of web services i have b...</td>\n",
              "      <td>[.net]</td>\n",
              "    </tr>\n",
              "    <tr>\n",
              "      <th>8</th>\n",
              "      <td>automatically update version number i would li...</td>\n",
              "      <td>[c#]</td>\n",
              "    </tr>\n",
              "  </tbody>\n",
              "</table>\n",
              "</div>\n",
              "      <button class=\"colab-df-convert\" onclick=\"convertToInteractive('df-20b36cc4-52f4-4c2a-9b8a-0ce6b34fcba0')\"\n",
              "              title=\"Convert this dataframe to an interactive table.\"\n",
              "              style=\"display:none;\">\n",
              "        \n",
              "  <svg xmlns=\"http://www.w3.org/2000/svg\" height=\"24px\"viewBox=\"0 0 24 24\"\n",
              "       width=\"24px\">\n",
              "    <path d=\"M0 0h24v24H0V0z\" fill=\"none\"/>\n",
              "    <path d=\"M18.56 5.44l.94 2.06.94-2.06 2.06-.94-2.06-.94-.94-2.06-.94 2.06-2.06.94zm-11 1L8.5 8.5l.94-2.06 2.06-.94-2.06-.94L8.5 2.5l-.94 2.06-2.06.94zm10 10l.94 2.06.94-2.06 2.06-.94-2.06-.94-.94-2.06-.94 2.06-2.06.94z\"/><path d=\"M17.41 7.96l-1.37-1.37c-.4-.4-.92-.59-1.43-.59-.52 0-1.04.2-1.43.59L10.3 9.45l-7.72 7.72c-.78.78-.78 2.05 0 2.83L4 21.41c.39.39.9.59 1.41.59.51 0 1.02-.2 1.41-.59l7.78-7.78 2.81-2.81c.8-.78.8-2.07 0-2.86zM5.41 20L4 18.59l7.72-7.72 1.47 1.35L5.41 20z\"/>\n",
              "  </svg>\n",
              "      </button>\n",
              "      \n",
              "  <style>\n",
              "    .colab-df-container {\n",
              "      display:flex;\n",
              "      flex-wrap:wrap;\n",
              "      gap: 12px;\n",
              "    }\n",
              "\n",
              "    .colab-df-convert {\n",
              "      background-color: #E8F0FE;\n",
              "      border: none;\n",
              "      border-radius: 50%;\n",
              "      cursor: pointer;\n",
              "      display: none;\n",
              "      fill: #1967D2;\n",
              "      height: 32px;\n",
              "      padding: 0 0 0 0;\n",
              "      width: 32px;\n",
              "    }\n",
              "\n",
              "    .colab-df-convert:hover {\n",
              "      background-color: #E2EBFA;\n",
              "      box-shadow: 0px 1px 2px rgba(60, 64, 67, 0.3), 0px 1px 3px 1px rgba(60, 64, 67, 0.15);\n",
              "      fill: #174EA6;\n",
              "    }\n",
              "\n",
              "    [theme=dark] .colab-df-convert {\n",
              "      background-color: #3B4455;\n",
              "      fill: #D2E3FC;\n",
              "    }\n",
              "\n",
              "    [theme=dark] .colab-df-convert:hover {\n",
              "      background-color: #434B5C;\n",
              "      box-shadow: 0px 1px 3px 1px rgba(0, 0, 0, 0.15);\n",
              "      filter: drop-shadow(0px 1px 2px rgba(0, 0, 0, 0.3));\n",
              "      fill: #FFFFFF;\n",
              "    }\n",
              "  </style>\n",
              "\n",
              "      <script>\n",
              "        const buttonEl =\n",
              "          document.querySelector('#df-20b36cc4-52f4-4c2a-9b8a-0ce6b34fcba0 button.colab-df-convert');\n",
              "        buttonEl.style.display =\n",
              "          google.colab.kernel.accessAllowed ? 'block' : 'none';\n",
              "\n",
              "        async function convertToInteractive(key) {\n",
              "          const element = document.querySelector('#df-20b36cc4-52f4-4c2a-9b8a-0ce6b34fcba0');\n",
              "          const dataTable =\n",
              "            await google.colab.kernel.invokeFunction('convertToInteractive',\n",
              "                                                     [key], {});\n",
              "          if (!dataTable) return;\n",
              "\n",
              "          const docLinkHtml = 'Like what you see? Visit the ' +\n",
              "            '<a target=\"_blank\" href=https://colab.research.google.com/notebooks/data_table.ipynb>data table notebook</a>'\n",
              "            + ' to learn more about interactive tables.';\n",
              "          element.innerHTML = '';\n",
              "          dataTable['output_type'] = 'display_data';\n",
              "          await google.colab.output.renderOutput(dataTable, element);\n",
              "          const docLink = document.createElement('div');\n",
              "          docLink.innerHTML = docLinkHtml;\n",
              "          element.appendChild(docLink);\n",
              "        }\n",
              "      </script>\n",
              "    </div>\n",
              "  </div>\n",
              "  "
            ]
          },
          "metadata": {},
          "execution_count": 7
        }
      ]
    },
    {
      "cell_type": "markdown",
      "source": [
        "# Encoding Tags\n",
        "Tags in this dataset is a categorical feature and since all ML algorithms need data in numerical form, we would also need to convert the 'Tags' column in categorical numerical values.  But since the column contains multiple values a.k.a 'Tags', we cannot use any of the traditional categorical encoding like Label Encoder or One Hot Encoder or Pandas get_dummies.\n",
        "\n",
        "## Multilabel Binarizer\n",
        "This allows to encode more than one label at the same time.  This is particularly used when a categorical column has more than 1 value, like we have in our dataset.  "
      ],
      "metadata": {
        "id": "Mhw_ule3AbDh"
      }
    },
    {
      "cell_type": "code",
      "source": [
        "multilabelBinarizer = MultiLabelBinarizer()\n",
        "tagsEncodedArray = multilabelBinarizer.fit_transform(df_stackoverflow['Tags'])\n",
        "tagsEncodedArray"
      ],
      "metadata": {
        "colab": {
          "base_uri": "https://localhost:8080/"
        },
        "id": "Y5V5oEG6_2wW",
        "outputId": "df46b071-6920-44a6-d214-2e7c50b63716"
      },
      "execution_count": 8,
      "outputs": [
        {
          "output_type": "execute_result",
          "data": {
            "text/plain": [
              "array([[0, 0, 1, ..., 0, 0, 1],\n",
              "       [1, 0, 0, ..., 0, 0, 0],\n",
              "       [0, 0, 0, ..., 0, 0, 0],\n",
              "       ...,\n",
              "       [0, 0, 0, ..., 0, 0, 0],\n",
              "       [0, 0, 0, ..., 0, 0, 0],\n",
              "       [0, 0, 0, ..., 0, 0, 0]])"
            ]
          },
          "metadata": {},
          "execution_count": 8
        }
      ]
    },
    {
      "cell_type": "code",
      "source": [
        "multilabelBinarizer.classes_"
      ],
      "metadata": {
        "colab": {
          "base_uri": "https://localhost:8080/"
        },
        "id": "FWIvukyXBjNU",
        "outputId": "2e174dad-c438-4d4d-b649-88e7c80f523a"
      },
      "execution_count": 9,
      "outputs": [
        {
          "output_type": "execute_result",
          "data": {
            "text/plain": [
              "array(['.net', 'android', 'asp.net', 'c', 'c#', 'c++', 'css', 'html',\n",
              "       'ios', 'iphone', 'java', 'javascript', 'jquery', 'mysql',\n",
              "       'objective-c', 'php', 'python', 'ruby', 'ruby-on-rails', 'sql'],\n",
              "      dtype=object)"
            ]
          },
          "metadata": {},
          "execution_count": 9
        }
      ]
    },
    {
      "cell_type": "code",
      "source": [],
      "metadata": {
        "id": "hdIosu78BvIo"
      },
      "execution_count": 9,
      "outputs": []
    },
    {
      "cell_type": "markdown",
      "source": [
        "# Vectorize the Text\n",
        "\n",
        "\"Word Embeddings or Word vectorization is a methodology in NLP to map words or phrases from vocabulary to a corresponding vector of real numbers which used to find word predictions, word similarities/semantics.\"\n",
        "\n",
        "\"The process of converting words into numbers are called Vectorization.\"\n",
        "\n",
        "Out of the many ways to do vectorization like Count Vectorizer, Term Frequency Vectorizer or Hashing Vectorizer, we will use the Term Frequency Inverse Document Frequency Vectorizer (TfidfVectorizer).\n",
        "\n",
        "\"TF-IDF is a statistical measure that evaluates how relevant a word is to a document in a collection of documents.\"\n",
        "\n",
        "\n",
        "\n",
        "References: https://towardsdatascience.com/understanding-nlp-word-embeddings-text-vectorization-1a23744f7223"
      ],
      "metadata": {
        "id": "h5WVDbYOCGoh"
      }
    },
    {
      "cell_type": "code",
      "source": [
        "termFrequencyVectorizer = TfidfVectorizer(analyzer='word', max_features=10000, ngram_range=(1,3), stop_words='english', max_df=.5)\n",
        "contentVectorArray = termFrequencyVectorizer.fit_transform(df_stackoverflow['Text'])"
      ],
      "metadata": {
        "id": "ggD0lQS3C8c9"
      },
      "execution_count": 21,
      "outputs": []
    },
    {
      "cell_type": "code",
      "source": [
        "contentVectorArray.shape, tagsEncodedArray.shape"
      ],
      "metadata": {
        "colab": {
          "base_uri": "https://localhost:8080/"
        },
        "id": "DiJPayC4D1G9",
        "outputId": "f62da8e0-b37e-4353-e0e1-907e2235237e"
      },
      "execution_count": 22,
      "outputs": [
        {
          "output_type": "execute_result",
          "data": {
            "text/plain": [
              "((48976, 10000), (48976, 20))"
            ]
          },
          "metadata": {},
          "execution_count": 22
        }
      ]
    },
    {
      "cell_type": "markdown",
      "source": [
        "# Split dataset\n",
        "The tfidf vector and encoded tags will be the input to the ML models.  The dataset needs to be split to use for training and use some for testing.  "
      ],
      "metadata": {
        "id": "wraVBlW4EhFT"
      }
    },
    {
      "cell_type": "code",
      "source": [
        "content_X_train, content_X_test, tags_y_train, tags_y_test = train_test_split(contentVectorArray, tagsEncodedArray, test_size = 0.2, random_state = 0)"
      ],
      "metadata": {
        "id": "H8WXAuS7ETfo"
      },
      "execution_count": 23,
      "outputs": []
    },
    {
      "cell_type": "markdown",
      "source": [
        "# Multi-Label Model Building"
      ],
      "metadata": {
        "id": "pJwtBHIdHPHW"
      }
    },
    {
      "cell_type": "code",
      "source": [
        "sgd = SGDClassifier()\n",
        "lr = LogisticRegression(solver='lbfgs')\n",
        "svc = LinearSVC()"
      ],
      "metadata": {
        "id": "iOYy7mSdFMa0"
      },
      "execution_count": 24,
      "outputs": []
    },
    {
      "cell_type": "markdown",
      "source": [
        "The LinearSVC , SGDClassifier or Logistic Regression are basically binary classification models.  Multi-label classification problems are basically solved by splitting the classification into multiple binary classifications and then comparing the results of each classification against the others.  So for multi-label classification scenario, we need classifier models that fit one class(tag) against the other classes in the dataset.\n",
        "\n",
        "The OneVsRestClassifier allows us to do multi-label classification using classifiers that natively support only binary classification."
      ],
      "metadata": {
        "id": "63A5kNq9HfzI"
      }
    },
    {
      "cell_type": "code",
      "source": [
        "def j_score(y_true, tags_y_pred):\n",
        "  jaccard = np.minimum(y_true, tags_y_pred).sum(axis = 1)/np.maximum(y_true, tags_y_pred).sum(axis = 1)\n",
        "  return jaccard.mean()*100\n",
        "\n",
        "def hamming_score(tags_y_test, tags_y_pred):\n",
        "\n",
        "  acc_list = []\n",
        "  for i in range(tags_y_test.shape[0]):\n",
        "    true_set = set( np.where(tags_y_test[i])[0] )\n",
        "    prediction_set = set( np.where(tags_y_pred[i])[0] )\n",
        "    tmp_a = None\n",
        "    if len(true_set) == 0 and len(prediction_set) == 0:\n",
        "      tmp_a = 1\n",
        "    else:\n",
        "      tmp_a = len(true_set.intersection(prediction_set))/\\\n",
        "              float( len(true_set.union(prediction_set)) )\n",
        "    acc_list.append(tmp_a)\n",
        "\n",
        "  return np.mean(acc_list)\n",
        "\n",
        "def print_score(tags_y_pred, clf):\n",
        "  print(\"Clf: \", clf.__class__.__name__)\n",
        "  print('Jacard score: {}'.format(j_score(tags_y_test, tags_y_pred)))\n",
        "  print('Hamming loss: {}'.format(hamming_score(tags_y_test, tags_y_pred)))\n",
        "  print('----')"
      ],
      "metadata": {
        "id": "3zCCFPpzHVL4"
      },
      "execution_count": 25,
      "outputs": []
    },
    {
      "cell_type": "code",
      "source": [
        "for classifier in [LinearSVC(C=1.5, penalty = 'l1', dual=False)]:\n",
        "  clf = OneVsRestClassifier(classifier)\n",
        "  clf.fit(content_X_train, tags_y_train)\n",
        "  tags_y_pred = clf.predict(content_X_test)\n",
        "  print_score(tags_y_pred, classifier)\n",
        "\n",
        "for classifier in [sgd, lr, svc]:\n",
        "  clf = OneVsRestClassifier(classifier)\n",
        "  clf.fit(content_X_train, tags_y_train)\n",
        "  tags_y_pred = clf.predict(content_X_test)\n",
        "  print_score(tags_y_pred, classifier)"
      ],
      "metadata": {
        "colab": {
          "base_uri": "https://localhost:8080/"
        },
        "id": "UAtq4Wwwi5PD",
        "outputId": "188869db-1752-4099-859c-b51068ad195c"
      },
      "execution_count": 26,
      "outputs": [
        {
          "output_type": "stream",
          "name": "stdout",
          "text": [
            "Clf:  LinearSVC\n",
            "Jacard score: 63.876071866067775\n",
            "Hamming loss: 0.6387607186606777\n",
            "----\n",
            "Clf:  SGDClassifier\n",
            "Jacard score: 52.71148087654826\n",
            "Hamming loss: 0.5271148087654826\n",
            "----\n"
          ]
        },
        {
          "output_type": "stream",
          "name": "stderr",
          "text": [
            "/usr/local/lib/python3.7/dist-packages/sklearn/linear_model/_logistic.py:818: ConvergenceWarning: lbfgs failed to converge (status=1):\n",
            "STOP: TOTAL NO. of ITERATIONS REACHED LIMIT.\n",
            "\n",
            "Increase the number of iterations (max_iter) or scale the data as shown in:\n",
            "    https://scikit-learn.org/stable/modules/preprocessing.html\n",
            "Please also refer to the documentation for alternative solver options:\n",
            "    https://scikit-learn.org/stable/modules/linear_model.html#logistic-regression\n",
            "  extra_warning_msg=_LOGISTIC_SOLVER_CONVERGENCE_MSG,\n"
          ]
        },
        {
          "output_type": "stream",
          "name": "stdout",
          "text": [
            "Clf:  LogisticRegression\n",
            "Jacard score: 51.1014699877501\n",
            "Hamming loss: 0.511014699877501\n",
            "----\n",
            "Clf:  LinearSVC\n",
            "Jacard score: 62.42105621342044\n",
            "Hamming loss: 0.6242105621342044\n",
            "----\n"
          ]
        }
      ]
    },
    {
      "cell_type": "code",
      "source": [
        "x = ['adding scripting functionality to net applications i have a little game written in c it uses a database as backend it is a trading card game and i wanted to implement the function of the cards as a scriptwhat i mean is that i essentially have an interface icard which a card class implements public class card056 icard and which contains function that are called by the gamenow to make the thing maintainablemoddable i would like to have the class for each card as source code in the database and essentially compile it on first use so when i have to addchange a card i will just add it to the database and tell my application to refresh without needing any assembly deployment especially since we would be talking about 1 assembly per card which means hundreds of assembliesis that possible register a class from a source file and then instantiate it etcicard cardscurrent new mygamecardlibrarycard056cardscurrentonenterplayref currentgamestatethe language is c but extra bonus if it is possible to write the script in any net language']\n",
        "x = ['mysqlapache error in php mysql query i am getting the following erroraccess denied for user apachelocalhost using password nowhen using the following codephpincludeincludesconnectphpquery select from storyresult mysql queryquery or diemysql errorecho h1delete storyh1if mysql num rowsresult 0 whilerow mysql fetch rowresult echo brow1bspan alignrighta hrefprocessdelete storyphpidrow0deleteaspan echo br irow2i else echo no stories availablethe connectphp file contains my mysql connect calls that are working fine with my insert queries in another portion of the software if i comment out the result mysql query line then it goes through to the else statement so it is that line or the content in the ifi have been searching the net for any solutions and most seem to be related to too many mysql connections or that the user i am logging into mysql as does not have permission i have checked both i can still perform my other queries elsewhere in the software and i have verified that the account has the correct permissions']\n",
        "x = ['how should i unit test a codegenerator this is a difficult and openended question i know but i thought i would throw it to the floor and see if anyone had any interesting suggestionsi have developed a codegenerator that takes our python interface to our c code generated via swig and generates code needed to expose this as webservices when i developed this code i did it using tdd but i have found my tests to be brittle as hell because each test essentially wanted to verify that for a given bit of input code which happens to be a c header i would get a given bit of outputted code i wrote a small engine that reads test definitions from xml input files and generates test cases from these expectationsthe problem is i dread going in to modify the code at all that and the fact that the unit tests themselves are a complex and b brittleso i am trying to think of alternative approaches to this problem and it strikes me i am perhaps tackling it the wrong way maybe i need to focus more on the outcome ie does the code i generate actually run and do what i want it to rather than does the code look the way i want it tohas anyone got any experiences of something similar to this they would care to share']\n",
        "xt = termFrequencyVectorizer.transform(x)\n",
        "clf.predict(xt)\n",
        "multilabelBinarizer.inverse_transform(clf.predict(xt))"
      ],
      "metadata": {
        "colab": {
          "base_uri": "https://localhost:8080/"
        },
        "id": "lnE62KtpImSG",
        "outputId": "7f71e11e-7132-4b4c-9a20-f4beee0e4150"
      },
      "execution_count": 34,
      "outputs": [
        {
          "output_type": "execute_result",
          "data": {
            "text/plain": [
              "[('c#', 'python')]"
            ]
          },
          "metadata": {},
          "execution_count": 34
        }
      ]
    },
    {
      "cell_type": "code",
      "source": [
        "import gzip\n",
        "import pickle\n",
        "\n",
        "model_pickle_out = open(\"clf.pkl\", \"wb\")\n",
        "pickle.dump(clf, model_pickle_out)\n",
        "model_pickle_out.close() "
      ],
      "metadata": {
        "id": "thW3P91-K3eu"
      },
      "execution_count": 35,
      "outputs": []
    },
    {
      "cell_type": "code",
      "source": [
        "tfidf_pickle_out = gzip.open(\"tfidf.pkl\", \"wb\")\n",
        "pickle.dump(termFrequencyVectorizer, tfidf_pickle_out)\n",
        "tfidf_pickle_out.close() "
      ],
      "metadata": {
        "id": "aRYSHZfQirxO"
      },
      "execution_count": 37,
      "outputs": []
    },
    {
      "cell_type": "code",
      "source": [
        "mlBinarizer_pickle_out = open(\"multiLabelBinarizer.pkl\", \"wb\")\n",
        "pickle.dump(multilabelBinarizer, mlBinarizer_pickle_out)\n",
        "mlBinarizer_pickle_out.close() "
      ],
      "metadata": {
        "id": "0KPooyvWiv2b"
      },
      "execution_count": 38,
      "outputs": []
    },
    {
      "cell_type": "code",
      "source": [
        "model = pickle.load(open('clf.pkl', 'rb'))\n",
        "fp = gzip.open('tfidf.pkl', 'rb')\n",
        "tfidf = pickle.load(fp)\n",
        "mlB = pickle.load(open('multiLabelBinarizer.pkl', 'rb'))"
      ],
      "metadata": {
        "id": "fYxWIWfWPK1Z"
      },
      "execution_count": 39,
      "outputs": []
    },
    {
      "cell_type": "code",
      "source": [
        "x = [ 'homegrown consumption of web services i have microsoft ssdprogramming to use I dont know what this may not be working in net']\n",
        "xt = tfidf.transform(x)\n",
        "\n",
        "prediction = model.predict(xt)\n",
        "mlB.inverse_transform(prediction)"
      ],
      "metadata": {
        "id": "OHhaQnw0Pe0v"
      },
      "execution_count": 40,
      "outputs": []
    },
    {
      "cell_type": "code",
      "source": [
        "type(x)"
      ],
      "metadata": {
        "colab": {
          "base_uri": "https://localhost:8080/"
        },
        "id": "6op-GtrQuPAJ",
        "outputId": "afdc249a-0c8b-42d2-b8c8-033ae9e8cf8d"
      },
      "execution_count": 41,
      "outputs": [
        {
          "output_type": "execute_result",
          "data": {
            "text/plain": [
              "list"
            ]
          },
          "metadata": {},
          "execution_count": 41
        }
      ]
    },
    {
      "cell_type": "code",
      "source": [
        "model_objects = []\n",
        "model_objects.append(clf)\n",
        "model_objects.append(termFrequencyVectorizer)\n",
        "model_objects.append(multilabelBinarizer)\n",
        "\n",
        "model_all_pickle = gzip.open(\"model_all.pkl\", \"wb\")\n",
        "pickle.dump(model_objects, model_all_pickle)\n",
        "model_all_pickle.close()"
      ],
      "metadata": {
        "id": "RIjHFzjnPog7"
      },
      "execution_count": 42,
      "outputs": []
    },
    {
      "cell_type": "code",
      "source": [
        "fp = gzip.open('model_all.pkl', 'rb')\n",
        "model = pickle.load(fp)"
      ],
      "metadata": {
        "id": "8WKKjsmz4uM9"
      },
      "execution_count": 20,
      "outputs": []
    },
    {
      "cell_type": "code",
      "source": [
        "type(model)"
      ],
      "metadata": {
        "colab": {
          "base_uri": "https://localhost:8080/"
        },
        "id": "Yvhujv-E4_CZ",
        "outputId": "8b009968-df4b-4dee-90cf-52f32b63b33b"
      },
      "execution_count": 21,
      "outputs": [
        {
          "output_type": "execute_result",
          "data": {
            "text/plain": [
              "list"
            ]
          },
          "metadata": {},
          "execution_count": 21
        }
      ]
    },
    {
      "cell_type": "code",
      "source": [
        "print(model)"
      ],
      "metadata": {
        "colab": {
          "base_uri": "https://localhost:8080/"
        },
        "id": "T83ahyeR5G-3",
        "outputId": "3681c014-5050-45f1-9fb3-dc98b64c6ab4"
      },
      "execution_count": 22,
      "outputs": [
        {
          "output_type": "stream",
          "name": "stdout",
          "text": [
            "[OneVsRestClassifier(estimator=LinearSVC()), TfidfVectorizer(max_features=5000, ngram_range=(1, 3), stop_words='english'), MultiLabelBinarizer()]\n"
          ]
        }
      ]
    },
    {
      "cell_type": "code",
      "source": [
        "m = model[0]"
      ],
      "metadata": {
        "id": "r0ehPosd52NS"
      },
      "execution_count": 23,
      "outputs": []
    },
    {
      "cell_type": "code",
      "source": [
        "t = model[1]\n",
        "ml = model[2]"
      ],
      "metadata": {
        "id": "6zyS5Nqs6Y3o"
      },
      "execution_count": 24,
      "outputs": []
    },
    {
      "cell_type": "code",
      "source": [
        "x = [ 'C .net']\n",
        "xt = t.transform(x)\n",
        "\n",
        "prediction = m.predict(xt)\n",
        "tags = ml.inverse_transform(prediction)"
      ],
      "metadata": {
        "id": "SQXcGKqD6eZi"
      },
      "execution_count": 51,
      "outputs": []
    },
    {
      "cell_type": "code",
      "source": [
        "print(tags[0])"
      ],
      "metadata": {
        "colab": {
          "base_uri": "https://localhost:8080/"
        },
        "id": "cm9ukw_czKRa",
        "outputId": "54344172-6cdb-4885-9d0e-b3fedb6d2237"
      },
      "execution_count": 52,
      "outputs": [
        {
          "output_type": "stream",
          "name": "stdout",
          "text": [
            "('.net', 'c#')\n"
          ]
        }
      ]
    },
    {
      "cell_type": "code",
      "source": [
        "tags.append('a')"
      ],
      "metadata": {
        "id": "wZFyJhHSzLlP"
      },
      "execution_count": 35,
      "outputs": []
    },
    {
      "cell_type": "code",
      "source": [
        "print(tags[0])"
      ],
      "metadata": {
        "colab": {
          "base_uri": "https://localhost:8080/"
        },
        "id": "-tzeoQJVzQNd",
        "outputId": "6f1b57d9-ba36-47a1-b787-a70e30563891"
      },
      "execution_count": 38,
      "outputs": [
        {
          "output_type": "stream",
          "name": "stdout",
          "text": [
            "('.net', 'c#')\n"
          ]
        }
      ]
    },
    {
      "cell_type": "code",
      "source": [
        "list(tags[0])"
      ],
      "metadata": {
        "colab": {
          "base_uri": "https://localhost:8080/"
        },
        "id": "KDzhYhYTzXx2",
        "outputId": "37bee4bd-aabb-440a-d6eb-80a1bb54e098"
      },
      "execution_count": 41,
      "outputs": [
        {
          "output_type": "execute_result",
          "data": {
            "text/plain": [
              "['.net', 'c#']"
            ]
          },
          "metadata": {},
          "execution_count": 41
        }
      ]
    },
    {
      "cell_type": "code",
      "source": [],
      "metadata": {
        "id": "FWOQFnd9z056"
      },
      "execution_count": null,
      "outputs": []
    }
  ]
}
